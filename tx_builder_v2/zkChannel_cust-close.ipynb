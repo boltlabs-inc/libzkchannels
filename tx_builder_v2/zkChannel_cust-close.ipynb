{
 "cells": [
  {
   "cell_type": "code",
   "execution_count": 1,
   "metadata": {
    "code_folding": [
     9,
     14,
     18
    ]
   },
   "outputs": [],
   "source": [
    "import base58\n",
    "import binascii\n",
    "import ecdsa\n",
    "import hashlib\n",
    "import json\n",
    "import os\n",
    "import subprocess\n",
    "import time\n",
    "\n",
    "def dSHA256(data):\n",
    "    hash_1 = hashlib.sha256(data).digest()\n",
    "    hash_2 = hashlib.sha256(hash_1).digest()\n",
    "    return hash_2\n",
    "\n",
    "def hash160(s):\n",
    "    '''sha256 followed by ripemd160'''\n",
    "    return hashlib.new('ripemd160', hashlib.sha256(s).digest()).digest()\n",
    "\n",
    "def privkey_to_pubkey(privkey):\n",
    "    signing_key = ecdsa.SigningKey.from_string(privkey, curve=ecdsa.SECP256k1) # Don't forget to specify the curve\n",
    "    verifying_key = signing_key.get_verifying_key()\n",
    "\n",
    "    # Use this code block if the address you gave corresponds to the compressed public key\n",
    "    x_cor = bytes.fromhex(verifying_key.to_string().hex())[:32] # The first 32 bytes are the x coordinate\n",
    "    y_cor = bytes.fromhex(verifying_key.to_string().hex())[32:] # The last 32 bytes are the y coordinate\n",
    "    if int.from_bytes(y_cor, byteorder=\"big\", signed=True) % 2 == 0: # We need to turn the y_cor into a number.\n",
    "        public_key = bytes.fromhex(\"02\" + x_cor.hex())\n",
    "    else:\n",
    "        public_key = bytes.fromhex(\"03\" + x_cor.hex())\n",
    "    return public_key"
   ]
  },
  {
   "cell_type": "code",
   "execution_count": 2,
   "metadata": {
    "code_folding": [
     0
    ]
   },
   "outputs": [],
   "source": [
    "# Functions related to generating bitcoin addresses\n",
    "\n",
    "def encode_base58(s):\n",
    "    BASE58_ALPHABET = '123456789ABCDEFGHJKLMNPQRSTUVWXYZabcdefghijkmnopqrstuvwxyz'\n",
    "    count = 0\n",
    "    for c in s:  \n",
    "        if c == 0:\n",
    "            count += 1\n",
    "        else:\n",
    "            break\n",
    "    num = int.from_bytes(s, 'big')\n",
    "    prefix = '1' * count\n",
    "    result = ''\n",
    "    while num > 0:  \n",
    "        num, mod = divmod(num, 58)\n",
    "        result = BASE58_ALPHABET[mod] + result\n",
    "    return prefix + result\n",
    "\n",
    "def encode_base58_checksum(b):\n",
    "    return encode_base58(b + dSHA256(b)[:4])\n",
    "\n",
    "# https://en.bitcoin.it/wiki/Wallet_import_format\n",
    "def privkey_to_wif(privkey, compressed_pubkey, testnet):\n",
    "    if testnet:\n",
    "        prefix = b\"\\xEF\"\n",
    "    else:\n",
    "        prefix = b\"\\x80\"\n",
    "    \n",
    "    # if the privkey will correspond to a compressed public key\n",
    "    if compressed_pubkey: \n",
    "        extended = prefix + privkey + b\"\\x01\"\n",
    "    else:\n",
    "        extended = prefix + privkey \n",
    "        \n",
    "    extendedchecksum = extended + dSHA256(extended)[:4]\n",
    "    wif = encode_base58(extendedchecksum)\n",
    "    \n",
    "    return wif\n",
    "\n",
    "# https://learnmeabitcoin.com/guide/wif\n",
    "def wif_to_privkey(private_key_WIF):\n",
    "    private_key_full = base58.b58decode(private_key_WIF)\n",
    "    \n",
    "    # If the WIF encoding includes the optional \"01\" byte for compressed privKey,\n",
    "    # do not include it in the final output.\n",
    "    if len(private_key_full) == 38:\n",
    "        private_key = private_key_full[1:-5] \n",
    "        print(\"compressed pubkey\")\n",
    "    else:\n",
    "        private_key = private_key_full[1:-4] \n",
    "        print(\"not compressed pubkey\")\n",
    "    return private_key\n",
    "\n",
    "\n",
    "def pk_to_p2pkh(compressed, testnet):\n",
    "    '''Returns the address string'''\n",
    "    pk_hash = hash160(compressed)\n",
    "    if testnet:\n",
    "        prefix = b'\\x6f'\n",
    "    else:\n",
    "        prefix = b'\\x00'\n",
    "    return encode_base58_checksum(prefix + pk_hash)\n",
    "\n",
    "def pk_to_p2sh_p2wpkh(compressed, testnet):\n",
    "    pk_hash = hash160(compressed)\n",
    "    redeemScript = bytes.fromhex(f\"0014{pk_hash.hex()}\")\n",
    "    rs_hash = hash160(redeemScript)\n",
    "    if testnet:\n",
    "        prefix = b\"\\xc4\"\n",
    "    else:\n",
    "        prefix = b\"\\x05\"\n",
    "    return encode_base58_checksum(prefix + rs_hash)\n",
    "\n",
    "def wif_to_addresses(wif):\n",
    "#     wif = \"cUy9rC6wteKizfu1fgP2abKUWTkJxjqKp2fba91FkU332CFHo6ix\"\n",
    "    privkey = wif_to_privkey(wif)\n",
    "    public_key = privkey_to_pubkey(privkey)\n",
    "    p2pkh_address = pk_to_p2pkh(public_key, testnet = True)\n",
    "    p2sh_p2wpkh_address = pk_to_p2sh_p2wpkh(public_key, testnet = True)\n",
    "\n",
    "    print(\"WIF Private key: \" + wif)\n",
    "    print(\"Private key: \" + privkey.hex())\n",
    "    print(\"Public key: \" + public_key.hex())\n",
    "    print(\"Public key hash: \" + hash160(public_key).hex())\n",
    "    print(\"Address: \" + p2pkh_address)\n",
    "    print(\"Address: \" + p2sh_p2wpkh_address)\n",
    "    \n",
    "def privkey_to_addresses(privkey):\n",
    "    # privkey = bytes.fromhex(\"AF933A6C602069F1CBC85990DF087714D7E86DF0D0E48398B7D8953E1F03534A\")\n",
    "    public_key = privkey_to_pubkey(privkey)\n",
    "    p2pkh_address = pk_to_p2pkh(public_key, testnet = True)\n",
    "    p2sh_p2wpkh_address = pk_to_p2sh_p2wpkh(public_key, testnet = True)\n",
    "\n",
    "    print(\"Private key: \" + privkey.hex())\n",
    "    print(\"Public key: \" + public_key.hex())\n",
    "    print(\"Public key hash: \" + hash160(public_key).hex())\n",
    "    print(\"Address: \" + p2pkh_address)\n",
    "    print(\"Address: \" + p2sh_p2wpkh_address)"
   ]
  },
  {
   "cell_type": "markdown",
   "metadata": {},
   "source": [
    "# Updated Cust close v1"
   ]
  },
  {
   "cell_type": "markdown",
   "metadata": {},
   "source": [
    "Generate all the priv/public keys"
   ]
  },
  {
   "cell_type": "code",
   "execution_count": 3,
   "metadata": {},
   "outputs": [],
   "source": [
    "funding_privkey_hex = \"1111111111111111111111111111111100000000000000000000000000000000\"\n",
    "funding_pubkey_hex = privkey_to_pubkey(bytes.fromhex(funding_privkey_hex)).hex()\n",
    "\n",
    "change_privkey_hex = \"1111111111111111111111111111111111111111111111111111111111111111\"\n",
    "change_pubkey_hex = privkey_to_pubkey(bytes.fromhex(change_privkey_hex)).hex()\n",
    "\n",
    "merch_privkey_hex = \"3911111111111111111111111111111111111111111111111111111111111111\"\n",
    "merch_pubkey_hex = privkey_to_pubkey(bytes.fromhex(merch_privkey_hex)).hex()\n",
    "\n",
    "cust_privkey_hex = \"7911111111111111111111111111111111111111111111111111111111111111\"\n",
    "cust_pubkey_hex = privkey_to_pubkey(bytes.fromhex(cust_privkey_hex)).hex()\n",
    "\n",
    "cust_payout_privkey_hex = \"7711111111111111111111111111111111111111111111111111111111111111\"\n",
    "cust_payout_pubkey_hex = privkey_to_pubkey(bytes.fromhex(cust_payout_privkey_hex)).hex()\n",
    "\n",
    "\n",
    "merch_payout_privkey_hex = \"3711111111111111111111111111111111111111111111111111111111111111\"\n",
    "merch_payout_pubkey_hex = privkey_to_pubkey(bytes.fromhex(merch_payout_privkey_hex)).hex()\n",
    "\n",
    "merch_disp_privkey_hex = \"3111111111111111111111111111111111111111111111111111111111111111\"\n",
    "merch_disp_pubkey_hex = privkey_to_pubkey(bytes.fromhex(merch_disp_privkey_hex)).hex()\n",
    "\n",
    "revocation_secret_hex = \"4011111111111111111111111111111111111111111111111111111111111111\"\n",
    "RL = hashlib.sha256(bytes.fromhex(revocation_secret_hex)).digest()\n",
    "revocation_lock_hex = RL.hex()\n",
    "\n",
    "merch_cpfp_privkey_hex = \"2222222222222222222222222222222277777777777777777777777777777777\"\n",
    "merch_cpfp_pubkey_hex = privkey_to_pubkey(bytes.fromhex(merch_cpfp_privkey_hex)).hex()\n",
    "\n",
    "merch_fee_privkey_hex = \"2222222222222222222222222222222266666666666666666666666666666666\"\n",
    "merch_fee_pubkey_hex = privkey_to_pubkey(bytes.fromhex(merch_fee_privkey_hex)).hex()"
   ]
  },
  {
   "cell_type": "markdown",
   "metadata": {},
   "source": [
    "Start up regtest mode, delete any history so we are starting from scratch.\n",
    "Mine 101 blocks"
   ]
  },
  {
   "cell_type": "code",
   "execution_count": 4,
   "metadata": {
    "code_folding": []
   },
   "outputs": [
    {
     "name": "stdout",
     "output_type": "stream",
     "text": [
      "blockcount: 101\n"
     ]
    }
   ],
   "source": [
    "# Make sure bitcoind is not already running\n",
    "os.system(\"bitcoin-cli -regtest stop\")\n",
    "time.sleep(1.5) \n",
    "\n",
    "# Delete any previous files to restart regtest\n",
    "os.system(\"rm -rfv $HOME/Library/Application\\ Support/Bitcoin/regtest/\")\n",
    "\n",
    "# start up bitcoind in regtest mode\n",
    "os.system(\"bitcoind -regtest -daemon -minrelaytxfee=0\")\n",
    "time.sleep(1.5)\n",
    "\n",
    "# generate 101 blocks so we can fund transactions\n",
    "os.system(\"bitcoin-cli -regtest generate 101\")\n",
    "blockcount = subprocess.getoutput(\"bitcoin-cli -regtest getblockcount\")\n",
    "\n",
    "print(\"blockcount: \" + str(blockcount))"
   ]
  },
  {
   "cell_type": "markdown",
   "metadata": {},
   "source": [
    "Generate base58 address for the escrow funder"
   ]
  },
  {
   "cell_type": "code",
   "execution_count": 5,
   "metadata": {},
   "outputs": [
    {
     "name": "stdout",
     "output_type": "stream",
     "text": [
      "Address: 2MuuVDMJqfh2J9iS3DtfUeU1tEfff1SNahi\n"
     ]
    }
   ],
   "source": [
    "# Generate p2sh-p2wpkh address to fund the escrow funder\n",
    "privkey = bytes.fromhex(funding_privkey_hex)\n",
    "public_key = privkey_to_pubkey(privkey)\n",
    "p2sh_p2wpkh_address = pk_to_p2sh_p2wpkh(public_key, testnet = True)\n",
    "\n",
    "# print(\"Private key: \" + privkey.hex())\n",
    "# print(\"Public key: \" + public_key.hex())\n",
    "print(\"Address: \" + p2sh_p2wpkh_address)"
   ]
  },
  {
   "cell_type": "markdown",
   "metadata": {},
   "source": [
    "Send btc to the escrow funder"
   ]
  },
  {
   "cell_type": "code",
   "execution_count": 6,
   "metadata": {},
   "outputs": [
    {
     "name": "stdout",
     "output_type": "stream",
     "text": [
      "680b9d652406091413425d91963312383d4cfe8562db20c4932c184c035faa91\n"
     ]
    }
   ],
   "source": [
    "txid_1 = subprocess.getoutput(\"bitcoin-cli -regtest sendtoaddress \" + p2sh_p2wpkh_address + \" 3.0\")\n",
    "print(txid_1)"
   ]
  },
  {
   "cell_type": "code",
   "execution_count": 7,
   "metadata": {},
   "outputs": [
    {
     "name": "stdout",
     "output_type": "stream",
     "text": [
      "index: 1\n"
     ]
    }
   ],
   "source": [
    "# Find which output index the btc was sent to\n",
    "raw_tx = subprocess.getoutput(\"bitcoin-cli -regtest getrawtransaction \" + txid_1)\n",
    "decoded = subprocess.getoutput(\"bitcoin-cli -regtest decoderawtransaction \" + raw_tx)\n",
    "d = json.loads(decoded)\n",
    "# print(decoded)\n",
    "\n",
    "if d[\"vout\"][0][\"scriptPubKey\"][\"addresses\"][0] == p2sh_p2wpkh_address:\n",
    "    index = 0\n",
    "else:\n",
    "    index = 1\n",
    "print(\"index: \" + str(index))"
   ]
  },
  {
   "cell_type": "code",
   "execution_count": 8,
   "metadata": {},
   "outputs": [],
   "source": [
    "os.system(\"bitcoin-cli -regtest generate 1\");"
   ]
  },
  {
   "cell_type": "markdown",
   "metadata": {},
   "source": [
    "Generate raw escrow funding transaction"
   ]
  },
  {
   "cell_type": "code",
   "execution_count": 9,
   "metadata": {},
   "outputs": [
    {
     "name": "stdout",
     "output_type": "stream",
     "text": [
      "0200000000010191aa5f034c182c93c420db6285fe4c3d38123396915d421314090624659d0b680100000017160014578dd1183845e18d42f90b1a9f3a464675ad2440ffffffff0200c2eb0b00000000220020666c6bfa88ba97c90cb04c7038d56b5854e71a4dd174d79b1260c822a14f791e00e1f50500000000160014fc7250a211deddc70ee5a2738de5f07817351cef02483045022100befd1551a11b91e82dd8c312ad0afd57125d8c92f9c9e1eb9b637bd84aad0989022007fdd43d00bd47738e7a5bf4aee91641410c7a55a29c63b6fe70f23c8328d7d30121021d5c5194a62b272f98a7d8321e4b3a03add9d61d13a15a00123888b81850cee200000000\n"
     ]
    }
   ],
   "source": [
    "raw_escrow_tx = subprocess.getoutput(\"python funding_tx_with_changev2.py\" \n",
    "                        + \" --txid \" + txid_1\n",
    "                        + \" --index \" + str(index)\n",
    "                        + \" --input_amount_btc \" + \"3.0\"\n",
    "                        + \" --funding_privkey \" + funding_privkey_hex\n",
    "                        + \" --escrow_value_btc \" + \"2\"\n",
    "                        + \" --cust_pubkey \" + cust_pubkey_hex\n",
    "                        + \" --merch_pubkey \" + merch_pubkey_hex\n",
    "                        + \" --cust_change_value_btc \" + \"1\"\n",
    "                        + \" --cust_change_pubkey \" + change_pubkey_hex)\n",
    "print(raw_escrow_tx)"
   ]
  },
  {
   "cell_type": "markdown",
   "metadata": {},
   "source": [
    "Broadcast escrow funding transaction"
   ]
  },
  {
   "cell_type": "code",
   "execution_count": 10,
   "metadata": {},
   "outputs": [
    {
     "name": "stdout",
     "output_type": "stream",
     "text": [
      "5d89995763fa1d74af907abf01bd244104882505cef9bcd7fa77635162c345aa\n"
     ]
    }
   ],
   "source": [
    "escrow_txid = subprocess.getoutput(\"bitcoin-cli -regtest sendrawtransaction \" + raw_escrow_tx + \" true\")\n",
    "# \"true\" flag means we are okay with absurdly high tx fee\n",
    "print(escrow_txid)"
   ]
  },
  {
   "cell_type": "code",
   "execution_count": 11,
   "metadata": {
    "scrolled": false
   },
   "outputs": [],
   "source": [
    "# raw_escrow_tx1 = subprocess.getoutput(\"bitcoin-cli -regtest getrawtransaction \" + escrow_txid)\n",
    "# decoded = subprocess.getoutput(\"bitcoin-cli -regtest decoderawtransaction \" + raw_escrow_tx1)\n",
    "# print(decoded)"
   ]
  },
  {
   "cell_type": "code",
   "execution_count": 12,
   "metadata": {},
   "outputs": [],
   "source": [
    "os.system(\"bitcoin-cli -regtest generate 1\");"
   ]
  },
  {
   "cell_type": "markdown",
   "metadata": {},
   "source": [
    "# Cust-close from escrow"
   ]
  },
  {
   "cell_type": "code",
   "execution_count": 13,
   "metadata": {
    "scrolled": false
   },
   "outputs": [
    {
     "name": "stdout",
     "output_type": "stream",
     "text": [
      "02000000000101aa45c362516377fad7bcf9ce052588044124bd01bf7a90af741dfa635799895d0000000000ffffffff0300e1f5050000000022002067cb20e705c4eb4363194a74d2f743afc1c9ee3cd741d45e21268b16add04f8b00e1f50500000000160014d4354803d10e77eccfc3bf06c152ae694d05d3810000000000000000436a41f8345a21a55dc665b65c8dcfb49488b8e4f337d5c9bb843603f7222a892ce94103195e272df2310ded35f9958fd0c2847bf73b5b429a716c005d465009bd7686410400483045022100db2a7932c1a1d172ab4317be2e48d62d7c3d63fbeb1f8ddb7815e3b7129ad9210220318b76569e69068c99cea66fa1350b2249bae9b32d8717489efb158ae8c5c0b401483045022100b14d7aec705c8a22afab74a93ad3b08a555fe05e19e710ed6c5823c0de4b954002203431bbd7d87367ae1dc85db805e2b00c91e12c392f96dd772d09b91a3ec353570147522102f3d17ca1ac6dcf42b0297a71abb87f79dfa2c66278cbb99c1437e6570643ce902103fc43b44cd953c7b92726ebefe482a272538c7e40fdcde5994a62841525afa8d752ae00000000\n"
     ]
    }
   ],
   "source": [
    "raw_cust_close_tx = subprocess.getoutput(\"python cust_closev2.py\"\n",
    "                + \" --spend_from \" + \"escrow\"\n",
    "                + \" --txid_str \" + escrow_txid\n",
    "                + \" --index \" + \"0\"\n",
    "                + \" --input_amount_btc \" + \"2\"\n",
    "                + \" --cust_privkey \" + cust_privkey_hex\n",
    "                + \" --merch_privkey \" + merch_privkey_hex\n",
    "                + \" --cust_script_value_btc \" + \"1\"\n",
    "                + \" --cust_payout_pubkey \" + cust_payout_pubkey_hex\n",
    "                + \" --merch_payout_value_btc \" + \"1\"\n",
    "                + \" --merch_payout_pubkey \" + merch_payout_pubkey_hex\n",
    "                + \" --revocation_lock \" + revocation_lock_hex\n",
    "                + \" --merch_dispute_pubkey \" + merch_disp_pubkey_hex\n",
    "                + \" --to_self_delay \" + \"05cf\")\n",
    "print(raw_cust_close_tx)\n",
    "\n",
    "\n",
    "\n",
    "decoded = subprocess.getoutput(\"bitcoin-cli -regtest decoderawtransaction \" + raw_cust_close_tx)\n",
    "# print(decoded)"
   ]
  },
  {
   "cell_type": "code",
   "execution_count": 14,
   "metadata": {},
   "outputs": [
    {
     "name": "stdout",
     "output_type": "stream",
     "text": [
      "fd6593d9cfc6cb77086c4119c8dcb9de1c2abea4468887bd874a8d1937d7c09b\n"
     ]
    }
   ],
   "source": [
    "cust_close_txid = subprocess.getoutput(\"bitcoin-cli -regtest sendrawtransaction \" + raw_cust_close_tx + \" true\")\n",
    "print(cust_close_txid)"
   ]
  },
  {
   "cell_type": "code",
   "execution_count": 15,
   "metadata": {},
   "outputs": [],
   "source": [
    "os.system(\"bitcoin-cli -regtest generate 1\");"
   ]
  },
  {
   "cell_type": "code",
   "execution_count": 16,
   "metadata": {},
   "outputs": [],
   "source": [
    "cust_close_tx = subprocess.getoutput(\"bitcoin-cli -regtest getrawtransaction \" + cust_close_txid)\n",
    "decoded = subprocess.getoutput(\"bitcoin-cli -regtest decoderawtransaction \" + cust_close_tx)\n",
    "print(decoded)"
   ]
  }
 ],
 "metadata": {
  "kernelspec": {
   "display_name": "Python 3",
   "language": "python",
   "name": "python3"
  },
  "language_info": {
   "codemirror_mode": {
    "name": "ipython",
    "version": 3
   },
   "file_extension": ".py",
   "mimetype": "text/x-python",
   "name": "python",
   "nbconvert_exporter": "python",
   "pygments_lexer": "ipython3",
   "version": "3.6.8"
  }
 },
 "nbformat": 4,
 "nbformat_minor": 2
}
