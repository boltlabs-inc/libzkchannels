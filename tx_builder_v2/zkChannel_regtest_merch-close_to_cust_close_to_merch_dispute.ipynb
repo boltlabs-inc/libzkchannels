{
 "cells": [
  {
   "cell_type": "code",
   "execution_count": 1,
   "metadata": {
    "code_folding": []
   },
   "outputs": [],
   "source": [
    "import base58\n",
    "import binascii\n",
    "import ecdsa\n",
    "import hashlib\n",
    "import json\n",
    "import os\n",
    "import subprocess\n",
    "import time\n",
    "\n",
    "def dSHA256(data):\n",
    "    hash_1 = hashlib.sha256(data).digest()\n",
    "    hash_2 = hashlib.sha256(hash_1).digest()\n",
    "    return hash_2\n",
    "\n",
    "def hash160(s):\n",
    "    '''sha256 followed by ripemd160'''\n",
    "    return hashlib.new('ripemd160', hashlib.sha256(s).digest()).digest()\n",
    "\n",
    "def privkey_to_pubkey(privkey):\n",
    "    signing_key = ecdsa.SigningKey.from_string(privkey, curve=ecdsa.SECP256k1) # Don't forget to specify the curve\n",
    "    verifying_key = signing_key.get_verifying_key()\n",
    "\n",
    "    # Use this code block if the address you gave corresponds to the compressed public key\n",
    "    x_cor = bytes.fromhex(verifying_key.to_string().hex())[:32] # The first 32 bytes are the x coordinate\n",
    "    y_cor = bytes.fromhex(verifying_key.to_string().hex())[32:] # The last 32 bytes are the y coordinate\n",
    "    if int.from_bytes(y_cor, byteorder=\"big\", signed=True) % 2 == 0: # We need to turn the y_cor into a number.\n",
    "        public_key = bytes.fromhex(\"02\" + x_cor.hex())\n",
    "    else:\n",
    "        public_key = bytes.fromhex(\"03\" + x_cor.hex())\n",
    "    return public_key"
   ]
  },
  {
   "cell_type": "code",
   "execution_count": 2,
   "metadata": {},
   "outputs": [],
   "source": [
    "# Functions related to generating bitcoin addresses\n",
    "\n",
    "def encode_base58(s):\n",
    "    BASE58_ALPHABET = '123456789ABCDEFGHJKLMNPQRSTUVWXYZabcdefghijkmnopqrstuvwxyz'\n",
    "    count = 0\n",
    "    for c in s:  \n",
    "        if c == 0:\n",
    "            count += 1\n",
    "        else:\n",
    "            break\n",
    "    num = int.from_bytes(s, 'big')\n",
    "    prefix = '1' * count\n",
    "    result = ''\n",
    "    while num > 0:  \n",
    "        num, mod = divmod(num, 58)\n",
    "        result = BASE58_ALPHABET[mod] + result\n",
    "    return prefix + result\n",
    "\n",
    "def encode_base58_checksum(b):\n",
    "    return encode_base58(b + dSHA256(b)[:4])\n",
    "\n",
    "# https://en.bitcoin.it/wiki/Wallet_import_format\n",
    "def privkey_to_wif(privkey, compressed_pubkey, testnet):\n",
    "    if testnet:\n",
    "        prefix = b\"\\xEF\"\n",
    "    else:\n",
    "        prefix = b\"\\x80\"\n",
    "    \n",
    "    # if the privkey will correspond to a compressed public key\n",
    "    if compressed_pubkey: \n",
    "        extended = prefix + privkey + b\"\\x01\"\n",
    "    else:\n",
    "        extended = prefix + privkey \n",
    "        \n",
    "    extendedchecksum = extended + dSHA256(extended)[:4]\n",
    "    wif = encode_base58(extendedchecksum)\n",
    "    \n",
    "    return wif\n",
    "\n",
    "# https://learnmeabitcoin.com/guide/wif\n",
    "def wif_to_privkey(private_key_WIF):\n",
    "    private_key_full = base58.b58decode(private_key_WIF)\n",
    "    \n",
    "    # If the WIF encoding includes the optional \"01\" byte for compressed privKey,\n",
    "    # do not include it in the final output.\n",
    "    if len(private_key_full) == 38:\n",
    "        private_key = private_key_full[1:-5] \n",
    "        print(\"compressed pubkey\")\n",
    "    else:\n",
    "        private_key = private_key_full[1:-4] \n",
    "        print(\"not compressed pubkey\")\n",
    "    return private_key\n",
    "\n",
    "\n",
    "def pk_to_p2pkh(compressed, testnet):\n",
    "    '''Returns the address string'''\n",
    "    pk_hash = hash160(compressed)\n",
    "    if testnet:\n",
    "        prefix = b'\\x6f'\n",
    "    else:\n",
    "        prefix = b'\\x00'\n",
    "    return encode_base58_checksum(prefix + pk_hash)\n",
    "\n",
    "def pk_to_p2sh_p2wpkh(compressed, testnet):\n",
    "    pk_hash = hash160(compressed)\n",
    "    redeemScript = bytes.fromhex(f\"0014{pk_hash.hex()}\")\n",
    "    rs_hash = hash160(redeemScript)\n",
    "    if testnet:\n",
    "        prefix = b\"\\xc4\"\n",
    "    else:\n",
    "        prefix = b\"\\x05\"\n",
    "    return encode_base58_checksum(prefix + rs_hash)\n",
    "\n",
    "def wif_to_addresses(wif):\n",
    "#     wif = \"cUy9rC6wteKizfu1fgP2abKUWTkJxjqKp2fba91FkU332CFHo6ix\"\n",
    "    privkey = wif_to_privkey(wif)\n",
    "    public_key = privkey_to_pubkey(privkey)\n",
    "    p2pkh_address = pk_to_p2pkh(public_key, testnet = True)\n",
    "    p2sh_p2wpkh_address = pk_to_p2sh_p2wpkh(public_key, testnet = True)\n",
    "\n",
    "    print(\"WIF Private key: \" + wif)\n",
    "    print(\"Private key: \" + privkey.hex())\n",
    "    print(\"Public key: \" + public_key.hex())\n",
    "    print(\"Public key hash: \" + hash160(public_key).hex())\n",
    "    print(\"Address: \" + p2pkh_address)\n",
    "    print(\"Address: \" + p2sh_p2wpkh_address)\n",
    "    \n",
    "def privkey_to_addresses(privkey):\n",
    "    # privkey = bytes.fromhex(\"AF933A6C602069F1CBC85990DF087714D7E86DF0D0E48398B7D8953E1F03534A\")\n",
    "    public_key = privkey_to_pubkey(privkey)\n",
    "    p2pkh_address = pk_to_p2pkh(public_key, testnet = True)\n",
    "    p2sh_p2wpkh_address = pk_to_p2sh_p2wpkh(public_key, testnet = True)\n",
    "\n",
    "    print(\"Private key: \" + privkey.hex())\n",
    "    print(\"Public key: \" + public_key.hex())\n",
    "    print(\"Public key hash: \" + hash160(public_key).hex())\n",
    "    print(\"Address: \" + p2pkh_address)\n",
    "    print(\"Address: \" + p2sh_p2wpkh_address)"
   ]
  },
  {
   "cell_type": "markdown",
   "metadata": {},
   "source": [
    "# Bitcoin core regtest tx tester\n",
    "This notebook will start up bitcoind in regtest mode, create transactions using python scripts, and broadcast them to validate that they work. Four transactions are tested here:<br><br>\n",
    "\n",
    "- tx1 initial tx to fund customer. 1 output \n",
    "    - Send 11.3 btc to a P2SH-P2WPKH address. This will be used to fund the customer.\n",
    "- tx2 funding tx with change. 2 outputs\n",
    "    - 10.2 btc to an escrow (2-of-2 multisig) \n",
    "    - 1 btc to a change address\n",
    "- tx3 merch close. 1 output\n",
    "    - 11.3 btc to p2wsh with two ways to spend from it:\n",
    "        - 2 of 2 multisig signed by cust_pk and merch_pk (cust-close-tx)\n",
    "        - to_self_delay to merch_close_pk (merch-claim-tx)\n",
    "- tx4 cust close. 2 output\n",
    "    - 8 btc to p2wsh with two ways to spend from it:\n",
    "        - to_self_delay to cust_close_pk (cust-claim-tx)\n",
    "        - using revocation lock to send to merch_close_pk \n",
    "    - 2 btc to merch_close_pk (immediately available)\n",
    "    - 0 btc OP_RETURN \n",
    "- tx 5 merch dispute. 1 output\n",
    "    - 7.9 btc to merch pubkey"
   ]
  },
  {
   "cell_type": "markdown",
   "metadata": {},
   "source": [
    "Funding private key is used to fund the escrow tx. <br> \n",
    "Merch private key and Cust private key are used to generate the pubkeys in the escrow tx. <br>\n",
    "The Cust private key is also used for the P2WPKH change output."
   ]
  },
  {
   "cell_type": "code",
   "execution_count": 16,
   "metadata": {},
   "outputs": [
    {
     "data": {
      "text/plain": [
       "'02f3d17ca1ac6dcf42b0297a71abb87f79dfa2c66278cbb99c1437e6570643ce90'"
      ]
     },
     "execution_count": 16,
     "metadata": {},
     "output_type": "execute_result"
    }
   ],
   "source": [
    "funding_privkey_hex = \"8911111111111111111111111111111111111111111111111111111111111111\"\n",
    "funding_pubkey_hex = privkey_to_pubkey(bytes.fromhex(funding_privkey_hex)).hex()\n",
    "\n",
    "merch_privkey_hex = \"3711111111111111111111111111111111111111111111111111111111111111\"\n",
    "merch_pubkey_hex = privkey_to_pubkey(bytes.fromhex(merch_privkey_hex)).hex()\n",
    "\n",
    "cust_privkey_hex = \"7911111111111111111111111111111111111111111111111111111111111111\"\n",
    "cust_pubkey_hex = privkey_to_pubkey(bytes.fromhex(cust_privkey_hex)).hex()\n",
    "\n",
    "cust_close_privkey_hex = \"7711111111111111111111111111111111111111111111111111111111111111\"\n",
    "cust_close_pubkey_hex = privkey_to_pubkey(bytes.fromhex(cust_close_privkey_hex)).hex()\n",
    "\n",
    "change_privkey_hex = \"6911111111111111111111111111111111111111111111111111111111111111\"\n",
    "change_pubkey_hex = privkey_to_pubkey(bytes.fromhex(change_privkey_hex)).hex()\n",
    "\n",
    "merch_close_privkey_hex = \"3911111111111111111111111111111111111111111111111111111111111111\"\n",
    "merch_close_pubkey_hex = privkey_to_pubkey(bytes.fromhex(merch_close_privkey_hex)).hex()\n",
    "\n",
    "merch_disp_privkey_hex = \"3111111111111111111111111111111111111111111111111111111111111111\"\n",
    "merch_disp_pubkey_hex = privkey_to_pubkey(bytes.fromhex(merch_disp_privkey_hex)).hex()\n",
    "\n",
    "revocation_secret_hex = \"4011111111111111111111111111111111111111111111111111111111111111\"\n",
    "\n",
    "RL = hashlib.sha256(bytes.fromhex(revocation_secret_hex)).digest()\n",
    "revocation_lock_hex = RL.hex()\n",
    "\n",
    "merch_close_pubkey_hex\n"
   ]
  },
  {
   "cell_type": "markdown",
   "metadata": {},
   "source": [
    "Start up regtest mode, delete any history so we are starting from scratch.\n",
    "Mine 101 blocks"
   ]
  },
  {
   "cell_type": "code",
   "execution_count": 24,
   "metadata": {
    "code_folding": []
   },
   "outputs": [
    {
     "name": "stdout",
     "output_type": "stream",
     "text": [
      "blockcount: 101\n"
     ]
    }
   ],
   "source": [
    "# Make sure bitcoind is not already running\n",
    "os.system(\"bitcoin-cli -regtest stop\")\n",
    "time.sleep(1.5) \n",
    "\n",
    "# Delete any previous files to restart regtest\n",
    "os.system(\"rm -rfv $HOME/Library/Application\\ Support/Bitcoin/regtest/\")\n",
    "\n",
    "# start up bitcoind in regtest mode\n",
    "os.system(\"bitcoind -regtest -daemon -minrelaytxfee=0\")\n",
    "time.sleep(1.5)\n",
    "\n",
    "# generate 101 blocks so we can fund transactions\n",
    "os.system(\"bitcoin-cli -regtest generate 101\")\n",
    "blockcount = subprocess.getoutput(\"bitcoin-cli -regtest getblockcount\")\n",
    "\n",
    "print(\"blockcount: \" + str(blockcount))"
   ]
  },
  {
   "cell_type": "markdown",
   "metadata": {},
   "source": [
    "Generate base58 address for the escrow funder"
   ]
  },
  {
   "cell_type": "code",
   "execution_count": 25,
   "metadata": {},
   "outputs": [
    {
     "name": "stdout",
     "output_type": "stream",
     "text": [
      "Address: 2N1jKbzrUkf583t9mM9ePN3rkqdCwryKcf9\n"
     ]
    }
   ],
   "source": [
    "# Generate p2sh-p2wpkh address to fund the escrow funder\n",
    "privkey = bytes.fromhex(funding_privkey_hex)\n",
    "public_key = privkey_to_pubkey(privkey)\n",
    "p2sh_p2wpkh_address = pk_to_p2sh_p2wpkh(public_key, testnet = True)\n",
    "\n",
    "# print(\"Private key: \" + privkey.hex())\n",
    "# print(\"Public key: \" + public_key.hex())\n",
    "print(\"Address: \" + p2sh_p2wpkh_address)"
   ]
  },
  {
   "cell_type": "markdown",
   "metadata": {},
   "source": [
    "Send btc to the escrow funder"
   ]
  },
  {
   "cell_type": "code",
   "execution_count": 26,
   "metadata": {},
   "outputs": [
    {
     "name": "stdout",
     "output_type": "stream",
     "text": [
      "5bf6f7f7c8cbfe9ffb79fac1b9e540cc4087fe10b6d0a670491f3ce5f233b2b7\n"
     ]
    }
   ],
   "source": [
    "txid_1 = subprocess.getoutput(\"bitcoin-cli -regtest sendtoaddress \" + p2sh_p2wpkh_address + \" 3.0\")\n",
    "print(txid_1)"
   ]
  },
  {
   "cell_type": "code",
   "execution_count": 27,
   "metadata": {},
   "outputs": [
    {
     "name": "stdout",
     "output_type": "stream",
     "text": [
      "index: 1\n"
     ]
    }
   ],
   "source": [
    "# Find which output index the btc was sent to\n",
    "raw_tx = subprocess.getoutput(\"bitcoin-cli -regtest getrawtransaction \" + txid_1)\n",
    "decoded = subprocess.getoutput(\"bitcoin-cli -regtest decoderawtransaction \" + raw_tx)\n",
    "d = json.loads(decoded)\n",
    "# print(decoded)\n",
    "\n",
    "if d[\"vout\"][0][\"scriptPubKey\"][\"addresses\"][0] == p2sh_p2wpkh_address:\n",
    "    index = 0\n",
    "else:\n",
    "    index = 1\n",
    "print(\"index: \" + str(index))"
   ]
  },
  {
   "cell_type": "code",
   "execution_count": 28,
   "metadata": {},
   "outputs": [],
   "source": [
    "os.system(\"bitcoin-cli -regtest generate 1\");"
   ]
  },
  {
   "cell_type": "markdown",
   "metadata": {},
   "source": [
    "Generate raw escrow funding transaction"
   ]
  },
  {
   "cell_type": "code",
   "execution_count": 29,
   "metadata": {},
   "outputs": [
    {
     "name": "stdout",
     "output_type": "stream",
     "text": [
      "02000000000101b7b233f2e53c1f4970a6d0b610fe8740cc40e5b9c1fa79fb9ffecbc8f7f7f65b0100000017160014fc5cc2b7bdcb852b225434d133769a551486950affffffff0200c2eb0b000000002200209a7574691624d1d6f82e1b81a8a16f20eb68aa22cc850aef075be99f64cac7bc00e1f50500000000160014f3a8a4335c0ef84806d93315e56965f13d522e5f02483045022100c624e6e8e1be92aea45629803391f1dce4c2923753d3187adb8a9c969b4ae57f022005830e42e6858b3bd2aafb661963455358d3612d969913f10a851aa098aa60b5012103e2aa89cce89e9b2d6f09b20a2096226328f114a4ca62e6ea416b4d7c4573086e00000000\n"
     ]
    }
   ],
   "source": [
    "raw_escrow_tx = subprocess.getoutput(\"python funding_tx_with_changev2.py\" \n",
    "                        + \" --txid \" + txid_1\n",
    "                        + \" --index \" + str(index)\n",
    "                        + \" --input_amount_btc \" + \"3.0\"\n",
    "                        + \" --funding_privkey \" + funding_privkey_hex\n",
    "                        + \" --escrow_value_btc \" + \"2\"\n",
    "                        + \" --cust_pubkey \" + cust_pubkey_hex\n",
    "                        + \" --merch_pubkey \" + merch_pubkey_hex\n",
    "                        + \" --cust_change_value_btc \" + \"1\"\n",
    "                        + \" --cust_change_pubkey \" + change_pubkey_hex)\n",
    "print(raw_escrow_tx)"
   ]
  },
  {
   "cell_type": "markdown",
   "metadata": {},
   "source": [
    "Broadcast escrow funding transaction"
   ]
  },
  {
   "cell_type": "code",
   "execution_count": 30,
   "metadata": {
    "scrolled": true
   },
   "outputs": [
    {
     "name": "stdout",
     "output_type": "stream",
     "text": [
      "2b9e1462007cf04b35787c5ccefcf43e9477ca44c7776219de18299e30df8503\n"
     ]
    }
   ],
   "source": [
    "escrow_txid = subprocess.getoutput(\"bitcoin-cli -regtest sendrawtransaction \" + raw_escrow_tx + \" true\")\n",
    "# \"true\" flag means we are okay with absurdly high tx fee\n",
    "print(escrow_txid)"
   ]
  },
  {
   "cell_type": "code",
   "execution_count": 31,
   "metadata": {
    "scrolled": false
   },
   "outputs": [],
   "source": [
    "raw_escrow_tx1 = subprocess.getoutput(\"bitcoin-cli -regtest getrawtransaction \" + escrow_txid)\n",
    "decoded = subprocess.getoutput(\"bitcoin-cli -regtest decoderawtransaction \" + raw_escrow_tx1)\n",
    "# print(decoded)"
   ]
  },
  {
   "cell_type": "code",
   "execution_count": 32,
   "metadata": {},
   "outputs": [],
   "source": [
    "os.system(\"bitcoin-cli -regtest generate 1\");"
   ]
  },
  {
   "cell_type": "markdown",
   "metadata": {},
   "source": [
    "Create transaction spending from the change output of the escrow transaction"
   ]
  },
  {
   "cell_type": "code",
   "execution_count": 40,
   "metadata": {},
   "outputs": [
    {
     "name": "stdout",
     "output_type": "stream",
     "text": [
      "020000000001010385df309e2918de196277c744ca77943ef4fcce5c7c78354bf07c0062149e2b0000000000ffffffff0100c2eb0b00000000220020623e1ac60cebb9158bdabaf22ebac2e53805c0462e61218ef9aab1328c8fe627040047304402204935fbcd6d00fb1f2876b1a8db6e4041559e1b940e38f154ea8b485f3e0c0cc802202e7fd24c2e226f96405b88c6f0163938daed66503e064cd4dc93f03f37db9c600147304402201672b33badc3c937aca41fbaf8ecac73fd48555938c54482411305fa639481ae02206ddf0a98f86eb5c152b864fb45c8136e52902a82e03196373e5133a90f79de76014752210342da23a1de903cd7a141a99b5e8051abfcd4d2d1b3c2112bac5c8997d9f12a002103fc43b44cd953c7b92726ebefe482a272538c7e40fdcde5994a62841525afa8d752ae00000000\n"
     ]
    }
   ],
   "source": [
    "raw_merch_close_tx = subprocess.getoutput(\"python merch_closev2.py\"        \n",
    "                + \" --txid_str \" + escrow_txid\n",
    "                + \" --index \" + \"0\"\n",
    "                + \" --input_amount_btc \" + \"2\"\n",
    "                + \" --cust_privkey \" + cust_privkey_hex \n",
    "                + \" --merch_privkey \" + merch_privkey_hex      \n",
    "                + \" --output_value_btc \" + \"2\"\n",
    "                + \" --merch_payout_pubkey \" + merch_close_pubkey_hex   \n",
    "                + \" --to_self_delay \" + \"05cf\") # number of blocks to delay to-self output       \n",
    "print(raw_merch_close_tx)\n",
    "\n",
    "# parser.add_argument(\"--txid_str\", \"-tx\", help=\"txid of input as string\")\n",
    "# parser.add_argument(\"--index\", \"-ind\", help=\"index of outpoint\")\n",
    "# parser.add_argument(\"--input_amount_btc\", \"-a\", help=\"amount of btc held by the previous outpoint\")\n",
    "# parser.add_argument(\"--cust_privkey\", \"-csk\", help=\"private key of customer for escrow\")\n",
    "# parser.add_argument(\"--merch_privkey\", \"-msk\", help=\"private key of merchant for escrow\")\n",
    "# parser.add_argument(\"--output_value_btc\", \"-o\", help=\"btc to output\")\n",
    "# parser.add_argument(\"--merch_payout_pubkey\", \"-mcpk\", help=\"public key of merchant close to-self output\")\n",
    "# parser.add_argument(\"--to_self_delay\", \"-tsd\", help=\"to_self_delay (in unit of blocks) for the merchant's to-self output\")\n",
    "\n",
    "decoded = subprocess.getoutput(\"bitcoin-cli -regtest decoderawtransaction \" + raw_merch_close_tx)\n",
    "# print(decoded)"
   ]
  },
  {
   "cell_type": "code",
   "execution_count": 41,
   "metadata": {},
   "outputs": [
    {
     "name": "stdout",
     "output_type": "stream",
     "text": [
      "1f40ca0870cfa67cbca6d523a9956159f78ee8bc58b153d60d07d2c5d063f639\n"
     ]
    }
   ],
   "source": [
    "merch_close_txid = subprocess.getoutput(\"bitcoin-cli -regtest sendrawtransaction \" + raw_merch_close_tx + \" true\")\n",
    "print(merch_close_txid)"
   ]
  },
  {
   "cell_type": "code",
   "execution_count": 42,
   "metadata": {},
   "outputs": [
    {
     "name": "stdout",
     "output_type": "stream",
     "text": [
      "{\n",
      "  \"txid\": \"1f40ca0870cfa67cbca6d523a9956159f78ee8bc58b153d60d07d2c5d063f639\",\n",
      "  \"hash\": \"08868bf3ad1fd64c4b7bd84b54a2b44d696f80b91b34d30839ace7ae89a13a61\",\n",
      "  \"version\": 2,\n",
      "  \"size\": 314,\n",
      "  \"vsize\": 149,\n",
      "  \"weight\": 596,\n",
      "  \"locktime\": 0,\n",
      "  \"vin\": [\n",
      "    {\n",
      "      \"txid\": \"2b9e1462007cf04b35787c5ccefcf43e9477ca44c7776219de18299e30df8503\",\n",
      "      \"vout\": 0,\n",
      "      \"scriptSig\": {\n",
      "        \"asm\": \"\",\n",
      "        \"hex\": \"\"\n",
      "      },\n",
      "      \"txinwitness\": [\n",
      "        \"\",\n",
      "        \"304402204935fbcd6d00fb1f2876b1a8db6e4041559e1b940e38f154ea8b485f3e0c0cc802202e7fd24c2e226f96405b88c6f0163938daed66503e064cd4dc93f03f37db9c6001\",\n",
      "        \"304402201672b33badc3c937aca41fbaf8ecac73fd48555938c54482411305fa639481ae02206ddf0a98f86eb5c152b864fb45c8136e52902a82e03196373e5133a90f79de7601\",\n",
      "        \"52210342da23a1de903cd7a141a99b5e8051abfcd4d2d1b3c2112bac5c8997d9f12a002103fc43b44cd953c7b92726ebefe482a272538c7e40fdcde5994a62841525afa8d752ae\"\n",
      "      ],\n",
      "      \"sequence\": 4294967295\n",
      "    }\n",
      "  ],\n",
      "  \"vout\": [\n",
      "    {\n",
      "      \"value\": 2.00000000,\n",
      "      \"n\": 0,\n",
      "      \"scriptPubKey\": {\n",
      "        \"asm\": \"0 623e1ac60cebb9158bdabaf22ebac2e53805c0462e61218ef9aab1328c8fe627\",\n",
      "        \"hex\": \"0020623e1ac60cebb9158bdabaf22ebac2e53805c0462e61218ef9aab1328c8fe627\",\n",
      "        \"reqSigs\": 1,\n",
      "        \"type\": \"witness_v0_scripthash\",\n",
      "        \"addresses\": [\n",
      "          \"bcrt1qvglp43svawu3tz76htezawkzu5uqtszx9esjrrhe42cn9ry0ucnscn95nw\"\n",
      "        ]\n",
      "      }\n",
      "    }\n",
      "  ]\n",
      "}\n"
     ]
    }
   ],
   "source": [
    "merch_close_tx = subprocess.getoutput(\"bitcoin-cli -regtest getrawtransaction \" + merch_close_txid)\n",
    "decoded = subprocess.getoutput(\"bitcoin-cli -regtest decoderawtransaction \" + merch_close_tx)\n",
    "print(decoded)"
   ]
  },
  {
   "cell_type": "code",
   "execution_count": 43,
   "metadata": {},
   "outputs": [],
   "source": [
    "os.system(\"bitcoin-cli -regtest generate 1\");"
   ]
  },
  {
   "cell_type": "markdown",
   "metadata": {},
   "source": [
    "# cust-close from merch-close"
   ]
  },
  {
   "cell_type": "code",
   "execution_count": 44,
   "metadata": {},
   "outputs": [
    {
     "name": "stdout",
     "output_type": "stream",
     "text": [
      "0200000000010139f663d0c5d2070dd653b158bce88ef7596195a923d5a6bc7ca6cf7008ca401f0000000000ffffffff0300e1f5050000000022002067cb20e705c4eb4363194a74d2f743afc1c9ee3cd741d45e21268b16add04f8b00e1f5050000000016001443e9e81bc632ad9cad48fc23f800021c5769a0630000000000000000436a41f8345a21a55dc665b65c8dcfb49488b8e4f337d5c9bb843603f7222a892ce94103195e272df2310ded35f9958fd0c2847bf73b5b429a716c005d465009bd7686410500483045022100fffe04b9af852be1593be13471b49466b2128310a83fc91b2ccfa2b8febcbab8022005e4e03f280bf9ca6a7b015bd9655be12e638965503979428b363deb03d242ba01483045022100f3161152f72c23af137883e56feea2d7c5f784183a653155783246a7dd1419d502204b221ded2166adca9bbcac1283b13186b113cb0c3e7b7332c86903b4dcd9ffeb010101726352210342da23a1de903cd7a141a99b5e8051abfcd4d2d1b3c2112bac5c8997d9f12a002103fc43b44cd953c7b92726ebefe482a272538c7e40fdcde5994a62841525afa8d752ae6702cf05b2752102f3d17ca1ac6dcf42b0297a71abb87f79dfa2c66278cbb99c1437e6570643ce90ac6800000000\n",
      "{\n",
      "  \"txid\": \"59c8018ce838edc3a1ece1b80dc6d41aa3c4b97d290baaee315359dd56dfbe1d\",\n",
      "  \"hash\": \"7cc6880f6f62d9942ee205dba867b5bbabc643f3a35d07bcf9cfa886094279e3\",\n",
      "  \"version\": 2,\n",
      "  \"size\": 468,\n",
      "  \"vsize\": 268,\n",
      "  \"weight\": 1071,\n",
      "  \"locktime\": 0,\n",
      "  \"vin\": [\n",
      "    {\n",
      "      \"txid\": \"1f40ca0870cfa67cbca6d523a9956159f78ee8bc58b153d60d07d2c5d063f639\",\n",
      "      \"vout\": 0,\n",
      "      \"scriptSig\": {\n",
      "        \"asm\": \"\",\n",
      "        \"hex\": \"\"\n",
      "      },\n",
      "      \"txinwitness\": [\n",
      "        \"\",\n",
      "        \"3045022100fffe04b9af852be1593be13471b49466b2128310a83fc91b2ccfa2b8febcbab8022005e4e03f280bf9ca6a7b015bd9655be12e638965503979428b363deb03d242ba01\",\n",
      "        \"3045022100f3161152f72c23af137883e56feea2d7c5f784183a653155783246a7dd1419d502204b221ded2166adca9bbcac1283b13186b113cb0c3e7b7332c86903b4dcd9ffeb01\",\n",
      "        \"01\",\n",
      "        \"6352210342da23a1de903cd7a141a99b5e8051abfcd4d2d1b3c2112bac5c8997d9f12a002103fc43b44cd953c7b92726ebefe482a272538c7e40fdcde5994a62841525afa8d752ae6702cf05b2752102f3d17ca1ac6dcf42b0297a71abb87f79dfa2c66278cbb99c1437e6570643ce90ac68\"\n",
      "      ],\n",
      "      \"sequence\": 4294967295\n",
      "    }\n",
      "  ],\n",
      "  \"vout\": [\n",
      "    {\n",
      "      \"value\": 1.00000000,\n",
      "      \"n\": 0,\n",
      "      \"scriptPubKey\": {\n",
      "        \"asm\": \"0 67cb20e705c4eb4363194a74d2f743afc1c9ee3cd741d45e21268b16add04f8b\",\n",
      "        \"hex\": \"002067cb20e705c4eb4363194a74d2f743afc1c9ee3cd741d45e21268b16add04f8b\",\n",
      "        \"reqSigs\": 1,\n",
      "        \"type\": \"witness_v0_scripthash\",\n",
      "        \"addresses\": [\n",
      "          \"bcrt1qvl9jpec9cn45xcceff6d9a6r4lqunm3u6aqagh3py693dtwsf79sdged8r\"\n",
      "        ]\n",
      "      }\n",
      "    },\n",
      "    {\n",
      "      \"value\": 1.00000000,\n",
      "      \"n\": 1,\n",
      "      \"scriptPubKey\": {\n",
      "        \"asm\": \"0 43e9e81bc632ad9cad48fc23f800021c5769a063\",\n",
      "        \"hex\": \"001443e9e81bc632ad9cad48fc23f800021c5769a063\",\n",
      "        \"reqSigs\": 1,\n",
      "        \"type\": \"witness_v0_keyhash\",\n",
      "        \"addresses\": [\n",
      "          \"bcrt1qg057sx7xx2keet2gls3lsqqzr3tkngrruq66xd\"\n",
      "        ]\n",
      "      }\n",
      "    },\n",
      "    {\n",
      "      \"value\": 0.00000000,\n",
      "      \"n\": 2,\n",
      "      \"scriptPubKey\": {\n",
      "        \"asm\": \"OP_RETURN f8345a21a55dc665b65c8dcfb49488b8e4f337d5c9bb843603f7222a892ce94103195e272df2310ded35f9958fd0c2847bf73b5b429a716c005d465009bd768641\",\n",
      "        \"hex\": \"6a41f8345a21a55dc665b65c8dcfb49488b8e4f337d5c9bb843603f7222a892ce94103195e272df2310ded35f9958fd0c2847bf73b5b429a716c005d465009bd768641\",\n",
      "        \"type\": \"nulldata\"\n",
      "      }\n",
      "    }\n",
      "  ]\n",
      "}\n"
     ]
    }
   ],
   "source": [
    "raw_cust_close_tx = subprocess.getoutput(\"python cust_closev2.py\"    \n",
    "                + \" --spend_from \" + \"merch-close\"  \n",
    "                + \" --txid_str \" + merch_close_txid\n",
    "                + \" --index \" + \"0\"    \n",
    "                + \" --input_amount_btc \" + \"2\"\n",
    "                + \" --cust_privkey \" + cust_privkey_hex \n",
    "                + \" --merch_privkey \" + merch_privkey_hex  \n",
    "                + \" --cust_script_value_btc \" + \"1\"\n",
    "                + \" --cust_payout_pubkey \" + cust_close_pubkey_hex     \n",
    "                + \" --merch_payout_value_btc \" + \"1\"    \n",
    "                + \" --merch_payout_pubkey \" + merch_close_pubkey_hex   \n",
    "                + \" --revocation_lock \" + revocation_lock_hex      \n",
    "                + \" --merch_dispute_pubkey \" + merch_disp_pubkey_hex     \n",
    "                + \" --to_self_delay \" + \"05cf\") # number of blocks to delay to-self output \n",
    "\n",
    "print(raw_cust_close_tx)\n",
    "\n",
    "decoded = subprocess.getoutput(\"bitcoin-cli -regtest decoderawtransaction \" + raw_cust_close_tx)\n",
    "print(decoded)"
   ]
  },
  {
   "cell_type": "code",
   "execution_count": 45,
   "metadata": {},
   "outputs": [
    {
     "name": "stdout",
     "output_type": "stream",
     "text": [
      "59c8018ce838edc3a1ece1b80dc6d41aa3c4b97d290baaee315359dd56dfbe1d\n"
     ]
    }
   ],
   "source": [
    "cust_close_txid = subprocess.getoutput(\"bitcoin-cli -regtest sendrawtransaction \" + raw_cust_close_tx + \" true\")\n",
    "print(cust_close_txid)"
   ]
  },
  {
   "cell_type": "code",
   "execution_count": 46,
   "metadata": {},
   "outputs": [
    {
     "name": "stdout",
     "output_type": "stream",
     "text": [
      "{\n",
      "  \"txid\": \"59c8018ce838edc3a1ece1b80dc6d41aa3c4b97d290baaee315359dd56dfbe1d\",\n",
      "  \"hash\": \"7cc6880f6f62d9942ee205dba867b5bbabc643f3a35d07bcf9cfa886094279e3\",\n",
      "  \"version\": 2,\n",
      "  \"size\": 468,\n",
      "  \"vsize\": 268,\n",
      "  \"weight\": 1071,\n",
      "  \"locktime\": 0,\n",
      "  \"vin\": [\n",
      "    {\n",
      "      \"txid\": \"1f40ca0870cfa67cbca6d523a9956159f78ee8bc58b153d60d07d2c5d063f639\",\n",
      "      \"vout\": 0,\n",
      "      \"scriptSig\": {\n",
      "        \"asm\": \"\",\n",
      "        \"hex\": \"\"\n",
      "      },\n",
      "      \"txinwitness\": [\n",
      "        \"\",\n",
      "        \"3045022100fffe04b9af852be1593be13471b49466b2128310a83fc91b2ccfa2b8febcbab8022005e4e03f280bf9ca6a7b015bd9655be12e638965503979428b363deb03d242ba01\",\n",
      "        \"3045022100f3161152f72c23af137883e56feea2d7c5f784183a653155783246a7dd1419d502204b221ded2166adca9bbcac1283b13186b113cb0c3e7b7332c86903b4dcd9ffeb01\",\n",
      "        \"01\",\n",
      "        \"6352210342da23a1de903cd7a141a99b5e8051abfcd4d2d1b3c2112bac5c8997d9f12a002103fc43b44cd953c7b92726ebefe482a272538c7e40fdcde5994a62841525afa8d752ae6702cf05b2752102f3d17ca1ac6dcf42b0297a71abb87f79dfa2c66278cbb99c1437e6570643ce90ac68\"\n",
      "      ],\n",
      "      \"sequence\": 4294967295\n",
      "    }\n",
      "  ],\n",
      "  \"vout\": [\n",
      "    {\n",
      "      \"value\": 1.00000000,\n",
      "      \"n\": 0,\n",
      "      \"scriptPubKey\": {\n",
      "        \"asm\": \"0 67cb20e705c4eb4363194a74d2f743afc1c9ee3cd741d45e21268b16add04f8b\",\n",
      "        \"hex\": \"002067cb20e705c4eb4363194a74d2f743afc1c9ee3cd741d45e21268b16add04f8b\",\n",
      "        \"reqSigs\": 1,\n",
      "        \"type\": \"witness_v0_scripthash\",\n",
      "        \"addresses\": [\n",
      "          \"bcrt1qvl9jpec9cn45xcceff6d9a6r4lqunm3u6aqagh3py693dtwsf79sdged8r\"\n",
      "        ]\n",
      "      }\n",
      "    },\n",
      "    {\n",
      "      \"value\": 1.00000000,\n",
      "      \"n\": 1,\n",
      "      \"scriptPubKey\": {\n",
      "        \"asm\": \"0 43e9e81bc632ad9cad48fc23f800021c5769a063\",\n",
      "        \"hex\": \"001443e9e81bc632ad9cad48fc23f800021c5769a063\",\n",
      "        \"reqSigs\": 1,\n",
      "        \"type\": \"witness_v0_keyhash\",\n",
      "        \"addresses\": [\n",
      "          \"bcrt1qg057sx7xx2keet2gls3lsqqzr3tkngrruq66xd\"\n",
      "        ]\n",
      "      }\n",
      "    },\n",
      "    {\n",
      "      \"value\": 0.00000000,\n",
      "      \"n\": 2,\n",
      "      \"scriptPubKey\": {\n",
      "        \"asm\": \"OP_RETURN f8345a21a55dc665b65c8dcfb49488b8e4f337d5c9bb843603f7222a892ce94103195e272df2310ded35f9958fd0c2847bf73b5b429a716c005d465009bd768641\",\n",
      "        \"hex\": \"6a41f8345a21a55dc665b65c8dcfb49488b8e4f337d5c9bb843603f7222a892ce94103195e272df2310ded35f9958fd0c2847bf73b5b429a716c005d465009bd768641\",\n",
      "        \"type\": \"nulldata\"\n",
      "      }\n",
      "    }\n",
      "  ]\n",
      "}\n"
     ]
    }
   ],
   "source": [
    "cust_close_tx = subprocess.getoutput(\"bitcoin-cli -regtest getrawtransaction \" + cust_close_txid)\n",
    "decoded = subprocess.getoutput(\"bitcoin-cli -regtest decoderawtransaction \" + cust_close_tx)\n",
    "print(decoded)"
   ]
  },
  {
   "cell_type": "code",
   "execution_count": 28,
   "metadata": {},
   "outputs": [],
   "source": [
    "os.system(\"bitcoin-cli -regtest generate 1\");"
   ]
  },
  {
   "cell_type": "code",
   "execution_count": 29,
   "metadata": {},
   "outputs": [
    {
     "name": "stdout",
     "output_type": "stream",
     "text": [
      "02000000000101a6d2054a33986ce2e6ac41c950a615166de1b18e0f6fb44ebbaf874d705495240000000000ffffffff018071162f00000000160014b7cfef435e3701fdedb7a11164ae44d561698bb904483045022100dc86093122bc346e46414b4e0dc0dcf10d85391750fe15fe0617a6016ca8c78c02200f4c40fe6d0a69df4e0abda837752eaa6fbe011a1ef51503256bbc33f924bed60120401111111111111111111111111111111111111111111111111111111111111101017063a820f8345a21a55dc665b65c8dcfb49488b8e4f337d5c9bb843603f7222a892ce94188210253be79afe84fd9342c1f52024379b6da6299ea98844aee23838e8e678a765f7c6702cf05b2752103195e272df2310ded35f9958fd0c2847bf73b5b429a716c005d465009bd76864168ac00000000\n",
      "{\n",
      "  \"txid\": \"e8ba0132f36836b1c8f3dcf297d61d04a6dfd7d09f2a1a7b00a84a456252c3d1\",\n",
      "  \"hash\": \"93656712adf32f4ee35a1cd17bde498809e155d82e2266be98706b2acd5bf59b\",\n",
      "  \"version\": 2,\n",
      "  \"size\": 306,\n",
      "  \"vsize\": 138,\n",
      "  \"weight\": 552,\n",
      "  \"locktime\": 0,\n",
      "  \"vin\": [\n",
      "    {\n",
      "      \"txid\": \"249554704d87afbb4eb46f0f8eb1e16d1615a650c941ace6e26c98334a05d2a6\",\n",
      "      \"vout\": 0,\n",
      "      \"scriptSig\": {\n",
      "        \"asm\": \"\",\n",
      "        \"hex\": \"\"\n",
      "      },\n",
      "      \"txinwitness\": [\n",
      "        \"3045022100dc86093122bc346e46414b4e0dc0dcf10d85391750fe15fe0617a6016ca8c78c02200f4c40fe6d0a69df4e0abda837752eaa6fbe011a1ef51503256bbc33f924bed601\",\n",
      "        \"4011111111111111111111111111111111111111111111111111111111111111\",\n",
      "        \"01\",\n",
      "        \"63a820f8345a21a55dc665b65c8dcfb49488b8e4f337d5c9bb843603f7222a892ce94188210253be79afe84fd9342c1f52024379b6da6299ea98844aee23838e8e678a765f7c6702cf05b2752103195e272df2310ded35f9958fd0c2847bf73b5b429a716c005d465009bd76864168ac\"\n",
      "      ],\n",
      "      \"sequence\": 4294967295\n",
      "    }\n",
      "  ],\n",
      "  \"vout\": [\n",
      "    {\n",
      "      \"value\": 7.90000000,\n",
      "      \"n\": 0,\n",
      "      \"scriptPubKey\": {\n",
      "        \"asm\": \"0 b7cfef435e3701fdedb7a11164ae44d561698bb9\",\n",
      "        \"hex\": \"0014b7cfef435e3701fdedb7a11164ae44d561698bb9\",\n",
      "        \"reqSigs\": 1,\n",
      "        \"type\": \"witness_v0_keyhash\",\n",
      "        \"addresses\": [\n",
      "          \"bcrt1qkl877s67xuqlmmdh5ygkftjy64sknzaemq853c\"\n",
      "        ]\n",
      "      }\n",
      "    }\n",
      "  ]\n",
      "}\n"
     ]
    }
   ],
   "source": [
    "raw_merch_dispute_tx = subprocess.getoutput(\"python bitcoin/merch_dispute.py\"   \n",
    "                + \" --merch_disp_privkey \" + merch_disp_privkey_hex \n",
    "                + \" --revocation_lock \" + revocation_lock_hex    \n",
    "                + \" --revocation_secret \" + revocation_secret_hex \n",
    "                + \" --cust_close_pubkey \" + cust_close_pubkey_hex   \n",
    "                + \" --output_pubkey \" + \"024596d7b33733c28101dbc6c85901dffaed0cdac63ab0b2ea141217d1990ad4b1\"    \n",
    "                + \" --to_self_delay \" + \"05cf\" # number of blocks to delay to-self output         \n",
    "                + \" --txid \" + cust_close_txid\n",
    "                + \" --index \" + \"0\"\n",
    "                + \" --amount_btc \" + \"8\"\n",
    "                + \" --output_btc \" + \"7.9\")\n",
    "\n",
    "print(raw_merch_dispute_tx)\n",
    "\n",
    "decoded = subprocess.getoutput(\"bitcoin-cli -regtest decoderawtransaction \" + raw_merch_dispute_tx)\n",
    "print(decoded)"
   ]
  },
  {
   "cell_type": "code",
   "execution_count": 47,
   "metadata": {},
   "outputs": [
    {
     "name": "stdout",
     "output_type": "stream",
     "text": [
      "04574738d62cd8e990dd97413d5d853a50313777e754488e3dde8b26d475216a\n"
     ]
    }
   ],
   "source": [
    "merch_dispute_txid = subprocess.getoutput(\"bitcoin-cli -regtest sendrawtransaction \" + raw_merch_dispute_tx + \" true\")\n",
    "print(merch_dispute_txid)"
   ]
  },
  {
   "cell_type": "code",
   "execution_count": 48,
   "metadata": {},
   "outputs": [
    {
     "name": "stdout",
     "output_type": "stream",
     "text": [
      "{\n",
      "  \"txid\": \"04574738d62cd8e990dd97413d5d853a50313777e754488e3dde8b26d475216a\",\n",
      "  \"hash\": \"eec20bb6c973070af00dc6e58cb09d146ada655c3fa07d3b7f2687c4f53e7f75\",\n",
      "  \"version\": 2,\n",
      "  \"size\": 305,\n",
      "  \"vsize\": 138,\n",
      "  \"weight\": 551,\n",
      "  \"locktime\": 0,\n",
      "  \"vin\": [\n",
      "    {\n",
      "      \"txid\": \"3d167d53b188f5f37ee60bc41fed317e0c90ea72b98baa515b7b94fbf837805b\",\n",
      "      \"vout\": 0,\n",
      "      \"scriptSig\": {\n",
      "        \"asm\": \"\",\n",
      "        \"hex\": \"\"\n",
      "      },\n",
      "      \"txinwitness\": [\n",
      "        \"304402206c51e20a5aa8194c93cee6a569bc21d1a36263169a35803f2b671a144522694c02203036446aebf6e85bd9710717801cce58444aad723e3ec6a41e97a32935018a9901\",\n",
      "        \"4011111111111111111111111111111111111111111111111111111111111111\",\n",
      "        \"01\",\n",
      "        \"63a820f8345a21a55dc665b65c8dcfb49488b8e4f337d5c9bb843603f7222a892ce94188210253be79afe84fd9342c1f52024379b6da6299ea98844aee23838e8e678a765f7c6702cf05b2752103195e272df2310ded35f9958fd0c2847bf73b5b429a716c005d465009bd76864168ac\"\n",
      "      ],\n",
      "      \"sequence\": 4294967295\n",
      "    }\n",
      "  ],\n",
      "  \"vout\": [\n",
      "    {\n",
      "      \"value\": 7.90000000,\n",
      "      \"n\": 0,\n",
      "      \"scriptPubKey\": {\n",
      "        \"asm\": \"0 b7cfef435e3701fdedb7a11164ae44d561698bb9\",\n",
      "        \"hex\": \"0014b7cfef435e3701fdedb7a11164ae44d561698bb9\",\n",
      "        \"reqSigs\": 1,\n",
      "        \"type\": \"witness_v0_keyhash\",\n",
      "        \"addresses\": [\n",
      "          \"bcrt1qkl877s67xuqlmmdh5ygkftjy64sknzaemq853c\"\n",
      "        ]\n",
      "      }\n",
      "    }\n",
      "  ]\n",
      "}\n"
     ]
    }
   ],
   "source": [
    "merch_dispute_tx = subprocess.getoutput(\"bitcoin-cli -regtest getrawtransaction \" + merch_dispute_txid)\n",
    "decoded = subprocess.getoutput(\"bitcoin-cli -regtest decoderawtransaction \" + merch_dispute_tx)\n",
    "print(decoded)"
   ]
  },
  {
   "cell_type": "code",
   "execution_count": 24,
   "metadata": {},
   "outputs": [],
   "source": [
    "os.system(\"bitcoin-cli -regtest stop\")\n",
    "time.sleep(1.5) "
   ]
  },
  {
   "cell_type": "code",
   "execution_count": null,
   "metadata": {},
   "outputs": [],
   "source": []
  }
 ],
 "metadata": {
  "kernelspec": {
   "display_name": "Python 3",
   "language": "python",
   "name": "python3"
  },
  "language_info": {
   "codemirror_mode": {
    "name": "ipython",
    "version": 3
   },
   "file_extension": ".py",
   "mimetype": "text/x-python",
   "name": "python",
   "nbconvert_exporter": "python",
   "pygments_lexer": "ipython3",
   "version": "3.6.8"
  }
 },
 "nbformat": 4,
 "nbformat_minor": 2
}
