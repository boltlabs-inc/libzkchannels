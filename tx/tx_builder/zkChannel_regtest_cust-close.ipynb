{
 "cells": [
  {
   "cell_type": "code",
   "execution_count": 1,
   "metadata": {
    "code_folding": []
   },
   "outputs": [],
   "source": [
    "import base58\n",
    "import binascii\n",
    "import ecdsa\n",
    "import hashlib\n",
    "import json\n",
    "import os\n",
    "import subprocess\n",
    "import time\n",
    "\n",
    "def dSHA256(data):\n",
    "    hash_1 = hashlib.sha256(data).digest()\n",
    "    hash_2 = hashlib.sha256(hash_1).digest()\n",
    "    return hash_2\n",
    "\n",
    "def hash160(s):\n",
    "    '''sha256 followed by ripemd160'''\n",
    "    return hashlib.new('ripemd160', hashlib.sha256(s).digest()).digest()\n",
    "\n",
    "def privkey_to_pubkey(privkey):\n",
    "    signing_key = ecdsa.SigningKey.from_string(privkey, curve=ecdsa.SECP256k1) # Don't forget to specify the curve\n",
    "    verifying_key = signing_key.get_verifying_key()\n",
    "\n",
    "    # Use this code block if the address you gave corresponds to the compressed public key\n",
    "    x_cor = bytes.fromhex(verifying_key.to_string().hex())[:32] # The first 32 bytes are the x coordinate\n",
    "    y_cor = bytes.fromhex(verifying_key.to_string().hex())[32:] # The last 32 bytes are the y coordinate\n",
    "    if int.from_bytes(y_cor, byteorder=\"big\", signed=True) % 2 == 0: # We need to turn the y_cor into a number.\n",
    "        public_key = bytes.fromhex(\"02\" + x_cor.hex())\n",
    "    else:\n",
    "        public_key = bytes.fromhex(\"03\" + x_cor.hex())\n",
    "    return public_key"
   ]
  },
  {
   "cell_type": "code",
   "execution_count": 2,
   "metadata": {},
   "outputs": [],
   "source": [
    "# Functions related to generating bitcoin addresses\n",
    "\n",
    "def encode_base58(s):\n",
    "    BASE58_ALPHABET = '123456789ABCDEFGHJKLMNPQRSTUVWXYZabcdefghijkmnopqrstuvwxyz'\n",
    "    count = 0\n",
    "    for c in s:  \n",
    "        if c == 0:\n",
    "            count += 1\n",
    "        else:\n",
    "            break\n",
    "    num = int.from_bytes(s, 'big')\n",
    "    prefix = '1' * count\n",
    "    result = ''\n",
    "    while num > 0:  \n",
    "        num, mod = divmod(num, 58)\n",
    "        result = BASE58_ALPHABET[mod] + result\n",
    "    return prefix + result\n",
    "\n",
    "def encode_base58_checksum(b):\n",
    "    return encode_base58(b + dSHA256(b)[:4])\n",
    "\n",
    "# https://en.bitcoin.it/wiki/Wallet_import_format\n",
    "def privkey_to_wif(privkey, compressed_pubkey, testnet):\n",
    "    if testnet:\n",
    "        prefix = b\"\\xEF\"\n",
    "    else:\n",
    "        prefix = b\"\\x80\"\n",
    "    \n",
    "    # if the privkey will correspond to a compressed public key\n",
    "    if compressed_pubkey: \n",
    "        extended = prefix + privkey + b\"\\x01\"\n",
    "    else:\n",
    "        extended = prefix + privkey \n",
    "        \n",
    "    extendedchecksum = extended + dSHA256(extended)[:4]\n",
    "    wif = encode_base58(extendedchecksum)\n",
    "    \n",
    "    return wif\n",
    "\n",
    "# https://learnmeabitcoin.com/guide/wif\n",
    "def wif_to_privkey(private_key_WIF):\n",
    "    private_key_full = base58.b58decode(private_key_WIF)\n",
    "    \n",
    "    # If the WIF encoding includes the optional \"01\" byte for compressed privKey,\n",
    "    # do not include it in the final output.\n",
    "    if len(private_key_full) == 38:\n",
    "        private_key = private_key_full[1:-5] \n",
    "        print(\"compressed pubkey\")\n",
    "    else:\n",
    "        private_key = private_key_full[1:-4] \n",
    "        print(\"not compressed pubkey\")\n",
    "    return private_key\n",
    "\n",
    "\n",
    "def pk_to_p2pkh(compressed, testnet):\n",
    "    '''Returns the address string'''\n",
    "    pk_hash = hash160(compressed)\n",
    "    if testnet:\n",
    "        prefix = b'\\x6f'\n",
    "    else:\n",
    "        prefix = b'\\x00'\n",
    "    return encode_base58_checksum(prefix + pk_hash)\n",
    "\n",
    "def pk_to_p2sh_p2wpkh(compressed, testnet):\n",
    "    pk_hash = hash160(compressed)\n",
    "    redeemScript = bytes.fromhex(f\"0014{pk_hash.hex()}\")\n",
    "    rs_hash = hash160(redeemScript)\n",
    "    if testnet:\n",
    "        prefix = b\"\\xc4\"\n",
    "    else:\n",
    "        prefix = b\"\\x05\"\n",
    "    return encode_base58_checksum(prefix + rs_hash)\n",
    "\n",
    "def wif_to_addresses(wif):\n",
    "#     wif = \"cUy9rC6wteKizfu1fgP2abKUWTkJxjqKp2fba91FkU332CFHo6ix\"\n",
    "    privkey = wif_to_privkey(wif)\n",
    "    public_key = privkey_to_pubkey(privkey)\n",
    "    p2pkh_address = pk_to_p2pkh(public_key, testnet = True)\n",
    "    p2sh_p2wpkh_address = pk_to_p2sh_p2wpkh(public_key, testnet = True)\n",
    "\n",
    "    print(\"WIF Private key: \" + wif)\n",
    "    print(\"Private key: \" + privkey.hex())\n",
    "    print(\"Public key: \" + public_key.hex())\n",
    "    print(\"Public key hash: \" + hash160(public_key).hex())\n",
    "    print(\"Address: \" + p2pkh_address)\n",
    "    print(\"Address: \" + p2sh_p2wpkh_address)\n",
    "    \n",
    "def privkey_to_addresses(privkey):\n",
    "    # privkey = bytes.fromhex(\"AF933A6C602069F1CBC85990DF087714D7E86DF0D0E48398B7D8953E1F03534A\")\n",
    "    public_key = privkey_to_pubkey(privkey)\n",
    "    p2pkh_address = pk_to_p2pkh(public_key, testnet = True)\n",
    "    p2sh_p2wpkh_address = pk_to_p2sh_p2wpkh(public_key, testnet = True)\n",
    "\n",
    "    print(\"Private key: \" + privkey.hex())\n",
    "    print(\"Public key: \" + public_key.hex())\n",
    "    print(\"Public key hash: \" + hash160(public_key).hex())\n",
    "    print(\"Address: \" + p2pkh_address)\n",
    "    print(\"Address: \" + p2sh_p2wpkh_address)"
   ]
  },
  {
   "cell_type": "markdown",
   "metadata": {},
   "source": [
    "# Bitcoin core regtest tx tester\n",
    "This notebook will start up bitcoind in regtest mode, create transactions using python scripts, and broadcast them to validate that they work. Four transactions are tested here:<br><br>\n",
    "\n",
    "- tx1 initial tx to fund customer. 1 output \n",
    "    - Send 11.3 btc to a P2SH-P2WPKH address. This will be used to fund the customer.\n",
    "- tx2 funding tx with change. 2 outputs\n",
    "    - 10.2 btc to an escrow (2-of-2 multisig) \n",
    "    - 1 btc to a change address\n",
    "- tx3 cust close. 2 outputs\n",
    "    - 2 btc to a merch_close_pubkey output\n",
    "    - 8.1 btc to p2wsh with two ways to spend from it:\n",
    "        - to_self_delay to cust_close_pk (cust-claim-tx)\n",
    "        - revocation preimage & merch_disp signature (merch-dispute-tx)\n",
    "\n",
    "Both ways of spending from cust-close are tested below"
   ]
  },
  {
   "cell_type": "markdown",
   "metadata": {},
   "source": [
    "Generate all the priv/public keys"
   ]
  },
  {
   "cell_type": "code",
   "execution_count": 3,
   "metadata": {},
   "outputs": [],
   "source": [
    "funding_privkey_hex = \"8911111111111111111111111111111111111111111111111111111111111111\"\n",
    "funding_pubkey_hex = privkey_to_pubkey(bytes.fromhex(funding_privkey_hex)).hex()\n",
    "\n",
    "merch_privkey_hex = \"3911111111111111111111111111111111111111111111111111111111111111\"\n",
    "merch_pubkey_hex = privkey_to_pubkey(bytes.fromhex(merch_privkey_hex)).hex()\n",
    "\n",
    "cust_privkey_hex = \"7911111111111111111111111111111111111111111111111111111111111111\"\n",
    "cust_pubkey_hex = privkey_to_pubkey(bytes.fromhex(cust_privkey_hex)).hex()\n",
    "\n",
    "cust_close_privkey_hex = \"7711111111111111111111111111111111111111111111111111111111111111\"\n",
    "cust_close_pubkey_hex = privkey_to_pubkey(bytes.fromhex(cust_close_privkey_hex)).hex()\n",
    "\n",
    "change_privkey_hex = \"6911111111111111111111111111111111111111111111111111111111111111\"\n",
    "change_pubkey_hex = privkey_to_pubkey(bytes.fromhex(change_privkey_hex)).hex()\n",
    "\n",
    "merch_close_privkey_hex = \"3711111111111111111111111111111111111111111111111111111111111111\"\n",
    "merch_close_pubkey_hex = privkey_to_pubkey(bytes.fromhex(merch_close_privkey_hex)).hex()\n",
    "\n",
    "merch_disp_privkey_hex = \"3111111111111111111111111111111111111111111111111111111111111111\"\n",
    "merch_disp_pubkey_hex = privkey_to_pubkey(bytes.fromhex(merch_disp_privkey_hex)).hex()\n",
    "\n",
    "revocation_secret_hex = \"4011111111111111111111111111111111111111111111111111111111111111\"\n",
    "revocation_lock_hex = hash160(bytes.fromhex(revocation_secret_hex)).hex()"
   ]
  },
  {
   "cell_type": "markdown",
   "metadata": {},
   "source": [
    "Start up regtest mode, delete any history so we are starting from scratch.\n",
    "Mine 101 blocks"
   ]
  },
  {
   "cell_type": "code",
   "execution_count": 4,
   "metadata": {
    "code_folding": []
   },
   "outputs": [
    {
     "name": "stdout",
     "output_type": "stream",
     "text": [
      "blockcount: 101\n"
     ]
    }
   ],
   "source": [
    "# Make sure bitcoind is not already running\n",
    "os.system(\"bitcoin-cli -regtest stop\")\n",
    "time.sleep(1.5) \n",
    "\n",
    "# Delete any previous files to restart regtest\n",
    "os.system(\"rm -rfv $HOME/Library/Application\\ Support/Bitcoin/regtest/\")\n",
    "\n",
    "# start up bitcoind in regtest mode\n",
    "os.system(\"bitcoind -regtest -daemon\")\n",
    "time.sleep(1.5)\n",
    "\n",
    "# generate 101 blocks so we can fund transactions\n",
    "os.system(\"bitcoin-cli -regtest generate 101\")\n",
    "blockcount = subprocess.getoutput(\"bitcoin-cli -regtest getblockcount\")\n",
    "\n",
    "print(\"blockcount: \" + str(blockcount))"
   ]
  },
  {
   "cell_type": "markdown",
   "metadata": {},
   "source": [
    "Generate base58 address for the escrow funder"
   ]
  },
  {
   "cell_type": "code",
   "execution_count": 5,
   "metadata": {},
   "outputs": [
    {
     "name": "stdout",
     "output_type": "stream",
     "text": [
      "Address: 2N1jKbzrUkf583t9mM9ePN3rkqdCwryKcf9\n"
     ]
    }
   ],
   "source": [
    "# Generate p2sh-p2wpkh address to fund the escrow funder\n",
    "privkey = bytes.fromhex(funding_privkey_hex)\n",
    "public_key = privkey_to_pubkey(privkey)\n",
    "p2sh_p2wpkh_address = pk_to_p2sh_p2wpkh(public_key, testnet = True)\n",
    "\n",
    "# print(\"Private key: \" + privkey.hex())\n",
    "# print(\"Public key: \" + public_key.hex())\n",
    "print(\"Address: \" + p2sh_p2wpkh_address)"
   ]
  },
  {
   "cell_type": "markdown",
   "metadata": {},
   "source": [
    "Send btc to the escrow funder"
   ]
  },
  {
   "cell_type": "code",
   "execution_count": 6,
   "metadata": {},
   "outputs": [
    {
     "name": "stdout",
     "output_type": "stream",
     "text": [
      "f9ce2c4091906a5e8041db4e4da359f580ff875daf2bea318520ff856a5d33dc\n"
     ]
    }
   ],
   "source": [
    "txid_1 = subprocess.getoutput(\"bitcoin-cli -regtest sendtoaddress \" + p2sh_p2wpkh_address + \" 11.3\")\n",
    "print(txid_1)"
   ]
  },
  {
   "cell_type": "code",
   "execution_count": 7,
   "metadata": {},
   "outputs": [
    {
     "name": "stdout",
     "output_type": "stream",
     "text": [
      "index: 0\n"
     ]
    }
   ],
   "source": [
    "# Find which output index the btc was sent to\n",
    "raw_tx = subprocess.getoutput(\"bitcoin-cli -regtest getrawtransaction \" + txid_1)\n",
    "decoded = subprocess.getoutput(\"bitcoin-cli -regtest decoderawtransaction \" + raw_tx)\n",
    "d = json.loads(decoded)\n",
    "# print(decoded)\n",
    "\n",
    "if d[\"vout\"][0][\"scriptPubKey\"][\"addresses\"][0] == p2sh_p2wpkh_address:\n",
    "    index = 0\n",
    "else:\n",
    "    index = 1\n",
    "print(\"index: \" + str(index))"
   ]
  },
  {
   "cell_type": "code",
   "execution_count": 8,
   "metadata": {},
   "outputs": [],
   "source": [
    "os.system(\"bitcoin-cli -regtest generate 1\");"
   ]
  },
  {
   "cell_type": "markdown",
   "metadata": {},
   "source": [
    "Generate raw escrow funding transaction"
   ]
  },
  {
   "cell_type": "code",
   "execution_count": 9,
   "metadata": {},
   "outputs": [
    {
     "name": "stdout",
     "output_type": "stream",
     "text": [
      "02000000000101dc335d6a85ff208531ea2baf5d87ff80f559a34d4edb41805e6a9091402ccef90000000017160014fc5cc2b7bdcb852b225434d133769a551486950affffffff02fff6cb3c00000000220020666c6bfa88ba97c90cb04c7038d56b5854e71a4dd174d79b1260c822a14f791e00e1f50500000000160014f3a8a4335c0ef84806d93315e56965f13d522e5f024730440220195e52dd28d94ebe83eeda77868fead9a2f4927271b1b433fa171019068160d102204f02d33d4993dd2962d07af8eaf48878d2b69974bc6e7b48515e011606efe238012103e2aa89cce89e9b2d6f09b20a2096226328f114a4ca62e6ea416b4d7c4573086e00000000\n"
     ]
    }
   ],
   "source": [
    "raw_escrow_tx = subprocess.getoutput(\"python funding_tx_with_change.py\" \n",
    "                        + \" --funding_privkey \" + funding_privkey_hex\n",
    "                        + \" --txid \" + txid_1\n",
    "                        + \" --index \" + str(index)\n",
    "                        + \" --amount_btc \" + \"11.3\"\n",
    "                        + \" --merch_pubkey \" + merch_pubkey_hex\n",
    "                        + \" --cust_pubkey \" + cust_pubkey_hex\n",
    "                        + \" --change_pubkey \" + change_pubkey_hex\n",
    "                        + \" --escrow_btc \" + \"10.2\"\n",
    "                        + \" --change_btc \" + \"1\")\n",
    "print(raw_escrow_tx)"
   ]
  },
  {
   "cell_type": "markdown",
   "metadata": {},
   "source": [
    "Broadcast escrow funding transaction"
   ]
  },
  {
   "cell_type": "code",
   "execution_count": 10,
   "metadata": {},
   "outputs": [
    {
     "name": "stdout",
     "output_type": "stream",
     "text": [
      "eb00fb921db2ae8ec254a1258334989fa6d31240f9d094b8f6bba3732cf624f9\n"
     ]
    }
   ],
   "source": [
    "escrow_txid = subprocess.getoutput(\"bitcoin-cli -regtest sendrawtransaction \" + raw_escrow_tx + \" true\")\n",
    "# \"true\" flag means we are okay with absurdly high tx fee\n",
    "print(escrow_txid)"
   ]
  },
  {
   "cell_type": "code",
   "execution_count": 11,
   "metadata": {
    "scrolled": false
   },
   "outputs": [],
   "source": [
    "raw_escrow_tx1 = subprocess.getoutput(\"bitcoin-cli -regtest getrawtransaction \" + escrow_txid)\n",
    "decoded = subprocess.getoutput(\"bitcoin-cli -regtest decoderawtransaction \" + raw_escrow_tx1)\n",
    "# print(decoded)"
   ]
  },
  {
   "cell_type": "code",
   "execution_count": 12,
   "metadata": {},
   "outputs": [],
   "source": [
    "os.system(\"bitcoin-cli -regtest generate 1\");"
   ]
  },
  {
   "cell_type": "markdown",
   "metadata": {},
   "source": [
    "Create transaction spending from the change output of the escrow transaction"
   ]
  },
  {
   "cell_type": "code",
   "execution_count": 13,
   "metadata": {},
   "outputs": [
    {
     "name": "stdout",
     "output_type": "stream",
     "text": [
      "02000000000101f924f62c73a3bbf6b894d0f94012d3a69f98348325a154c28eaeb21d92fb00eb0000000000ffffffff03809e47300000000022002024fdfddacb774716169995d839b3eb07809a5133c4d4a6254615b113f2a4e82e00c2eb0b00000000160014d4354803d10e77eccfc3bf06c152ae694d05d3810000000000000000376a35bf1ad41a96ff238d0b6fee50c8e2cd5bd757ab8803195e272df2310ded35f9958fd0c2847bf73b5b429a716c005d465009bd768641040047304402207e99a781cdce5805591b4de5f58e3f6eb46882f17ae193a7803c8593186013c302203500e9a76595331d8ec350aec37b9715bfc00dcdb4a35a16ddb19aea27adb4510147304402206818b9b88a49dc04872883906eca6b7959a9c39c5b3fd9b9e2f7aed50eadcb1d022043db03189604c479a0e11f87b48da66263b164bd49df15870ca7ac1e0c4b9caf0147522102f3d17ca1ac6dcf42b0297a71abb87f79dfa2c66278cbb99c1437e6570643ce902103fc43b44cd953c7b92726ebefe482a272538c7e40fdcde5994a62841525afa8d752ae00000000\n"
     ]
    }
   ],
   "source": [
    "raw_cust_close_tx = subprocess.getoutput(\"python cust_close_from_escrow.py\"        \n",
    "                + \" --cust_privkey \" + cust_privkey_hex \n",
    "                + \" --merch_privkey \" + merch_privkey_hex      \n",
    "                + \" --merch_close_pubkey \" + merch_close_pubkey_hex   \n",
    "                + \" --merch_disp_pubkey \" + merch_disp_pubkey_hex     \n",
    "                + \" --cust_close_pubkey \" + cust_close_pubkey_hex     \n",
    "                + \" --revocation_lock \" + revocation_lock_hex      \n",
    "                + \" --to_self_delay \" + \"05cf\" # number of blocks to delay to-self output       \n",
    "                + \" --txid \" + escrow_txid\n",
    "                + \" --index \" + \"0\"\n",
    "                + \" --amount_btc \" + \"10.2\"\n",
    "                + \" --script_output_btc \" + \"8.1\"\n",
    "                + \" --merch_output_btc \" + \"2\")\n",
    "print(raw_cust_close_tx)\n",
    "\n",
    "decoded = subprocess.getoutput(\"bitcoin-cli -regtest decoderawtransaction \" + raw_cust_close_tx)\n",
    "# print(decoded)"
   ]
  },
  {
   "cell_type": "code",
   "execution_count": 14,
   "metadata": {},
   "outputs": [
    {
     "name": "stdout",
     "output_type": "stream",
     "text": [
      "82152c40bd80aee4f7b09b9131e189448734ca7d0e66423180c7098c55d51532\n"
     ]
    }
   ],
   "source": [
    "cust_close_txid = subprocess.getoutput(\"bitcoin-cli -regtest sendrawtransaction \" + raw_cust_close_tx + \" true\")\n",
    "print(cust_close_txid)"
   ]
  },
  {
   "cell_type": "code",
   "execution_count": 15,
   "metadata": {},
   "outputs": [
    {
     "name": "stdout",
     "output_type": "stream",
     "text": [
      "{\n",
      "  \"txid\": \"82152c40bd80aee4f7b09b9131e189448734ca7d0e66423180c7098c55d51532\",\n",
      "  \"hash\": \"24f17e10cad008413149206b8bd9bd005f9f006b46bfbf9a1c97ca952f8a67e8\",\n",
      "  \"version\": 2,\n",
      "  \"size\": 409,\n",
      "  \"vsize\": 244,\n",
      "  \"weight\": 976,\n",
      "  \"locktime\": 0,\n",
      "  \"vin\": [\n",
      "    {\n",
      "      \"txid\": \"eb00fb921db2ae8ec254a1258334989fa6d31240f9d094b8f6bba3732cf624f9\",\n",
      "      \"vout\": 0,\n",
      "      \"scriptSig\": {\n",
      "        \"asm\": \"\",\n",
      "        \"hex\": \"\"\n",
      "      },\n",
      "      \"txinwitness\": [\n",
      "        \"\",\n",
      "        \"304402207e99a781cdce5805591b4de5f58e3f6eb46882f17ae193a7803c8593186013c302203500e9a76595331d8ec350aec37b9715bfc00dcdb4a35a16ddb19aea27adb45101\",\n",
      "        \"304402206818b9b88a49dc04872883906eca6b7959a9c39c5b3fd9b9e2f7aed50eadcb1d022043db03189604c479a0e11f87b48da66263b164bd49df15870ca7ac1e0c4b9caf01\",\n",
      "        \"522102f3d17ca1ac6dcf42b0297a71abb87f79dfa2c66278cbb99c1437e6570643ce902103fc43b44cd953c7b92726ebefe482a272538c7e40fdcde5994a62841525afa8d752ae\"\n",
      "      ],\n",
      "      \"sequence\": 4294967295\n",
      "    }\n",
      "  ],\n",
      "  \"vout\": [\n",
      "    {\n",
      "      \"value\": 8.10000000,\n",
      "      \"n\": 0,\n",
      "      \"scriptPubKey\": {\n",
      "        \"asm\": \"0 24fdfddacb774716169995d839b3eb07809a5133c4d4a6254615b113f2a4e82e\",\n",
      "        \"hex\": \"002024fdfddacb774716169995d839b3eb07809a5133c4d4a6254615b113f2a4e82e\",\n",
      "        \"reqSigs\": 1,\n",
      "        \"type\": \"witness_v0_scripthash\",\n",
      "        \"addresses\": [\n",
      "          \"bcrt1qyn7lmkktwar3v95ejhvrnvltq7qf55fncn22vf2xzkc38u4yaqhqk6753n\"\n",
      "        ]\n",
      "      }\n",
      "    },\n",
      "    {\n",
      "      \"value\": 2.00000000,\n",
      "      \"n\": 1,\n",
      "      \"scriptPubKey\": {\n",
      "        \"asm\": \"0 d4354803d10e77eccfc3bf06c152ae694d05d381\",\n",
      "        \"hex\": \"0014d4354803d10e77eccfc3bf06c152ae694d05d381\",\n",
      "        \"reqSigs\": 1,\n",
      "        \"type\": \"witness_v0_keyhash\",\n",
      "        \"addresses\": [\n",
      "          \"bcrt1q6s65sq73pem7en7rhurvz54wd9xst5upjhlvwj\"\n",
      "        ]\n",
      "      }\n",
      "    },\n",
      "    {\n",
      "      \"value\": 0.00000000,\n",
      "      \"n\": 2,\n",
      "      \"scriptPubKey\": {\n",
      "        \"asm\": \"OP_RETURN bf1ad41a96ff238d0b6fee50c8e2cd5bd757ab8803195e272df2310ded35f9958fd0c2847bf73b5b429a716c005d465009bd768641\",\n",
      "        \"hex\": \"6a35bf1ad41a96ff238d0b6fee50c8e2cd5bd757ab8803195e272df2310ded35f9958fd0c2847bf73b5b429a716c005d465009bd768641\",\n",
      "        \"type\": \"nulldata\"\n",
      "      }\n",
      "    }\n",
      "  ]\n",
      "}\n"
     ]
    }
   ],
   "source": [
    "cust_close_tx = subprocess.getoutput(\"bitcoin-cli -regtest getrawtransaction \" + cust_close_txid)\n",
    "decoded = subprocess.getoutput(\"bitcoin-cli -regtest decoderawtransaction \" + cust_close_tx)\n",
    "print(decoded)"
   ]
  },
  {
   "cell_type": "markdown",
   "metadata": {},
   "source": [
    "## Cust-claim from cust-close is valid after to_self_delay"
   ]
  },
  {
   "cell_type": "code",
   "execution_count": 16,
   "metadata": {},
   "outputs": [
    {
     "name": "stdout",
     "output_type": "stream",
     "text": [
      "020000000001013215d5558c09c7803142660e7dca34874489e131919bb0f7e4ae80bd402c15820000000000cf050000010008af2f00000000160014b7cfef435e3701fdedb7a11164ae44d561698bb9034830450221008588bc52827ae8993a9dd1ead60281fbf7eee158bc7e95a2db17f198173e346702203dc833d39f4dade36ba5a4e3c5fcc7ddf00ecf569e2d7889577bdf036e124bb701006463a914bf1ad41a96ff238d0b6fee50c8e2cd5bd757ab8888210253be79afe84fd9342c1f52024379b6da6299ea98844aee23838e8e678a765f7c6702cf05b2752103195e272df2310ded35f9958fd0c2847bf73b5b429a716c005d465009bd76864168ac00000000\n"
     ]
    }
   ],
   "source": [
    "raw_cust_claim_tx = subprocess.getoutput(\"python cust_claim.py\"   \n",
    "                + \" --cust_close_privkey \" + cust_close_privkey_hex \n",
    "                + \" --output_pubkey \" + \"024596d7b33733c28101dbc6c85901dffaed0cdac63ab0b2ea141217d1990ad4b1\"    \n",
    "                + \" --merch_disp_pubkey \" + merch_disp_pubkey_hex   \n",
    "                + \" --revocation_lock \" + revocation_lock_hex     \n",
    "                + \" --to_self_delay \" + \"05cf\" # number of blocks to delay to-self output         \n",
    "                + \" --txid \" + cust_close_txid\n",
    "                + \" --index \" + \"0\"\n",
    "                + \" --amount_btc \" + \"8.1\"\n",
    "                + \" --output_btc \" + \"8\")\n",
    "print(raw_cust_claim_tx)\n",
    "\n",
    "\n",
    "decoded = subprocess.getoutput(\"bitcoin-cli -regtest decoderawtransaction \" + raw_cust_claim_tx)\n",
    "# print(decoded)"
   ]
  },
  {
   "cell_type": "code",
   "execution_count": 17,
   "metadata": {},
   "outputs": [],
   "source": [
    "os.system(\"bitcoin-cli -regtest generate 1486\");"
   ]
  },
  {
   "cell_type": "markdown",
   "metadata": {},
   "source": [
    "Only 1486 blocks mined, one less than the delay_to_self of 1487 blocks"
   ]
  },
  {
   "cell_type": "code",
   "execution_count": 18,
   "metadata": {},
   "outputs": [
    {
     "name": "stdout",
     "output_type": "stream",
     "text": [
      "error code: -26\n",
      "error message:\n",
      "non-BIP68-final (code 64)\n"
     ]
    }
   ],
   "source": [
    "cust_claim_txid = subprocess.getoutput(\"bitcoin-cli -regtest sendrawtransaction \" + raw_cust_claim_tx + \" true\")\n",
    "print(cust_claim_txid)"
   ]
  },
  {
   "cell_type": "markdown",
   "metadata": {},
   "source": [
    "Generate 1 more block and try again"
   ]
  },
  {
   "cell_type": "code",
   "execution_count": 19,
   "metadata": {},
   "outputs": [],
   "source": [
    "os.system(\"bitcoin-cli -regtest generate 1\");"
   ]
  },
  {
   "cell_type": "code",
   "execution_count": 20,
   "metadata": {},
   "outputs": [],
   "source": [
    "# cust_claim_txid = subprocess.getoutput(\"bitcoin-cli -regtest sendrawtransaction \" + raw_cust_claim_tx + \" true\")\n",
    "# print(cust_claim_txid)"
   ]
  },
  {
   "cell_type": "code",
   "execution_count": 21,
   "metadata": {},
   "outputs": [],
   "source": [
    "# cust_claim_tx = subprocess.getoutput(\"bitcoin-cli -regtest getrawtransaction \" + cust_claim_txid)\n",
    "# decoded = subprocess.getoutput(\"bitcoin-cli -regtest decoderawtransaction \" + cust_claim_tx)\n",
    "# print(decoded)"
   ]
  },
  {
   "cell_type": "markdown",
   "metadata": {},
   "source": [
    "## Merch-dispute-tx"
   ]
  },
  {
   "cell_type": "code",
   "execution_count": 22,
   "metadata": {},
   "outputs": [
    {
     "name": "stdout",
     "output_type": "stream",
     "text": [
      "020000000001013215d5558c09c7803142660e7dca34874489e131919bb0f7e4ae80bd402c15820000000000ffffffff010008af2f00000000160014b7cfef435e3701fdedb7a11164ae44d561698bb9044730440220665f9b0d0d966452b99d9b057eaf56b27e17c3bd7d0d1a0e81c48a66e2267a95022015c25af3f88cd19a0c8a5045e967dce244c5957f4d7e6541f05709a1f1a43df50120401111111111111111111111111111111111111111111111111111111111111101016463a914bf1ad41a96ff238d0b6fee50c8e2cd5bd757ab8888210253be79afe84fd9342c1f52024379b6da6299ea98844aee23838e8e678a765f7c6702cf05b2752103195e272df2310ded35f9958fd0c2847bf73b5b429a716c005d465009bd76864168ac00000000\n"
     ]
    }
   ],
   "source": [
    "raw_merch_dispute_tx = subprocess.getoutput(\"python merch_dispute.py\"   \n",
    "                + \" --merch_disp_privkey \" + merch_disp_privkey_hex \n",
    "                + \" --revocation_secret \" + revocation_secret_hex \n",
    "                + \" --cust_close_pubkey \" + cust_close_pubkey_hex   \n",
    "                + \" --output_pubkey \" + \"024596d7b33733c28101dbc6c85901dffaed0cdac63ab0b2ea141217d1990ad4b1\"    \n",
    "                + \" --to_self_delay \" + \"05cf\" # number of blocks to delay to-self output         \n",
    "                + \" --txid \" + cust_close_txid\n",
    "                + \" --index \" + \"0\"\n",
    "                + \" --amount_btc \" + \"8.1\"\n",
    "                + \" --output_btc \" + \"8\")\n",
    "print(raw_merch_dispute_tx)\n",
    "\n",
    "\n",
    "# decoded = subprocess.getoutput(\"bitcoin-cli -regtest decoderawtransaction \" + raw_merch_dispute_tx)\n",
    "# print(decoded)"
   ]
  },
  {
   "cell_type": "code",
   "execution_count": 23,
   "metadata": {},
   "outputs": [
    {
     "name": "stdout",
     "output_type": "stream",
     "text": [
      "e38a0aabf2998823f5a7e1696df4bf2737cd582526bc4dbe0e7f9e4c4344a17b\n"
     ]
    }
   ],
   "source": [
    "merch_dispute_txid = subprocess.getoutput(\"bitcoin-cli -regtest sendrawtransaction \" + raw_merch_dispute_tx + \" true\")\n",
    "print(merch_dispute_txid)"
   ]
  },
  {
   "cell_type": "code",
   "execution_count": 24,
   "metadata": {},
   "outputs": [
    {
     "name": "stdout",
     "output_type": "stream",
     "text": [
      "{\n",
      "  \"txid\": \"e38a0aabf2998823f5a7e1696df4bf2737cd582526bc4dbe0e7f9e4c4344a17b\",\n",
      "  \"hash\": \"bb35dda2a717d0098915b4ab8707d43ce22bd8d3aefc2ccfa199ab41ba1b7d75\",\n",
      "  \"version\": 2,\n",
      "  \"size\": 293,\n",
      "  \"vsize\": 135,\n",
      "  \"weight\": 539,\n",
      "  \"locktime\": 0,\n",
      "  \"vin\": [\n",
      "    {\n",
      "      \"txid\": \"82152c40bd80aee4f7b09b9131e189448734ca7d0e66423180c7098c55d51532\",\n",
      "      \"vout\": 0,\n",
      "      \"scriptSig\": {\n",
      "        \"asm\": \"\",\n",
      "        \"hex\": \"\"\n",
      "      },\n",
      "      \"txinwitness\": [\n",
      "        \"30440220665f9b0d0d966452b99d9b057eaf56b27e17c3bd7d0d1a0e81c48a66e2267a95022015c25af3f88cd19a0c8a5045e967dce244c5957f4d7e6541f05709a1f1a43df501\",\n",
      "        \"4011111111111111111111111111111111111111111111111111111111111111\",\n",
      "        \"01\",\n",
      "        \"63a914bf1ad41a96ff238d0b6fee50c8e2cd5bd757ab8888210253be79afe84fd9342c1f52024379b6da6299ea98844aee23838e8e678a765f7c6702cf05b2752103195e272df2310ded35f9958fd0c2847bf73b5b429a716c005d465009bd76864168ac\"\n",
      "      ],\n",
      "      \"sequence\": 4294967295\n",
      "    }\n",
      "  ],\n",
      "  \"vout\": [\n",
      "    {\n",
      "      \"value\": 8.00000000,\n",
      "      \"n\": 0,\n",
      "      \"scriptPubKey\": {\n",
      "        \"asm\": \"0 b7cfef435e3701fdedb7a11164ae44d561698bb9\",\n",
      "        \"hex\": \"0014b7cfef435e3701fdedb7a11164ae44d561698bb9\",\n",
      "        \"reqSigs\": 1,\n",
      "        \"type\": \"witness_v0_keyhash\",\n",
      "        \"addresses\": [\n",
      "          \"bcrt1qkl877s67xuqlmmdh5ygkftjy64sknzaemq853c\"\n",
      "        ]\n",
      "      }\n",
      "    }\n",
      "  ]\n",
      "}\n"
     ]
    }
   ],
   "source": [
    "merch_dispute_tx = subprocess.getoutput(\"bitcoin-cli -regtest getrawtransaction \" + merch_dispute_txid)\n",
    "decoded = subprocess.getoutput(\"bitcoin-cli -regtest decoderawtransaction \" + merch_dispute_tx)\n",
    "print(decoded)"
   ]
  },
  {
   "cell_type": "code",
   "execution_count": 25,
   "metadata": {},
   "outputs": [],
   "source": [
    "os.system(\"bitcoin-cli -regtest stop\")\n",
    "time.sleep(1.5) "
   ]
  },
  {
   "cell_type": "code",
   "execution_count": null,
   "metadata": {},
   "outputs": [],
   "source": []
  }
 ],
 "metadata": {
  "kernelspec": {
   "display_name": "Python 3",
   "language": "python",
   "name": "python3"
  },
  "language_info": {
   "codemirror_mode": {
    "name": "ipython",
    "version": 3
   },
   "file_extension": ".py",
   "mimetype": "text/x-python",
   "name": "python",
   "nbconvert_exporter": "python",
   "pygments_lexer": "ipython3",
   "version": "3.6.8"
  }
 },
 "nbformat": 4,
 "nbformat_minor": 2
}
