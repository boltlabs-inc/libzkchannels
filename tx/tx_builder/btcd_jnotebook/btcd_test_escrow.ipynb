{
 "cells": [
  {
   "cell_type": "code",
   "execution_count": 2,
   "metadata": {
    "code_folding": [
     0,
     11,
     16,
     20
    ]
   },
   "outputs": [],
   "source": [
    "#\n",
    "import base58\n",
    "import bech32\n",
    "import binascii\n",
    "import ecdsa\n",
    "import hashlib\n",
    "import json\n",
    "import os\n",
    "import subprocess\n",
    "import time\n",
    "\n",
    "def dSHA256(data):\n",
    "    hash_1 = hashlib.sha256(data).digest()\n",
    "    hash_2 = hashlib.sha256(hash_1).digest()\n",
    "    return hash_2\n",
    "\n",
    "def hash160(s):\n",
    "    '''sha256 followed by ripemd160'''\n",
    "    return hashlib.new('ripemd160', hashlib.sha256(s).digest()).digest()\n",
    "\n",
    "def privkey_to_pubkey(privkey):\n",
    "    signing_key = ecdsa.SigningKey.from_string(privkey, curve=ecdsa.SECP256k1) # Don't forget to specify the curve\n",
    "    verifying_key = signing_key.get_verifying_key()\n",
    "\n",
    "    # Use this code block if the address you gave corresponds to the compressed public key\n",
    "    x_cor = bytes.fromhex(verifying_key.to_string().hex())[:32] # The first 32 bytes are the x coordinate\n",
    "    y_cor = bytes.fromhex(verifying_key.to_string().hex())[32:] # The last 32 bytes are the y coordinate\n",
    "    if int.from_bytes(y_cor, byteorder=\"big\", signed=True) % 2 == 0: # We need to turn the y_cor into a number.\n",
    "        public_key = bytes.fromhex(\"02\" + x_cor.hex())\n",
    "    else:\n",
    "        public_key = bytes.fromhex(\"03\" + x_cor.hex())\n",
    "    return public_key"
   ]
  },
  {
   "cell_type": "code",
   "execution_count": 3,
   "metadata": {
    "code_folding": [
     0
    ]
   },
   "outputs": [],
   "source": [
    "# Functions related to generating bitcoin addresses\n",
    "\n",
    "def encode_base58(s):\n",
    "    BASE58_ALPHABET = '123456789ABCDEFGHJKLMNPQRSTUVWXYZabcdefghijkmnopqrstuvwxyz'\n",
    "    count = 0\n",
    "    for c in s:  \n",
    "        if c == 0:\n",
    "            count += 1\n",
    "        else:\n",
    "            break\n",
    "    num = int.from_bytes(s, 'big')\n",
    "    prefix = '1' * count\n",
    "    result = ''\n",
    "    while num > 0:  \n",
    "        num, mod = divmod(num, 58)\n",
    "        result = BASE58_ALPHABET[mod] + result\n",
    "    return prefix + result\n",
    "\n",
    "def encode_base58_checksum(b):\n",
    "    return encode_base58(b + dSHA256(b)[:4])\n",
    "\n",
    "# https://en.bitcoin.it/wiki/Wallet_import_format\n",
    "def privkey_to_wif(privkey, compressed_pubkey, testnet):\n",
    "    if testnet:\n",
    "        prefix = b\"\\xEF\"\n",
    "    else:\n",
    "        prefix = b\"\\x80\"\n",
    "    \n",
    "    # if the privkey will correspond to a compressed public key\n",
    "    if compressed_pubkey: \n",
    "        extended = prefix + privkey + b\"\\x01\"\n",
    "    else:\n",
    "        extended = prefix + privkey \n",
    "        \n",
    "    extendedchecksum = extended + dSHA256(extended)[:4]\n",
    "    wif = encode_base58(extendedchecksum)\n",
    "    \n",
    "    return wif\n",
    "\n",
    "# https://learnmeabitcoin.com/guide/wif\n",
    "def wif_to_privkey(private_key_WIF):\n",
    "    private_key_full = base58.b58decode(private_key_WIF)\n",
    "    \n",
    "    # If the WIF encoding includes the optional \"01\" byte for compressed privKey,\n",
    "    # do not include it in the final output.\n",
    "    if len(private_key_full) == 38:\n",
    "        private_key = private_key_full[1:-5] \n",
    "        print(\"compressed pubkey\")\n",
    "    else:\n",
    "        private_key = private_key_full[1:-4] \n",
    "        print(\"not compressed pubkey\")\n",
    "    return private_key\n",
    "\n",
    "\n",
    "def pk_to_p2pkh(compressed, network):\n",
    "    '''Returns the address string'''\n",
    "    pk_hash = hash160(compressed)\n",
    "    if network == \"testnet\":\n",
    "        prefix = b'\\x6f'\n",
    "    elif network == \"simnet\":\n",
    "        prefix = b'\\x3f'\n",
    "    elif network == \"mainnet\":\n",
    "        prefix = b'\\x00'\n",
    "    else:\n",
    "        return \"Enter the network: tesnet/simnet/mainnet\"\n",
    "    return encode_base58_checksum(prefix + pk_hash)\n",
    "\n",
    "def pk_to_p2sh_p2wpkh(compressed, network):\n",
    "    pk_hash = hash160(compressed)\n",
    "    redeemScript = bytes.fromhex(f\"0014{pk_hash.hex()}\")\n",
    "    rs_hash = hash160(redeemScript)\n",
    "    if network == \"testnet\":\n",
    "        prefix = b\"\\xc4\"\n",
    "    elif network == \"simnet\":\n",
    "        prefix = b'\\x7b'\n",
    "    elif network == \"mainnet\":\n",
    "        prefix = b\"\\x05\"\n",
    "    else:\n",
    "        return \"Enter the network: tesnet/simnet/mainnet\"\n",
    "    return encode_base58_checksum(prefix + rs_hash)\n",
    "\n",
    "\n",
    "def pk_to_p2wpkh(compressed, network):\n",
    "    pk_hash = hash160(compressed)\n",
    "    redeemScript = bytes.fromhex(f\"0014{pk_hash.hex()}\")\n",
    "    spk = binascii.unhexlify(redeemScript.hex())\n",
    "    version = spk[0] - 0x50 if spk[0] else 0\n",
    "    program = spk[2:]\n",
    "    if network == \"testnet\":\n",
    "        prefix = 'tb'\n",
    "    elif network == \"simnet\":\n",
    "        prefix = 'sb'\n",
    "    elif network == \"mainnet\":\n",
    "        prefix = 'bc'\n",
    "    else:\n",
    "        return \"Enter the network: tesnet/simnet/mainnet\"\n",
    "    return bech32.encode(prefix, version, program)\n",
    "    \n",
    "    \n",
    "def wif_to_addresses(wif):\n",
    "#     wif = \"cUy9rC6wteKizfu1fgP2abKUWTkJxjqKp2fba91FkU332CFHo6ix\"\n",
    "    privkey = wif_to_privkey(wif)\n",
    "    public_key = privkey_to_pubkey(privkey)\n",
    "    p2pkh_address = pk_to_p2pkh(public_key, network = \"simnet\")\n",
    "    p2sh_p2wpkh_address = pk_to_p2sh_p2wpkh(public_key, network = \"simnet\")\n",
    "\n",
    "    print(\"WIF Private key: \" + wif)\n",
    "    print(\"Private key: \" + privkey.hex())\n",
    "    print(\"Public key: \" + public_key.hex())\n",
    "    print(\"Public key hash: \" + hash160(public_key).hex())\n",
    "    print(\"Address: \" + p2pkh_address)\n",
    "    print(\"Address: \" + p2sh_p2wpkh_address)\n",
    "    \n",
    "def privkey_to_addresses(privkey):\n",
    "    # privkey = bytes.fromhex(\"AF933A6C602069F1CBC85990DF087714D7E86DF0D0E48398B7D8953E1F03534A\")\n",
    "    public_key = privkey_to_pubkey(privkey)\n",
    "    p2pkh_address = pk_to_p2pkh(public_key, network = \"simnet\")\n",
    "    p2sh_p2wpkh_address = pk_to_p2sh_p2wpkh(public_key, network = \"simnet\")\n",
    "    p2wpkh_address = pk_to_p2wpkh(public_key, network = \"simnet\")\n",
    "\n",
    "    print(\"Private key: \" + privkey.hex())\n",
    "    print(\"Public key: \" + public_key.hex())\n",
    "    print(\"Public key hash: \" + hash160(public_key).hex())\n",
    "    print(\"p2pkh_address: \" + p2pkh_address)\n",
    "    print(\"np2wkh_address: \" + p2sh_p2wpkh_address)\n",
    "    print(\"p2wpkh_address: \" + p2wpkh_address)"
   ]
  },
  {
   "cell_type": "markdown",
   "metadata": {},
   "source": [
    "# Testing escrow tx created by ln-mpc"
   ]
  },
  {
   "cell_type": "markdown",
   "metadata": {},
   "source": [
    "Note, things to consider:\n",
    "\n",
    "btcd simnet addresses have their own format.\n",
    "can mining reward be payed out to p2wpkh?\n",
    "\n",
    "There was no minimum relay/mempool fee on btcd simnet.\n",
    "\n",
    "btcd command \"searchrawtransaction\" may be useful for future. <br>\n",
    "e.g.  \"btcctl --simnet --rpcuser=kek --rpcpass=kek searchrawtransactions rYETLRYoqXCLT5FiSGMDFK9THqro7RuFrG\"\n",
    "where rYETLRYoqXCLT5FiSGMDFK9THqro7RuFrG is the address. <br>\n",
    "--addrindex must be set in order to use this command"
   ]
  },
  {
   "cell_type": "code",
   "execution_count": 17,
   "metadata": {
    "code_folding": []
   },
   "outputs": [],
   "source": [
    "# Generate example priv/pubkeys\n",
    "miner_privkey_hex = \"1111111111111111111111111111111100000000000000000000000000000000\"\n",
    "miner_pubkey_bytes = privkey_to_pubkey(bytes.fromhex(miner_privkey_hex))\n",
    "miner_p2wpkh_address = pk_to_p2wpkh(miner_pubkey_bytes, network = \"simnet\")\n",
    "miner_p2sh_p2wpkh_address = pk_to_p2sh_p2wpkh(miner_pubkey_bytes, network = \"simnet\")"
   ]
  },
  {
   "cell_type": "markdown",
   "metadata": {},
   "source": [
    "#### Stop btcd and start again (from another terminal), with alice's address as the mining address"
   ]
  },
  {
   "cell_type": "code",
   "execution_count": 5,
   "metadata": {},
   "outputs": [
    {
     "data": {
      "text/plain": [
       "'Post https://localhost:18556: dial tcp [::1]:18556: connect: connection refused'"
      ]
     },
     "execution_count": 5,
     "metadata": {},
     "output_type": "execute_result"
    }
   ],
   "source": [
    "# Make sure btcd is not already running\n",
    "subprocess.getoutput(\"btcctl --simnet --rpcuser=kek --rpcpass=kek stop\")"
   ]
  },
  {
   "cell_type": "code",
   "execution_count": 18,
   "metadata": {},
   "outputs": [
    {
     "data": {
      "text/plain": [
       "'btcd --txindex --simnet --rpcuser=kek --rpcpass=kek --miningaddr=rYETLRYoqXCLT5FiSGMDFK9THqro7RuFrG'"
      ]
     },
     "execution_count": 18,
     "metadata": {},
     "output_type": "execute_result"
    }
   ],
   "source": [
    "# start up btcd in simnet mode outside of notebook with this command\n",
    "str(\"btcd --txindex --simnet --rpcuser=kek --rpcpass=kek --miningaddr=\" + miner_p2sh_p2wpkh_address)"
   ]
  },
  {
   "cell_type": "code",
   "execution_count": 19,
   "metadata": {
    "code_folding": []
   },
   "outputs": [
    {
     "name": "stdout",
     "output_type": "stream",
     "text": [
      "blockhash: 68f39d710d38f8b62b77fc10d47327cde9da0eb2a90e0546f7c4ce3556e8b6b9\n",
      "block: {\n",
      "    \"hash\": \"68f39d710d38f8b62b77fc10d47327cde9da0eb2a90e0546f7c4ce3556e8b6b9\",\n",
      "    \"confirmations\": 1,\n",
      "    \"strippedsize\": 188,\n",
      "    \"size\": 188,\n",
      "    \"weight\": 752,\n",
      "    \"height\": 5663,\n",
      "    \"version\": 536870912,\n",
      "    \"versionHex\": \"20000000\",\n",
      "    \"merkleroot\": \"35bd8a0e899bccaa35b732a0b26fdba3f56f44c6f0543a0a62577d6636d7c211\",\n",
      "    \"tx\": [\n",
      "        \"35bd8a0e899bccaa35b732a0b26fdba3f56f44c6f0543a0a62577d6636d7c211\"\n",
      "    ],\n",
      "    \"time\": 1581592281,\n",
      "    \"nonce\": 0,\n",
      "    \"bits\": \"207fffff\",\n",
      "    \"difficulty\": 1,\n",
      "    \"previousblockhash\": \"120bb7d49c3ebc53ee5b1366d2831d4638564ce09b3a5b3d067feb56f32312a5\"\n",
      "}\n",
      "mined_txid: 35bd8a0e899bccaa35b732a0b26fdba3f56f44c6f0543a0a62577d6636d7c211\n"
     ]
    }
   ],
   "source": [
    "# generate 1 block and get the utxo\n",
    "blockhash = json.loads(subprocess.getoutput(\"btcctl --simnet --rpcuser=kek --rpcpass=kek generate 1\"))\n",
    "block = json.loads(subprocess.getoutput(\"btcctl --simnet --rpcuser=kek --rpcpass=kek getblock \" + blockhash[0]))\n",
    "print(\"blockhash: \" + str(blockhash[0]))\n",
    "print(\"block: \" + json.dumps(block, indent=4))\n",
    "\n",
    "# Assuming no other txs are in the block\n",
    "mined_txid = block[\"tx\"][0]\n",
    "print(\"mined_txid: \" + mined_txid)"
   ]
  },
  {
   "cell_type": "markdown",
   "metadata": {},
   "source": [
    "#### Decode the coinbase tx (just to view it)"
   ]
  },
  {
   "cell_type": "code",
   "execution_count": 20,
   "metadata": {},
   "outputs": [
    {
     "name": "stdout",
     "output_type": "stream",
     "text": [
      "{\n",
      "  \"txid\": \"35bd8a0e899bccaa35b732a0b26fdba3f56f44c6f0543a0a62577d6636d7c211\",\n",
      "  \"version\": 1,\n",
      "  \"locktime\": 0,\n",
      "  \"vin\": [\n",
      "    {\n",
      "      \"coinbase\": \"021f1608bdc0ca72eb9d957a0b2f503253482f627463642f\",\n",
      "      \"sequence\": 4294967295\n",
      "    }\n",
      "  ],\n",
      "  \"vout\": [\n",
      "    {\n",
      "      \"value\": 50,\n",
      "      \"n\": 0,\n",
      "      \"scriptPubKey\": {\n",
      "        \"asm\": \"OP_HASH160 1d2cc47e2a0d77927a333a2165fe2d343b79eefc OP_EQUAL\",\n",
      "        \"hex\": \"a9141d2cc47e2a0d77927a333a2165fe2d343b79eefc87\",\n",
      "        \"reqSigs\": 1,\n",
      "        \"type\": \"scripthash\",\n",
      "        \"addresses\": [\n",
      "          \"rYETLRYoqXCLT5FiSGMDFK9THqro7RuFrG\"\n",
      "        ]\n",
      "      }\n",
      "    }\n",
      "  ]\n",
      "}\n"
     ]
    }
   ],
   "source": [
    "mined_tx = subprocess.getoutput(\"btcctl --simnet --rpcuser=kek --rpcpass=kek getrawtransaction \" + mined_txid)\n",
    "decoded = subprocess.getoutput(\"btcctl --simnet --rpcuser=kek --rpcpass=kek decoderawtransaction \" + mined_tx)\n",
    "print(decoded)"
   ]
  },
  {
   "cell_type": "markdown",
   "metadata": {},
   "source": [
    "#### Generate 100 more blocks so that the previous coinbase tx can be spent"
   ]
  },
  {
   "cell_type": "code",
   "execution_count": 21,
   "metadata": {},
   "outputs": [],
   "source": [
    "subprocess.getoutput(\"btcctl --simnet --rpcuser=kek --rpcpass=kek generate 100\");"
   ]
  },
  {
   "cell_type": "markdown",
   "metadata": {},
   "source": [
    "#### Get the signedEscrowTx from ln-mpc and broadcast to the network"
   ]
  },
  {
   "cell_type": "code",
   "execution_count": 26,
   "metadata": {},
   "outputs": [],
   "source": [
    "raw_tx = \"0200000000010111c2d736667d57620a3a54f0c6446ff5a3db6fb2a032b735aacc9b890e8abd350000000017160014578dd1183845e18d42f90b1a9f3a464675ad2440ffffffff02282300000000000022002023f934ed0743383714a0798d80edb212a192643d1c5cfada3ecd9d5c8e417ab8d8ce052a0100000016001461492b43be394b9e6eeb077f17e73665bbfd455b0247304402201d7128ad2c64ee961badcbaa9d24a011facb3f3a09f6fe2ff36b95cc9d3d4da202206eb51dbfe66374b551fa692ca07010fd17d81bb0b89ba7882fb1f3150d3ea6370121021d5c5194a62b272f98a7d8321e4b3a03add9d61d13a15a00123888b81850cee200000000\"\n",
    "\n",
    "escrow_txid = subprocess.getoutput(\"btcctl --simnet --rpcuser=kek --rpcpass=kek sendrawtransaction \" + raw_tx)"
   ]
  },
  {
   "cell_type": "markdown",
   "metadata": {},
   "source": [
    "#### EscrowTxid returned by btcd"
   ]
  },
  {
   "cell_type": "code",
   "execution_count": 27,
   "metadata": {},
   "outputs": [
    {
     "name": "stdout",
     "output_type": "stream",
     "text": [
      "-27: TX rejected: transaction already exists\n"
     ]
    }
   ],
   "source": [
    "print(escrow_txid)"
   ]
  },
  {
   "cell_type": "code",
   "execution_count": null,
   "metadata": {},
   "outputs": [],
   "source": []
  }
 ],
 "metadata": {
  "kernelspec": {
   "display_name": "Python 3",
   "language": "python",
   "name": "python3"
  },
  "language_info": {
   "codemirror_mode": {
    "name": "ipython",
    "version": 3
   },
   "file_extension": ".py",
   "mimetype": "text/x-python",
   "name": "python",
   "nbconvert_exporter": "python",
   "pygments_lexer": "ipython3",
   "version": "3.6.8"
  }
 },
 "nbformat": 4,
 "nbformat_minor": 2
}
