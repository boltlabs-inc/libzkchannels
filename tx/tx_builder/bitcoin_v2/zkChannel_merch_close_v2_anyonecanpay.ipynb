{
 "cells": [
  {
   "cell_type": "code",
   "execution_count": 1,
   "metadata": {
    "code_folding": [
     9,
     14,
     18
    ]
   },
   "outputs": [],
   "source": [
    "import base58\n",
    "import binascii\n",
    "import ecdsa\n",
    "import hashlib\n",
    "import json\n",
    "import os\n",
    "import subprocess\n",
    "import time\n",
    "\n",
    "def dSHA256(data):\n",
    "    hash_1 = hashlib.sha256(data).digest()\n",
    "    hash_2 = hashlib.sha256(hash_1).digest()\n",
    "    return hash_2\n",
    "\n",
    "def hash160(s):\n",
    "    '''sha256 followed by ripemd160'''\n",
    "    return hashlib.new('ripemd160', hashlib.sha256(s).digest()).digest()\n",
    "\n",
    "def privkey_to_pubkey(privkey):\n",
    "    signing_key = ecdsa.SigningKey.from_string(privkey, curve=ecdsa.SECP256k1) # Don't forget to specify the curve\n",
    "    verifying_key = signing_key.get_verifying_key()\n",
    "\n",
    "    # Use this code block if the address you gave corresponds to the compressed public key\n",
    "    x_cor = bytes.fromhex(verifying_key.to_string().hex())[:32] # The first 32 bytes are the x coordinate\n",
    "    y_cor = bytes.fromhex(verifying_key.to_string().hex())[32:] # The last 32 bytes are the y coordinate\n",
    "    if int.from_bytes(y_cor, byteorder=\"big\", signed=True) % 2 == 0: # We need to turn the y_cor into a number.\n",
    "        public_key = bytes.fromhex(\"02\" + x_cor.hex())\n",
    "    else:\n",
    "        public_key = bytes.fromhex(\"03\" + x_cor.hex())\n",
    "    return public_key"
   ]
  },
  {
   "cell_type": "code",
   "execution_count": 2,
   "metadata": {
    "code_folding": [
     0
    ]
   },
   "outputs": [],
   "source": [
    "# Functions related to generating bitcoin addresses\n",
    "\n",
    "def encode_base58(s):\n",
    "    BASE58_ALPHABET = '123456789ABCDEFGHJKLMNPQRSTUVWXYZabcdefghijkmnopqrstuvwxyz'\n",
    "    count = 0\n",
    "    for c in s:  \n",
    "        if c == 0:\n",
    "            count += 1\n",
    "        else:\n",
    "            break\n",
    "    num = int.from_bytes(s, 'big')\n",
    "    prefix = '1' * count\n",
    "    result = ''\n",
    "    while num > 0:  \n",
    "        num, mod = divmod(num, 58)\n",
    "        result = BASE58_ALPHABET[mod] + result\n",
    "    return prefix + result\n",
    "\n",
    "def encode_base58_checksum(b):\n",
    "    return encode_base58(b + dSHA256(b)[:4])\n",
    "\n",
    "# https://en.bitcoin.it/wiki/Wallet_import_format\n",
    "def privkey_to_wif(privkey, compressed_pubkey, testnet):\n",
    "    if testnet:\n",
    "        prefix = b\"\\xEF\"\n",
    "    else:\n",
    "        prefix = b\"\\x80\"\n",
    "    \n",
    "    # if the privkey will correspond to a compressed public key\n",
    "    if compressed_pubkey: \n",
    "        extended = prefix + privkey + b\"\\x01\"\n",
    "    else:\n",
    "        extended = prefix + privkey \n",
    "        \n",
    "    extendedchecksum = extended + dSHA256(extended)[:4]\n",
    "    wif = encode_base58(extendedchecksum)\n",
    "    \n",
    "    return wif\n",
    "\n",
    "# https://learnmeabitcoin.com/guide/wif\n",
    "def wif_to_privkey(private_key_WIF):\n",
    "    private_key_full = base58.b58decode(private_key_WIF)\n",
    "    \n",
    "    # If the WIF encoding includes the optional \"01\" byte for compressed privKey,\n",
    "    # do not include it in the final output.\n",
    "    if len(private_key_full) == 38:\n",
    "        private_key = private_key_full[1:-5] \n",
    "        print(\"compressed pubkey\")\n",
    "    else:\n",
    "        private_key = private_key_full[1:-4] \n",
    "        print(\"not compressed pubkey\")\n",
    "    return private_key\n",
    "\n",
    "\n",
    "def pk_to_p2pkh(compressed, testnet):\n",
    "    '''Returns the address string'''\n",
    "    pk_hash = hash160(compressed)\n",
    "    if testnet:\n",
    "        prefix = b'\\x6f'\n",
    "    else:\n",
    "        prefix = b'\\x00'\n",
    "    return encode_base58_checksum(prefix + pk_hash)\n",
    "\n",
    "def pk_to_p2sh_p2wpkh(compressed, testnet):\n",
    "    pk_hash = hash160(compressed)\n",
    "    redeemScript = bytes.fromhex(f\"0014{pk_hash.hex()}\")\n",
    "    rs_hash = hash160(redeemScript)\n",
    "    if testnet:\n",
    "        prefix = b\"\\xc4\"\n",
    "    else:\n",
    "        prefix = b\"\\x05\"\n",
    "    return encode_base58_checksum(prefix + rs_hash)\n",
    "\n",
    "def wif_to_addresses(wif):\n",
    "#     wif = \"cUy9rC6wteKizfu1fgP2abKUWTkJxjqKp2fba91FkU332CFHo6ix\"\n",
    "    privkey = wif_to_privkey(wif)\n",
    "    public_key = privkey_to_pubkey(privkey)\n",
    "    p2pkh_address = pk_to_p2pkh(public_key, testnet = True)\n",
    "    p2sh_p2wpkh_address = pk_to_p2sh_p2wpkh(public_key, testnet = True)\n",
    "\n",
    "    print(\"WIF Private key: \" + wif)\n",
    "    print(\"Private key: \" + privkey.hex())\n",
    "    print(\"Public key: \" + public_key.hex())\n",
    "    print(\"Public key hash: \" + hash160(public_key).hex())\n",
    "    print(\"Address: \" + p2pkh_address)\n",
    "    print(\"Address: \" + p2sh_p2wpkh_address)\n",
    "    \n",
    "def privkey_to_addresses(privkey):\n",
    "    # privkey = bytes.fromhex(\"AF933A6C602069F1CBC85990DF087714D7E86DF0D0E48398B7D8953E1F03534A\")\n",
    "    public_key = privkey_to_pubkey(privkey)\n",
    "    p2pkh_address = pk_to_p2pkh(public_key, testnet = True)\n",
    "    p2sh_p2wpkh_address = pk_to_p2sh_p2wpkh(public_key, testnet = True)\n",
    "\n",
    "    print(\"Private key: \" + privkey.hex())\n",
    "    print(\"Public key: \" + public_key.hex())\n",
    "    print(\"Public key hash: \" + hash160(public_key).hex())\n",
    "    print(\"Address: \" + p2pkh_address)\n",
    "    print(\"Address: \" + p2sh_p2wpkh_address)"
   ]
  },
  {
   "cell_type": "markdown",
   "metadata": {},
   "source": [
    "# Merch close v2 - separate input/output for fees"
   ]
  },
  {
   "cell_type": "markdown",
   "metadata": {},
   "source": [
    "Generate all the priv/public keys"
   ]
  },
  {
   "cell_type": "code",
   "execution_count": 3,
   "metadata": {},
   "outputs": [],
   "source": [
    "funding_privkey_hex = \"1111111111111111111111111111111100000000000000000000000000000000\"\n",
    "funding_pubkey_hex = privkey_to_pubkey(bytes.fromhex(funding_privkey_hex)).hex()\n",
    "\n",
    "change_privkey_hex = \"1111111111111111111111111111111111111111111111111111111111111111\"\n",
    "change_pubkey_hex = privkey_to_pubkey(bytes.fromhex(change_privkey_hex)).hex()\n",
    "\n",
    "merch_privkey_hex = \"3911111111111111111111111111111111111111111111111111111111111111\"\n",
    "merch_pubkey_hex = privkey_to_pubkey(bytes.fromhex(merch_privkey_hex)).hex()\n",
    "\n",
    "cust_privkey_hex = \"7911111111111111111111111111111111111111111111111111111111111111\"\n",
    "cust_pubkey_hex = privkey_to_pubkey(bytes.fromhex(cust_privkey_hex)).hex()\n",
    "\n",
    "# cust_payout_privkey_hex = \"7711111111111111111111111111111111111111111111111111111111111111\"\n",
    "# cust_payout_pubkey_hex = privkey_to_pubkey(bytes.fromhex(cust_payout_privkey_hex)).hex()\n",
    "\n",
    "merch_payout_privkey_hex = \"3711111111111111111111111111111111111111111111111111111111111111\"\n",
    "merch_payout_pubkey_hex = privkey_to_pubkey(bytes.fromhex(merch_payout_privkey_hex)).hex()\n",
    "\n",
    "# merch_disp_privkey_hex = \"3111111111111111111111111111111111111111111111111111111111111111\"\n",
    "# merch_disp_pubkey_hex = privkey_to_pubkey(bytes.fromhex(merch_disp_privkey_hex)).hex()\n",
    "\n",
    "# revocation_secret_hex = \"4011111111111111111111111111111111111111111111111111111111111111\"\n",
    "# RL = hashlib.sha256(bytes.fromhex(revocation_secret_hex)).digest()\n",
    "# revocation_lock_hex = RL.hex()\n",
    "\n",
    "# merch_cpfp_privkey_hex = \"2222222222222222222222222222222277777777777777777777777777777777\"\n",
    "# merch_cpfp_pubkey_hex = privkey_to_pubkey(bytes.fromhex(merch_cpfp_privkey_hex)).hex()\n",
    "\n",
    "# merch_fee_privkey_hex = \"2222222222222222222222222222222266666666666666666666666666666666\"\n",
    "# merch_fee_pubkey_hex = privkey_to_pubkey(bytes.fromhex(merch_fee_privkey_hex)).hex()"
   ]
  },
  {
   "cell_type": "markdown",
   "metadata": {},
   "source": [
    "### Start up regtest mode\n",
    "Delete any history so we are starting from scratch. <br>\n",
    "Mine 101 blocks"
   ]
  },
  {
   "cell_type": "code",
   "execution_count": 4,
   "metadata": {
    "code_folding": []
   },
   "outputs": [
    {
     "name": "stdout",
     "output_type": "stream",
     "text": [
      "blockcount: 101\n"
     ]
    }
   ],
   "source": [
    "# Make sure bitcoind is not already running\n",
    "os.system(\"bitcoin-cli -regtest stop\")\n",
    "time.sleep(2) \n",
    "\n",
    "# Delete any previous files to restart regtest\n",
    "os.system(\"rm -rfv $HOME/Library/Application\\ Support/Bitcoin/regtest/\")\n",
    "\n",
    "# start up bitcoind in regtest mode\n",
    "os.system(\"bitcoind -regtest -daemon -minrelaytxfee=0\")\n",
    "time.sleep(2)\n",
    "\n",
    "# generate 101 blocks so we can fund transactions\n",
    "os.system(\"bitcoin-cli -regtest generate 101\")\n",
    "blockcount = subprocess.getoutput(\"bitcoin-cli -regtest getblockcount\")\n",
    "\n",
    "print(\"blockcount: \" + str(blockcount))"
   ]
  },
  {
   "cell_type": "markdown",
   "metadata": {},
   "source": [
    "Generate base58 address for the escrow funder"
   ]
  },
  {
   "cell_type": "code",
   "execution_count": 5,
   "metadata": {},
   "outputs": [
    {
     "name": "stdout",
     "output_type": "stream",
     "text": [
      "Address: 2MuuVDMJqfh2J9iS3DtfUeU1tEfff1SNahi\n"
     ]
    }
   ],
   "source": [
    "# Generate p2sh-p2wpkh address to fund the escrow funder\n",
    "privkey = bytes.fromhex(funding_privkey_hex)\n",
    "public_key = privkey_to_pubkey(privkey)\n",
    "p2sh_p2wpkh_address = pk_to_p2sh_p2wpkh(public_key, testnet = True)\n",
    "\n",
    "# print(\"Private key: \" + privkey.hex())\n",
    "# print(\"Public key: \" + public_key.hex())\n",
    "print(\"Address: \" + p2sh_p2wpkh_address)"
   ]
  },
  {
   "cell_type": "markdown",
   "metadata": {},
   "source": [
    "Send btc to the escrow funder"
   ]
  },
  {
   "cell_type": "code",
   "execution_count": 6,
   "metadata": {},
   "outputs": [
    {
     "name": "stdout",
     "output_type": "stream",
     "text": [
      "dd98f509f354ca3a6a64b5c6bcb22c9a49482dabac2f9442cb07426e6daf7e5e\n"
     ]
    }
   ],
   "source": [
    "txid_1 = subprocess.getoutput(\"bitcoin-cli -regtest sendtoaddress \" + p2sh_p2wpkh_address + \" 3.0\")\n",
    "print(txid_1)"
   ]
  },
  {
   "cell_type": "code",
   "execution_count": 7,
   "metadata": {},
   "outputs": [
    {
     "name": "stdout",
     "output_type": "stream",
     "text": [
      "index: 1\n"
     ]
    }
   ],
   "source": [
    "# Find which output index the btc was sent to\n",
    "raw_tx = subprocess.getoutput(\"bitcoin-cli -regtest getrawtransaction \" + txid_1)\n",
    "decoded = subprocess.getoutput(\"bitcoin-cli -regtest decoderawtransaction \" + raw_tx)\n",
    "d = json.loads(decoded)\n",
    "# print(decoded)\n",
    "\n",
    "if d[\"vout\"][0][\"scriptPubKey\"][\"addresses\"][0] == p2sh_p2wpkh_address:\n",
    "    index = 0\n",
    "else:\n",
    "    index = 1\n",
    "print(\"index: \" + str(index))"
   ]
  },
  {
   "cell_type": "code",
   "execution_count": 8,
   "metadata": {},
   "outputs": [],
   "source": [
    "os.system(\"bitcoin-cli -regtest generate 1\");"
   ]
  },
  {
   "cell_type": "markdown",
   "metadata": {},
   "source": [
    "## Funding tx"
   ]
  },
  {
   "cell_type": "code",
   "execution_count": 9,
   "metadata": {},
   "outputs": [
    {
     "name": "stdout",
     "output_type": "stream",
     "text": [
      "serialized funding tx:\n",
      "020000000001015e7eaf6d6e4207cb42942facab2d48499a2cb2bcc6b5646a3aca54f309f598dd0100000017160014578dd1183845e18d42f90b1a9f3a464675ad2440ffffffff0200c2eb0b00000000220020666c6bfa88ba97c90cb04c7038d56b5854e71a4dd174d79b1260c822a14f791e00e1f50500000000160014fc7250a211deddc70ee5a2738de5f07817351cef0247304402207128284bdfb3fd1e01cdea6a86247ee2970e57160ff9b95c2a5259e1f7a6494702206837808ba5be986e41ecbe85e2a644b6c017ea6f8f2e1c944440f6d316f068390121021d5c5194a62b272f98a7d8321e4b3a03add9d61d13a15a00123888b81850cee200000000\n",
      "\n",
      "funding txid:\n",
      "a1d58b6f0e1383b52726807c783d1ad12b0638ead1a6184368eca30fd0352a22\n"
     ]
    }
   ],
   "source": [
    "raw_escrow_tx = subprocess.getoutput(\"python funding_tx_with_changev2.py\" \n",
    "                        + \" --txid \" + txid_1\n",
    "                        + \" --index \" + str(index)\n",
    "                        + \" --input_amount_btc \" + \"3.0\"\n",
    "                        + \" --funding_privkey \" + funding_privkey_hex\n",
    "                        + \" --escrow_value_btc \" + \"2\"\n",
    "                        + \" --cust_pubkey \" + cust_pubkey_hex\n",
    "                        + \" --merch_pubkey \" + merch_pubkey_hex\n",
    "                        + \" --cust_change_value_btc \" + \"1\"\n",
    "                        + \" --cust_change_pubkey \" + change_pubkey_hex)\n",
    "print(\"serialized funding tx:\\n\" + raw_escrow_tx)\n",
    "\n",
    "escrow_txid = subprocess.getoutput(\"bitcoin-cli -regtest sendrawtransaction \" + raw_escrow_tx + \" true\")\n",
    "# \"true\" flag means we are okay with absurdly high tx fee\n",
    "\n",
    "print(\"\\nfunding txid:\\n\"+escrow_txid)"
   ]
  },
  {
   "cell_type": "markdown",
   "metadata": {},
   "source": [
    "Broadcast escrow funding transaction"
   ]
  },
  {
   "cell_type": "code",
   "execution_count": 10,
   "metadata": {
    "scrolled": false
   },
   "outputs": [],
   "source": [
    "# raw_escrow_tx1 = subprocess.getoutput(\"bitcoin-cli -regtest getrawtransaction \" + escrow_txid)\n",
    "# decoded = subprocess.getoutput(\"bitcoin-cli -regtest decoderawtransaction \" + raw_escrow_tx1)\n",
    "# print(decoded)"
   ]
  },
  {
   "cell_type": "code",
   "execution_count": 11,
   "metadata": {},
   "outputs": [],
   "source": [
    "os.system(\"bitcoin-cli -regtest generate 1\");"
   ]
  },
  {
   "cell_type": "markdown",
   "metadata": {},
   "source": [
    "## Cust and Merch sign merch-close with sighash Single|AnyoneCanPay"
   ]
  },
  {
   "cell_type": "code",
   "execution_count": 12,
   "metadata": {},
   "outputs": [
    {
     "name": "stdout",
     "output_type": "stream",
     "text": [
      "merch close anyonecanpay tx:\n",
      "02000000000101222a35d00fa3ec684318a6d1ea38062bd11a3d787c802627b583130e6f8bd5a10000000000ffffffff0100c2eb0b00000000220020c3fae9ae705465ac132b128c84fc011be28c21bff28e165f7cfb776dfbb117ff0400483045022100bf9a5cd957ca3285c9a4b434817c70f813eb403cff6fdb63c1d4dbb09787f04c02200848962c55b952edb5b6dd54ff95825764607151a7d4090cbdda2fba3dc4249e8248304502210099db84f4eba58cbebf8abdb10e5e9d119bfcd611df4f52bd9393f7abd70ab69c02203857eba596201a85738f0122cd07565988dd95f140bd19f34fd796ae706d4faa8247522102f3d17ca1ac6dcf42b0297a71abb87f79dfa2c66278cbb99c1437e6570643ce902103fc43b44cd953c7b92726ebefe482a272538c7e40fdcde5994a62841525afa8d752ae00000000\n"
     ]
    }
   ],
   "source": [
    "# SIGHASH SINGLE & ANYONE CAN PAY\n",
    "merch_close_acp_tx = subprocess.getoutput(\"python merch_close_anyonecanpay.py\"        \n",
    "                + \" --txid_str \" + escrow_txid\n",
    "                + \" --index \" + \"0\"\n",
    "                + \" --input_amount_btc \" + \"2\"\n",
    "                + \" --cust_privkey \" + cust_privkey_hex \n",
    "                + \" --merch_privkey \" + merch_privkey_hex\n",
    "                + \" --sighash_type \" + \"82\"\n",
    "                + \" --output_value_btc \" + \"2\"\n",
    "                + \" --merch_payout_pubkey \" + merch_payout_pubkey_hex   \n",
    "                + \" --to_self_delay \" + \"05cf\") # number of blocks to delay to-self output       \n",
    "print(\"merch close anyonecanpay tx:\\n\" + merch_close_acp_tx)"
   ]
  },
  {
   "cell_type": "markdown",
   "metadata": {},
   "source": [
    "If we wanted to, we could broadcast this tx by itself and it would be a valid tx (cell below). Instead, we will combine it with the merch's tx."
   ]
  },
  {
   "cell_type": "code",
   "execution_count": 13,
   "metadata": {},
   "outputs": [],
   "source": [
    "# merch_close_acp_txid = subprocess.getoutput(\"bitcoin-cli -regtest sendrawtransaction \" + merch_close_acp_tx)\n",
    "# print(merch_close_acp_txid) "
   ]
  },
  {
   "cell_type": "code",
   "execution_count": 14,
   "metadata": {},
   "outputs": [],
   "source": [
    "# os.system(\"bitcoin-cli -regtest generate 1\");"
   ]
  },
  {
   "cell_type": "code",
   "execution_count": 15,
   "metadata": {},
   "outputs": [],
   "source": [
    "# mined_merch_close_acp_tx = subprocess.getoutput(\"bitcoin-cli -regtest getrawtransaction \" + merch_close_acp_txid)\n",
    "# decoded = subprocess.getoutput(\"bitcoin-cli -regtest decoderawtransaction \" + mined_merch_close_acp_tx)\n",
    "# print(decoded)"
   ]
  },
  {
   "cell_type": "markdown",
   "metadata": {},
   "source": [
    "## CREATE MERCH FEE P2WPKH INPUT"
   ]
  },
  {
   "cell_type": "markdown",
   "metadata": {},
   "source": [
    "Below are three privkey/pubkeys the merchant will use. <br> \n",
    "1 - address to fund the merch <br>\n",
    "2 - input for the fee tx <br>\n",
    "3 - output for the fee tx"
   ]
  },
  {
   "cell_type": "code",
   "execution_count": 16,
   "metadata": {},
   "outputs": [
    {
     "name": "stdout",
     "output_type": "stream",
     "text": [
      "Address: 2NBEoMBERqETXQ3jiHrVGbZvQgKGx4PQppr\n"
     ]
    }
   ],
   "source": [
    "merch1_privkey_hex = \"0221111111111111111111111111111100000000000000000000000000000000\"\n",
    "merch1_privkey = bytes.fromhex(merch1_privkey_hex)\n",
    "merch1_pubkey = privkey_to_pubkey(merch1_privkey)\n",
    "\n",
    "merch2_privkey_hex = \"2221111111111111111111111111111100000000000000000000000000000000\"\n",
    "merch2_privkey = bytes.fromhex(merch2_privkey_hex)\n",
    "merch2_pubkey = privkey_to_pubkey(merch2_privkey).hex()\n",
    "\n",
    "merch3_privkey_hex = \"3311111111111111111111111111111100000000000000000000000000000000\"\n",
    "merch3_privkey = bytes.fromhex(merch3_privkey_hex)\n",
    "merch3_pubkey = privkey_to_pubkey(merch3_privkey).hex()\n",
    "\n",
    "# address to fund the merchant\n",
    "merch1_p2sh_p2wpkh_address = pk_to_p2sh_p2wpkh(merch1_pubkey, testnet = True)\n",
    "print(\"Address: \" + merch1_p2sh_p2wpkh_address)"
   ]
  },
  {
   "cell_type": "code",
   "execution_count": 17,
   "metadata": {},
   "outputs": [
    {
     "name": "stdout",
     "output_type": "stream",
     "text": [
      "txid:11f89c94b95c0d6e25dc51a0ad248f5a05f6a845a9c0a732b1ed3b5b66568391\n",
      "index: 1\n"
     ]
    }
   ],
   "source": [
    "# Fund the merchant\n",
    "txid_2 = subprocess.getoutput(\"bitcoin-cli -regtest sendtoaddress \" + merch1_p2sh_p2wpkh_address + \" 1\")\n",
    "print(\"txid:\" + txid_2)\n",
    "\n",
    "# Find which output index the btc was sent to\n",
    "raw_tx = subprocess.getoutput(\"bitcoin-cli -regtest getrawtransaction \" + txid_2)\n",
    "decoded = subprocess.getoutput(\"bitcoin-cli -regtest decoderawtransaction \" + raw_tx)\n",
    "d = json.loads(decoded)\n",
    "# print(decoded)\n",
    "\n",
    "if d[\"vout\"][0][\"scriptPubKey\"][\"addresses\"][0] == merch1_p2sh_p2wpkh_address:\n",
    "    index = 0\n",
    "else:\n",
    "    index = 1\n",
    "print(\"index: \" + str(index))"
   ]
  },
  {
   "cell_type": "code",
   "execution_count": 18,
   "metadata": {},
   "outputs": [],
   "source": [
    "os.system(\"bitcoin-cli -regtest generate 1\");"
   ]
  },
  {
   "cell_type": "markdown",
   "metadata": {},
   "source": [
    "Fund the input to merch fee tx"
   ]
  },
  {
   "cell_type": "code",
   "execution_count": 19,
   "metadata": {
    "code_folding": []
   },
   "outputs": [
    {
     "name": "stdout",
     "output_type": "stream",
     "text": [
      "109e272d4ccd42f90d3856714afb05948428cbee19e7733f317f6bc96f3963a3\n"
     ]
    }
   ],
   "source": [
    "merch1_tx = subprocess.getoutput(\"python p2nsh_to_p2wpkh.py\" \n",
    "                        + \" --txid \" + txid_2\n",
    "                        + \" --index \" + str(index)\n",
    "                        + \" --input_amount_btc \" + \"1\"\n",
    "                        + \" --input_privkey \" + merch1_privkey_hex\n",
    "                        + \" --payout_value_btc \" + \"1\"\n",
    "                        + \" --payout_pubkey \" + merch2_pubkey)\n",
    "# print(merch1_tx)\n",
    "\n",
    "merch1_txid = subprocess.getoutput(\"bitcoin-cli -regtest sendrawtransaction \" + merch1_tx + \" true\")\n",
    "# \"true\" flag means we are okay with absurdly high tx fee\n",
    "print(merch1_txid)"
   ]
  },
  {
   "cell_type": "code",
   "execution_count": 20,
   "metadata": {},
   "outputs": [],
   "source": [
    "# merch_tx1 = subprocess.getoutput(\"bitcoin-cli -regtest getrawtransaction \" + merch1_txid)\n",
    "# decoded = subprocess.getoutput(\"bitcoin-cli -regtest decoderawtransaction \" + merch_tx1)\n",
    "# print(decoded)"
   ]
  },
  {
   "cell_type": "markdown",
   "metadata": {},
   "source": [
    "## Create Merch Fee tx (p2wpkh to p2wpkh)"
   ]
  },
  {
   "cell_type": "markdown",
   "metadata": {},
   "source": [
    "Here, we generate a tx with just one input and one output, except the digest also contains the output from the merch_close_anyonecanpay, since we want to make sure the fees can only be added to that tx and not anyone else's."
   ]
  },
  {
   "cell_type": "code",
   "execution_count": 21,
   "metadata": {},
   "outputs": [
    {
     "name": "stdout",
     "output_type": "stream",
     "text": [
      "02000000000101a363396fc96b7f313f73e719eecb28849405fb4a7156380df942cd4c2d279e100000000000ffffffff0100e1f505000000001600146a8cbbddc82aafb86a166ab0e2c464c3a5e8766b02483045022100d7b801f626705945db3aff45ecd91c6f87676bcee1938e596a7738eecaeee13d02204ce31ef7a879f7921c54eaa298ccd74e034dd5bc71d3649640af7eaab2d195e3012102c0947a47a59cb42316750ddd23d506d4c23ca997fbe40e9cb813970940501f4f00000000\n"
     ]
    }
   ],
   "source": [
    "merch_fee_tx = subprocess.getoutput(\"python P2WPKH_to_P2WPKH_sighash_all_anyonecanpay.py\" \n",
    "                        + \" --txid_str \" + merch1_txid\n",
    "                        + \" --index \" + \"0\"\n",
    "                        + \" --input_amount_btc \" + \" 1\"\n",
    "                        + \" --privkey \" + merch2_privkey_hex\n",
    "                        + \" --sighash_type \" + \"01\"\n",
    "                        + \" --output_value_btc \" + \" 1\"\n",
    "                        + \" --payout_pubkey \" + merch3_privkey_hex\n",
    "                        + \" --merch_close_tx \" + merch_close_acp_tx)\n",
    "print(merch_fee_tx)"
   ]
  },
  {
   "cell_type": "markdown",
   "metadata": {},
   "source": [
    "If the tx was signed with sighash none, or if the merch_close output was not included in the digest, we could broadcast this tx by itself (cell below). "
   ]
  },
  {
   "cell_type": "code",
   "execution_count": 22,
   "metadata": {},
   "outputs": [],
   "source": [
    "# merch2_txid = subprocess.getoutput(\"bitcoin-cli -regtest sendrawtransaction \" + merch2_tx + \" true\")\n",
    "# print(merch2_txid)"
   ]
  },
  {
   "cell_type": "code",
   "execution_count": 23,
   "metadata": {},
   "outputs": [],
   "source": [
    "# merch_tx2 = subprocess.getoutput(\"bitcoin-cli -regtest getrawtransaction \" + merch2_txid)\n",
    "# decoded = subprocess.getoutput(\"bitcoin-cli -regtest decoderawtransaction \" + merch_tx2)\n",
    "# print(decoded)"
   ]
  },
  {
   "cell_type": "markdown",
   "metadata": {},
   "source": [
    "## Combine the two transactions (merch-close and fee)"
   ]
  },
  {
   "cell_type": "code",
   "execution_count": 24,
   "metadata": {},
   "outputs": [
    {
     "name": "stdout",
     "output_type": "stream",
     "text": [
      "merch_close_acp_tx:\n",
      "02000000000101222a35d00fa3ec684318a6d1ea38062bd11a3d787c802627b583130e6f8bd5a10000000000ffffffff0100c2eb0b00000000220020c3fae9ae705465ac132b128c84fc011be28c21bff28e165f7cfb776dfbb117ff0400483045022100bf9a5cd957ca3285c9a4b434817c70f813eb403cff6fdb63c1d4dbb09787f04c02200848962c55b952edb5b6dd54ff95825764607151a7d4090cbdda2fba3dc4249e8248304502210099db84f4eba58cbebf8abdb10e5e9d119bfcd611df4f52bd9393f7abd70ab69c02203857eba596201a85738f0122cd07565988dd95f140bd19f34fd796ae706d4faa8247522102f3d17ca1ac6dcf42b0297a71abb87f79dfa2c66278cbb99c1437e6570643ce902103fc43b44cd953c7b92726ebefe482a272538c7e40fdcde5994a62841525afa8d752ae00000000\n",
      "\n",
      "merch_fee_tx:\n",
      "02000000000101a363396fc96b7f313f73e719eecb28849405fb4a7156380df942cd4c2d279e100000000000ffffffff0100e1f505000000001600146a8cbbddc82aafb86a166ab0e2c464c3a5e8766b02483045022100d7b801f626705945db3aff45ecd91c6f87676bcee1938e596a7738eecaeee13d02204ce31ef7a879f7921c54eaa298ccd74e034dd5bc71d3649640af7eaab2d195e3012102c0947a47a59cb42316750ddd23d506d4c23ca997fbe40e9cb813970940501f4f00000000\n"
     ]
    }
   ],
   "source": [
    "print(\"merch_close_acp_tx:\\n\" + merch_close_acp_tx)\n",
    "# merch_close_acp_txid = subprocess.getoutput(\"bitcoin-cli -regtest sendrawtransaction \" + raw_merch_close_acp_tx)\n",
    "# print(merch_close_acp_txid) \n",
    "\n",
    "print(\"\\nmerch_fee_tx:\\n\" + merch_fee_tx)\n",
    "# merch2_txid = subprocess.getoutput(\"bitcoin-cli -regtest sendrawtransaction \" + merch2_tx)\n",
    "# print(merch2_txid)"
   ]
  },
  {
   "cell_type": "code",
   "execution_count": 25,
   "metadata": {},
   "outputs": [
    {
     "name": "stdout",
     "output_type": "stream",
     "text": [
      "merch_close_with_fee_tx:\n",
      "02000000000102222a35d00fa3ec684318a6d1ea38062bd11a3d787c802627b583130e6f8bd5a10000000000ffffffffa363396fc96b7f313f73e719eecb28849405fb4a7156380df942cd4c2d279e100000000000ffffffff0200c2eb0b00000000220020c3fae9ae705465ac132b128c84fc011be28c21bff28e165f7cfb776dfbb117ff00e1f505000000001600146a8cbbddc82aafb86a166ab0e2c464c3a5e8766b0400483045022100bf9a5cd957ca3285c9a4b434817c70f813eb403cff6fdb63c1d4dbb09787f04c02200848962c55b952edb5b6dd54ff95825764607151a7d4090cbdda2fba3dc4249e8248304502210099db84f4eba58cbebf8abdb10e5e9d119bfcd611df4f52bd9393f7abd70ab69c02203857eba596201a85738f0122cd07565988dd95f140bd19f34fd796ae706d4faa8247522102f3d17ca1ac6dcf42b0297a71abb87f79dfa2c66278cbb99c1437e6570643ce902103fc43b44cd953c7b92726ebefe482a272538c7e40fdcde5994a62841525afa8d752ae02483045022100d7b801f626705945db3aff45ecd91c6f87676bcee1938e596a7738eecaeee13d02204ce31ef7a879f7921c54eaa298ccd74e034dd5bc71d3649640af7eaab2d195e3012102c0947a47a59cb42316750ddd23d506d4c23ca997fbe40e9cb813970940501f4f00000000\n"
     ]
    }
   ],
   "source": [
    "merch_close_with_fee_tx = subprocess.getoutput(\"python combine_merch-close_and_fee.py\" \n",
    "                        + \" \" + merch_close_acp_tx\n",
    "                        + \" \" + merch_fee_tx\n",
    "                        )\n",
    "print(\"merch_close_with_fee_tx:\\n\" + merch_close_with_fee_tx)"
   ]
  },
  {
   "cell_type": "code",
   "execution_count": 26,
   "metadata": {},
   "outputs": [
    {
     "name": "stdout",
     "output_type": "stream",
     "text": [
      "4b6c0bcb19b8a9b0458a720168b1236833df11c2f201a0facc5cb7e88a78b181\n"
     ]
    }
   ],
   "source": [
    "merch_close_with_fee_txid = subprocess.getoutput(\"bitcoin-cli -regtest sendrawtransaction \" + merch_close_with_fee_tx + \" true\")\n",
    "# \"true\" flag means we are okay with absurdly high tx fee\n",
    "print(merch_close_with_fee_txid)"
   ]
  },
  {
   "cell_type": "code",
   "execution_count": 27,
   "metadata": {},
   "outputs": [],
   "source": [
    "os.system(\"bitcoin-cli -regtest generate 1\");"
   ]
  },
  {
   "cell_type": "markdown",
   "metadata": {},
   "source": [
    "## Mined merch_close_with_fee_tx"
   ]
  },
  {
   "cell_type": "code",
   "execution_count": 28,
   "metadata": {},
   "outputs": [
    {
     "name": "stdout",
     "output_type": "stream",
     "text": [
      "{\n",
      "  \"txid\": \"4b6c0bcb19b8a9b0458a720168b1236833df11c2f201a0facc5cb7e88a78b181\",\n",
      "  \"hash\": \"fa89064159c1b74a082f461a5414b18f0d1076aca09dab36c1db32e717cea872\",\n",
      "  \"version\": 2,\n",
      "  \"size\": 496,\n",
      "  \"vsize\": 249,\n",
      "  \"weight\": 994,\n",
      "  \"locktime\": 0,\n",
      "  \"vin\": [\n",
      "    {\n",
      "      \"txid\": \"a1d58b6f0e1383b52726807c783d1ad12b0638ead1a6184368eca30fd0352a22\",\n",
      "      \"vout\": 0,\n",
      "      \"scriptSig\": {\n",
      "        \"asm\": \"\",\n",
      "        \"hex\": \"\"\n",
      "      },\n",
      "      \"txinwitness\": [\n",
      "        \"\",\n",
      "        \"3045022100bf9a5cd957ca3285c9a4b434817c70f813eb403cff6fdb63c1d4dbb09787f04c02200848962c55b952edb5b6dd54ff95825764607151a7d4090cbdda2fba3dc4249e82\",\n",
      "        \"304502210099db84f4eba58cbebf8abdb10e5e9d119bfcd611df4f52bd9393f7abd70ab69c02203857eba596201a85738f0122cd07565988dd95f140bd19f34fd796ae706d4faa82\",\n",
      "        \"522102f3d17ca1ac6dcf42b0297a71abb87f79dfa2c66278cbb99c1437e6570643ce902103fc43b44cd953c7b92726ebefe482a272538c7e40fdcde5994a62841525afa8d752ae\"\n",
      "      ],\n",
      "      \"sequence\": 4294967295\n",
      "    },\n",
      "    {\n",
      "      \"txid\": \"109e272d4ccd42f90d3856714afb05948428cbee19e7733f317f6bc96f3963a3\",\n",
      "      \"vout\": 0,\n",
      "      \"scriptSig\": {\n",
      "        \"asm\": \"\",\n",
      "        \"hex\": \"\"\n",
      "      },\n",
      "      \"txinwitness\": [\n",
      "        \"3045022100d7b801f626705945db3aff45ecd91c6f87676bcee1938e596a7738eecaeee13d02204ce31ef7a879f7921c54eaa298ccd74e034dd5bc71d3649640af7eaab2d195e301\",\n",
      "        \"02c0947a47a59cb42316750ddd23d506d4c23ca997fbe40e9cb813970940501f4f\"\n",
      "      ],\n",
      "      \"sequence\": 4294967295\n",
      "    }\n",
      "  ],\n",
      "  \"vout\": [\n",
      "    {\n",
      "      \"value\": 2.00000000,\n",
      "      \"n\": 0,\n",
      "      \"scriptPubKey\": {\n",
      "        \"asm\": \"0 c3fae9ae705465ac132b128c84fc011be28c21bff28e165f7cfb776dfbb117ff\",\n",
      "        \"hex\": \"0020c3fae9ae705465ac132b128c84fc011be28c21bff28e165f7cfb776dfbb117ff\",\n",
      "        \"reqSigs\": 1,\n",
      "        \"type\": \"witness_v0_scripthash\",\n",
      "        \"addresses\": [\n",
      "          \"bcrt1qc0awntns23j6cyetz2xgflqpr03gcgdl728pvhmuldmkm7a3zllsja46jn\"\n",
      "        ]\n",
      "      }\n",
      "    },\n",
      "    {\n",
      "      \"value\": 1.00000000,\n",
      "      \"n\": 1,\n",
      "      \"scriptPubKey\": {\n",
      "        \"asm\": \"0 6a8cbbddc82aafb86a166ab0e2c464c3a5e8766b\",\n",
      "        \"hex\": \"00146a8cbbddc82aafb86a166ab0e2c464c3a5e8766b\",\n",
      "        \"reqSigs\": 1,\n",
      "        \"type\": \"witness_v0_keyhash\",\n",
      "        \"addresses\": [\n",
      "          \"bcrt1qd2xthhwg92hms6skd2cw93rycwj7sant0njef9\"\n",
      "        ]\n",
      "      }\n",
      "    }\n",
      "  ]\n",
      "}\n"
     ]
    }
   ],
   "source": [
    "close_with_fee_tx = subprocess.getoutput(\"bitcoin-cli -regtest getrawtransaction \" + merch_close_with_fee_txid)\n",
    "decoded = subprocess.getoutput(\"bitcoin-cli -regtest decoderawtransaction \" + close_with_fee_tx)\n",
    "print(decoded)"
   ]
  },
  {
   "cell_type": "code",
   "execution_count": null,
   "metadata": {},
   "outputs": [],
   "source": []
  }
 ],
 "metadata": {
  "kernelspec": {
   "display_name": "Python 3",
   "language": "python",
   "name": "python3"
  },
  "language_info": {
   "codemirror_mode": {
    "name": "ipython",
    "version": 3
   },
   "file_extension": ".py",
   "mimetype": "text/x-python",
   "name": "python",
   "nbconvert_exporter": "python",
   "pygments_lexer": "ipython3",
   "version": "3.6.8"
  }
 },
 "nbformat": 4,
 "nbformat_minor": 2
}
