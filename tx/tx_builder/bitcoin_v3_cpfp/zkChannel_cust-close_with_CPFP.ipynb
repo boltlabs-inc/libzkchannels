{
 "cells": [
  {
   "cell_type": "code",
   "execution_count": 30,
   "metadata": {
    "code_folding": [
     0,
     10,
     15,
     19
    ]
   },
   "outputs": [],
   "source": [
    "#\n",
    "import base58\n",
    "import binascii\n",
    "import ecdsa\n",
    "import hashlib\n",
    "import json\n",
    "import os\n",
    "import subprocess\n",
    "import time\n",
    "\n",
    "def dSHA256(data):\n",
    "    hash_1 = hashlib.sha256(data).digest()\n",
    "    hash_2 = hashlib.sha256(hash_1).digest()\n",
    "    return hash_2\n",
    "\n",
    "def hash160(s):\n",
    "    '''sha256 followed by ripemd160'''\n",
    "    return hashlib.new('ripemd160', hashlib.sha256(s).digest()).digest()\n",
    "\n",
    "def privkey_to_pubkey(privkey):\n",
    "    signing_key = ecdsa.SigningKey.from_string(privkey, curve=ecdsa.SECP256k1) # Don't forget to specify the curve\n",
    "    verifying_key = signing_key.get_verifying_key()\n",
    "\n",
    "    # Use this code block if the address you gave corresponds to the compressed public key\n",
    "    x_cor = bytes.fromhex(verifying_key.to_string().hex())[:32] # The first 32 bytes are the x coordinate\n",
    "    y_cor = bytes.fromhex(verifying_key.to_string().hex())[32:] # The last 32 bytes are the y coordinate\n",
    "    if int.from_bytes(y_cor, byteorder=\"big\", signed=True) % 2 == 0: # We need to turn the y_cor into a number.\n",
    "        public_key = bytes.fromhex(\"02\" + x_cor.hex())\n",
    "    else:\n",
    "        public_key = bytes.fromhex(\"03\" + x_cor.hex())\n",
    "    return public_key"
   ]
  },
  {
   "cell_type": "code",
   "execution_count": 31,
   "metadata": {
    "code_folding": [
     0
    ]
   },
   "outputs": [],
   "source": [
    "# Functions related to generating bitcoin addresses\n",
    "\n",
    "def encode_base58(s):\n",
    "    BASE58_ALPHABET = '123456789ABCDEFGHJKLMNPQRSTUVWXYZabcdefghijkmnopqrstuvwxyz'\n",
    "    count = 0\n",
    "    for c in s:  \n",
    "        if c == 0:\n",
    "            count += 1\n",
    "        else:\n",
    "            break\n",
    "    num = int.from_bytes(s, 'big')\n",
    "    prefix = '1' * count\n",
    "    result = ''\n",
    "    while num > 0:  \n",
    "        num, mod = divmod(num, 58)\n",
    "        result = BASE58_ALPHABET[mod] + result\n",
    "    return prefix + result\n",
    "\n",
    "def encode_base58_checksum(b):\n",
    "    return encode_base58(b + dSHA256(b)[:4])\n",
    "\n",
    "# https://en.bitcoin.it/wiki/Wallet_import_format\n",
    "def privkey_to_wif(privkey, compressed_pubkey, testnet):\n",
    "    if testnet:\n",
    "        prefix = b\"\\xEF\"\n",
    "    else:\n",
    "        prefix = b\"\\x80\"\n",
    "    \n",
    "    # if the privkey will correspond to a compressed public key\n",
    "    if compressed_pubkey: \n",
    "        extended = prefix + privkey + b\"\\x01\"\n",
    "    else:\n",
    "        extended = prefix + privkey \n",
    "        \n",
    "    extendedchecksum = extended + dSHA256(extended)[:4]\n",
    "    wif = encode_base58(extendedchecksum)\n",
    "    \n",
    "    return wif\n",
    "\n",
    "# https://learnmeabitcoin.com/guide/wif\n",
    "def wif_to_privkey(private_key_WIF):\n",
    "    private_key_full = base58.b58decode(private_key_WIF)\n",
    "    \n",
    "    # If the WIF encoding includes the optional \"01\" byte for compressed privKey,\n",
    "    # do not include it in the final output.\n",
    "    if len(private_key_full) == 38:\n",
    "        private_key = private_key_full[1:-5] \n",
    "        print(\"compressed pubkey\")\n",
    "    else:\n",
    "        private_key = private_key_full[1:-4] \n",
    "        print(\"not compressed pubkey\")\n",
    "    return private_key\n",
    "\n",
    "\n",
    "def pk_to_p2pkh(compressed, testnet):\n",
    "    '''Returns the address string'''\n",
    "    pk_hash = hash160(compressed)\n",
    "    if testnet:\n",
    "        prefix = b'\\x6f'\n",
    "    else:\n",
    "        prefix = b'\\x00'\n",
    "    return encode_base58_checksum(prefix + pk_hash)\n",
    "\n",
    "def pk_to_p2sh_p2wpkh(compressed, testnet):\n",
    "    pk_hash = hash160(compressed)\n",
    "    redeemScript = bytes.fromhex(f\"0014{pk_hash.hex()}\")\n",
    "    rs_hash = hash160(redeemScript)\n",
    "    if testnet:\n",
    "        prefix = b\"\\xc4\"\n",
    "    else:\n",
    "        prefix = b\"\\x05\"\n",
    "    return encode_base58_checksum(prefix + rs_hash)\n",
    "\n",
    "def wif_to_addresses(wif):\n",
    "#     wif = \"cUy9rC6wteKizfu1fgP2abKUWTkJxjqKp2fba91FkU332CFHo6ix\"\n",
    "    privkey = wif_to_privkey(wif)\n",
    "    public_key = privkey_to_pubkey(privkey)\n",
    "    p2pkh_address = pk_to_p2pkh(public_key, testnet = True)\n",
    "    p2sh_p2wpkh_address = pk_to_p2sh_p2wpkh(public_key, testnet = True)\n",
    "\n",
    "    print(\"WIF Private key: \" + wif)\n",
    "    print(\"Private key: \" + privkey.hex())\n",
    "    print(\"Public key: \" + public_key.hex())\n",
    "    print(\"Public key hash: \" + hash160(public_key).hex())\n",
    "    print(\"Address: \" + p2pkh_address)\n",
    "    print(\"Address: \" + p2sh_p2wpkh_address)\n",
    "    \n",
    "def privkey_to_addresses(privkey):\n",
    "    # privkey = bytes.fromhex(\"AF933A6C602069F1CBC85990DF087714D7E86DF0D0E48398B7D8953E1F03534A\")\n",
    "    public_key = privkey_to_pubkey(privkey)\n",
    "    p2pkh_address = pk_to_p2pkh(public_key, testnet = True)\n",
    "    p2sh_p2wpkh_address = pk_to_p2sh_p2wpkh(public_key, testnet = True)\n",
    "\n",
    "    print(\"Private key: \" + privkey.hex())\n",
    "    print(\"Public key: \" + public_key.hex())\n",
    "    print(\"Public key hash: \" + hash160(public_key).hex())\n",
    "    print(\"Address: \" + p2pkh_address)\n",
    "    print(\"Address: \" + p2sh_p2wpkh_address)"
   ]
  },
  {
   "cell_type": "markdown",
   "metadata": {},
   "source": [
    "# Cust-close with CPFP"
   ]
  },
  {
   "cell_type": "markdown",
   "metadata": {},
   "source": [
    "Generate all the priv/public keys"
   ]
  },
  {
   "cell_type": "code",
   "execution_count": 32,
   "metadata": {
    "code_folding": []
   },
   "outputs": [],
   "source": [
    "# Generate example priv/pubkeys\n",
    "funding_privkey_hex = \"1111111111111111111111111111111100000000000000000000000000000000\"\n",
    "funding_pubkey_hex = privkey_to_pubkey(bytes.fromhex(funding_privkey_hex)).hex()\n",
    "\n",
    "change_privkey_hex = \"1111111111111111111111111111111111111111111111111111111111111111\"\n",
    "change_pubkey_hex = privkey_to_pubkey(bytes.fromhex(change_privkey_hex)).hex()\n",
    "\n",
    "merch_privkey_hex = \"3911111111111111111111111111111111111111111111111111111111111111\"\n",
    "merch_pubkey_hex = privkey_to_pubkey(bytes.fromhex(merch_privkey_hex)).hex()\n",
    "\n",
    "cust_privkey_hex = \"7911111111111111111111111111111111111111111111111111111111111111\"\n",
    "cust_pubkey_hex = privkey_to_pubkey(bytes.fromhex(cust_privkey_hex)).hex()\n",
    "\n",
    "cust_payout_privkey_hex = \"7711111111111111111111111111111111111111111111111111111111111111\"\n",
    "cust_payout_pubkey_hex = privkey_to_pubkey(bytes.fromhex(cust_payout_privkey_hex)).hex()\n",
    "\n",
    "merch_payout_privkey_hex = \"3711111111111111111111111111111111111111111111111111111111111111\"\n",
    "merch_payout_pubkey_hex = privkey_to_pubkey(bytes.fromhex(merch_payout_privkey_hex)).hex()\n",
    "\n",
    "merch_disp_privkey_hex = \"3111111111111111111111111111111111111111111111111111111111111111\"\n",
    "merch_disp_pubkey_hex = privkey_to_pubkey(bytes.fromhex(merch_disp_privkey_hex)).hex()\n",
    "\n",
    "revocation_secret_hex = \"4011111111111111111111111111111111111111111111111111111111111111\"\n",
    "RL = hashlib.sha256(bytes.fromhex(revocation_secret_hex)).digest()\n",
    "revocation_lock_hex = RL.hex()\n",
    "\n",
    "merch_cpfp_privkey_hex = \"2222222222222222222222222222222277777777777777777777777777777777\"\n",
    "merch_cpfp_pubkey_hex = privkey_to_pubkey(bytes.fromhex(merch_cpfp_privkey_hex)).hex()\n",
    "\n",
    "cust_cpfp_privkey_hex = \"3322222222222222222222222222222277777777777777777777777777777777\"\n",
    "cust_cpfp_pubkey_hex = privkey_to_pubkey(bytes.fromhex(merch_cpfp_privkey_hex)).hex()\n",
    "\n",
    "# merch_fee_privkey_hex = \"2222222222222222222222222222222266666666666666666666666666666666\"\n",
    "# merch_fee_pubkey_hex = privkey_to_pubkey(bytes.fromhex(merch_fee_privkey_hex)).hex()"
   ]
  },
  {
   "cell_type": "code",
   "execution_count": 46,
   "metadata": {
    "code_folding": []
   },
   "outputs": [],
   "source": [
    "# cust priv/pubkeys for executing cpfp\n",
    "cust1_privkey_hex = \"0881111111111111111111111111111100000000000000000000000000000000\"\n",
    "cust1_privkey = bytes.fromhex(merch1_privkey_hex)\n",
    "cust1_pubkey = privkey_to_pubkey(merch1_privkey)\n",
    "\n",
    "cust2_privkey_hex = \"8881111111111111111111111111111100000000000000000000000000000000\"\n",
    "cust2_privkey = bytes.fromhex(merch2_privkey_hex)\n",
    "cust2_pubkey = privkey_to_pubkey(merch2_privkey).hex()\n",
    "\n",
    "cust3_privkey_hex = \"7771111111111111111111111111111100000000000000000000000000000000\"\n",
    "cust3_privkey = bytes.fromhex(merch3_privkey_hex)\n",
    "cust3_pubkey = privkey_to_pubkey(merch3_privkey).hex()"
   ]
  },
  {
   "cell_type": "markdown",
   "metadata": {},
   "source": [
    "### Start up regtest mode\n",
    "Delete any history so we are starting from scratch. <br>\n",
    "Mine 101 blocks so we can spend some btc."
   ]
  },
  {
   "cell_type": "code",
   "execution_count": 34,
   "metadata": {
    "code_folding": []
   },
   "outputs": [
    {
     "name": "stdout",
     "output_type": "stream",
     "text": [
      "blockcount: 101\n"
     ]
    }
   ],
   "source": [
    "# Make sure bitcoind is not already running\n",
    "os.system(\"bitcoin-cli -regtest stop\")\n",
    "time.sleep(2) \n",
    "\n",
    "# Delete any previous files to restart regtest\n",
    "os.system(\"rm -rfv $HOME/Library/Application\\ Support/Bitcoin/regtest/\")\n",
    "\n",
    "# start up bitcoind in regtest mode\n",
    "# os.system(\"bitcoind -regtest -daemon -minrelaytxfee=0\")\n",
    "os.system(\"bitcoind -regtest -daemon\")\n",
    "time.sleep(2)\n",
    "\n",
    "# generate 101 blocks so we can fund transactions\n",
    "os.system(\"bitcoin-cli -regtest generate 101\")\n",
    "blockcount = subprocess.getoutput(\"bitcoin-cli -regtest getblockcount\")\n",
    "\n",
    "print(\"blockcount: \" + str(blockcount))"
   ]
  },
  {
   "cell_type": "markdown",
   "metadata": {},
   "source": [
    "Generate base58 address for the escrow funder"
   ]
  },
  {
   "cell_type": "code",
   "execution_count": 35,
   "metadata": {},
   "outputs": [
    {
     "name": "stdout",
     "output_type": "stream",
     "text": [
      "Address: 2MuuVDMJqfh2J9iS3DtfUeU1tEfff1SNahi\n"
     ]
    }
   ],
   "source": [
    "# Generate p2sh-p2wpkh address to fund the escrow funder\n",
    "privkey = bytes.fromhex(funding_privkey_hex)\n",
    "public_key = privkey_to_pubkey(privkey)\n",
    "p2sh_p2wpkh_address = pk_to_p2sh_p2wpkh(public_key, testnet = True)\n",
    "\n",
    "# print(\"Private key: \" + privkey.hex())\n",
    "# print(\"Public key: \" + public_key.hex())\n",
    "print(\"Address: \" + p2sh_p2wpkh_address)"
   ]
  },
  {
   "cell_type": "markdown",
   "metadata": {},
   "source": [
    "### Send btc to the escrow funder"
   ]
  },
  {
   "cell_type": "code",
   "execution_count": 36,
   "metadata": {},
   "outputs": [
    {
     "name": "stdout",
     "output_type": "stream",
     "text": [
      "271ea7684b0af1a7c8533bc1b309d66074f410c56e1ccd24320d1317b7f59dfa\n"
     ]
    }
   ],
   "source": [
    "txid_1 = subprocess.getoutput(\"bitcoin-cli -regtest sendtoaddress \" + p2sh_p2wpkh_address + \" 3.0\")\n",
    "print(txid_1)"
   ]
  },
  {
   "cell_type": "code",
   "execution_count": 37,
   "metadata": {},
   "outputs": [
    {
     "name": "stdout",
     "output_type": "stream",
     "text": [
      "index: 1\n"
     ]
    }
   ],
   "source": [
    "# Find which output index the btc was sent to\n",
    "raw_tx = subprocess.getoutput(\"bitcoin-cli -regtest getrawtransaction \" + txid_1)\n",
    "decoded = subprocess.getoutput(\"bitcoin-cli -regtest decoderawtransaction \" + raw_tx)\n",
    "d = json.loads(decoded)\n",
    "# print(decoded)\n",
    "\n",
    "if d[\"vout\"][0][\"scriptPubKey\"][\"addresses\"][0] == p2sh_p2wpkh_address:\n",
    "    index = 0\n",
    "else:\n",
    "    index = 1\n",
    "print(\"index: \" + str(index))"
   ]
  },
  {
   "cell_type": "code",
   "execution_count": 38,
   "metadata": {},
   "outputs": [],
   "source": [
    "os.system(\"bitcoin-cli -regtest generate 1\");"
   ]
  },
  {
   "cell_type": "markdown",
   "metadata": {},
   "source": [
    "## Create Funding tx"
   ]
  },
  {
   "cell_type": "code",
   "execution_count": 39,
   "metadata": {},
   "outputs": [
    {
     "name": "stdout",
     "output_type": "stream",
     "text": [
      "serialized funding tx:\n",
      "02000000000101fa9df5b717130d3224cd1c6ec510f47460d609b3c13b53c8a7f10a4b68a71e270100000017160014578dd1183845e18d42f90b1a9f3a464675ad2440ffffffff028058840c00000000220020666c6bfa88ba97c90cb04c7038d56b5854e71a4dd174d79b1260c822a14f791e40084e0500000000160014fc7250a211deddc70ee5a2738de5f07817351cef02473044022042e5fdf9903c359b53d6211b2e9e95f84299bd485f71652a6f0d949c526695c902203abcdfbfcd3030c10e22f445656f2b5c0b0073b8f9c82de93c1f0bf0bfb2ecb30121021d5c5194a62b272f98a7d8321e4b3a03add9d61d13a15a00123888b81850cee200000000\n",
      "\n",
      "funding txid:\n",
      "da8db106cd86a2fe4a6aa72e5d98ce60e96eb645632f7cb0958a3be438f63c3e\n"
     ]
    }
   ],
   "source": [
    "raw_escrow_tx = subprocess.getoutput(\"python funding_tx_with_changev2.py\" \n",
    "                        + \" --txid \" + txid_1\n",
    "                        + \" --index \" + str(index)\n",
    "                        + \" --input_amount_btc \" + \"3.0\"\n",
    "                        + \" --funding_privkey \" + funding_privkey_hex\n",
    "                        + \" --escrow_value_btc \" + \"2.1\"\n",
    "                        + \" --cust_pubkey \" + cust_pubkey_hex\n",
    "                        + \" --merch_pubkey \" + merch_pubkey_hex\n",
    "                        + \" --cust_change_value_btc \" + \"0.89\"\n",
    "                        + \" --cust_change_pubkey \" + change_pubkey_hex)\n",
    "print(\"serialized funding tx:\\n\" + raw_escrow_tx)\n",
    "\n",
    "# Broadcast funding tx\n",
    "escrow_txid = subprocess.getoutput(\"bitcoin-cli -regtest sendrawtransaction \" + raw_escrow_tx + \" true\")\n",
    "# \"true\" flag means we are okay with an 'absurdly' high tx fee\n",
    "\n",
    "print(\"\\nfunding txid:\\n\"+escrow_txid)"
   ]
  },
  {
   "cell_type": "code",
   "execution_count": 40,
   "metadata": {},
   "outputs": [],
   "source": [
    "os.system(\"bitcoin-cli -regtest generate 1\");"
   ]
  },
  {
   "cell_type": "markdown",
   "metadata": {},
   "source": [
    "#### Decode escrow funding transaction"
   ]
  },
  {
   "cell_type": "code",
   "execution_count": 41,
   "metadata": {
    "scrolled": false
   },
   "outputs": [],
   "source": [
    "# raw_escrow_tx1 = subprocess.getoutput(\"bitcoin-cli -regtest getrawtransaction \" + escrow_txid)\n",
    "# decoded = subprocess.getoutput(\"bitcoin-cli -regtest decoderawtransaction \" + raw_escrow_tx1)\n",
    "# print(decoded)"
   ]
  },
  {
   "cell_type": "markdown",
   "metadata": {},
   "source": [
    "## Cust-close from Escrow with CPFP"
   ]
  },
  {
   "cell_type": "code",
   "execution_count": 42,
   "metadata": {},
   "outputs": [
    {
     "name": "stdout",
     "output_type": "stream",
     "text": [
      "cust close with cpfp tx:\n",
      "020000000001013e3cf638e43b8a95b07c2f6345b66ee960ce985d2ea76a4afea286cd06b18dda0000000000ffffffff04805cd7050000000022002067cb20e705c4eb4363194a74d2f743afc1c9ee3cd741d45e21268b16add04f8b00e1f50500000000160014d4354803d10e77eccfc3bf06c152ae694d05d3810000000000000000436a41f8345a21a55dc665b65c8dcfb49488b8e4f337d5c9bb843603f7222a892ce94103195e272df2310ded35f9958fd0c2847bf73b5b429a716c005d465009bd768641e00f9700000000001600145d6f6add4b70012131dbb8f0a7b067b70ec6a76f0400483045022100bd93490dedb197c3a736b92cf2c5862ee94fcd589e30e6328cb3a1aca2f1fe7702202fdbb6c019c1230f25bb4d72048bf5486f326376885a034f1ff6d6328706569e0147304402206dee41f5d0f50097498e48438cff68804d1118b941d2fbe0053a95e4322fb78802206d5dcd44bf5fdbab77d2bef5c40b042fbb193d1bf46e29fbfbf578ae688c5e9c0147522102f3d17ca1ac6dcf42b0297a71abb87f79dfa2c66278cbb99c1437e6570643ce902103fc43b44cd953c7b92726ebefe482a272538c7e40fdcde5994a62841525afa8d752ae00000000\n"
     ]
    }
   ],
   "source": [
    "cust_close_cpfp_tx = subprocess.getoutput(\"python cust_close_with_cpfp.py\"        \n",
    "                + \" --spend_from \" + \"escrow\"\n",
    "                + \" --txid_str \" + escrow_txid\n",
    "                + \" --index \" + \"0\"\n",
    "                + \" --input_amount_btc \" + \"2.1\"\n",
    "                + \" --cust_privkey \" + cust_privkey_hex \n",
    "                + \" --merch_privkey \" + merch_privkey_hex                                           \n",
    "                + \" --cust_script_value_btc \" + \"0.98\"\n",
    "                + \" --cust_payout_pubkey \" + cust_payout_pubkey_hex\n",
    "                + \" --to_self_delay \" + \"05cf\"\n",
    "                + \" --merch_payout_value_btc \" + \"1\"\n",
    "                + \" --merch_payout_pubkey \" + merch_payout_pubkey_hex\n",
    "                + \" --revocation_lock \" + revocation_lock_hex\n",
    "                + \" --merch_dispute_pubkey \" + merch_disp_pubkey_hex\n",
    "                + \" --cust_cpfp_value_btc \" + \"0.099\"\n",
    "                + \" --cust_cpfp_pubkey \" + cust_pubkey_hex)\n",
    "                                          \n",
    "print(\"cust close with cpfp tx:\\n\" + cust_close_cpfp_tx)"
   ]
  },
  {
   "cell_type": "markdown",
   "metadata": {},
   "source": [
    "This tx could be broadcast by itself and it would be a valid tx (cell below). If the fee was too small, we can effectively bump up the fee by creating a 'child' tx that spends from it"
   ]
  },
  {
   "cell_type": "code",
   "execution_count": 43,
   "metadata": {},
   "outputs": [
    {
     "name": "stdout",
     "output_type": "stream",
     "text": [
      "fa8687450943044bad065f0503e87b100eed1e0d6e015454d2b8e7af3f01c83f\n"
     ]
    }
   ],
   "source": [
    "cust_close_cpfp_txid = subprocess.getoutput(\"bitcoin-cli -regtest sendrawtransaction \" + cust_close_cpfp_tx)\n",
    "print(cust_close_cpfp_txid) "
   ]
  },
  {
   "cell_type": "code",
   "execution_count": 44,
   "metadata": {},
   "outputs": [],
   "source": [
    "os.system(\"bitcoin-cli -regtest generate 1\");"
   ]
  },
  {
   "cell_type": "code",
   "execution_count": 45,
   "metadata": {},
   "outputs": [
    {
     "name": "stdout",
     "output_type": "stream",
     "text": [
      "{\n",
      "  \"txid\": \"fa8687450943044bad065f0503e87b100eed1e0d6e015454d2b8e7af3f01c83f\",\n",
      "  \"hash\": \"7eaf76af8f868e1b9573eaf252f393836054321691b355bc811bc487689981ae\",\n",
      "  \"version\": 2,\n",
      "  \"size\": 453,\n",
      "  \"vsize\": 288,\n",
      "  \"weight\": 1149,\n",
      "  \"locktime\": 0,\n",
      "  \"vin\": [\n",
      "    {\n",
      "      \"txid\": \"da8db106cd86a2fe4a6aa72e5d98ce60e96eb645632f7cb0958a3be438f63c3e\",\n",
      "      \"vout\": 0,\n",
      "      \"scriptSig\": {\n",
      "        \"asm\": \"\",\n",
      "        \"hex\": \"\"\n",
      "      },\n",
      "      \"txinwitness\": [\n",
      "        \"\",\n",
      "        \"3045022100bd93490dedb197c3a736b92cf2c5862ee94fcd589e30e6328cb3a1aca2f1fe7702202fdbb6c019c1230f25bb4d72048bf5486f326376885a034f1ff6d6328706569e01\",\n",
      "        \"304402206dee41f5d0f50097498e48438cff68804d1118b941d2fbe0053a95e4322fb78802206d5dcd44bf5fdbab77d2bef5c40b042fbb193d1bf46e29fbfbf578ae688c5e9c01\",\n",
      "        \"522102f3d17ca1ac6dcf42b0297a71abb87f79dfa2c66278cbb99c1437e6570643ce902103fc43b44cd953c7b92726ebefe482a272538c7e40fdcde5994a62841525afa8d752ae\"\n",
      "      ],\n",
      "      \"sequence\": 4294967295\n",
      "    }\n",
      "  ],\n",
      "  \"vout\": [\n",
      "    {\n",
      "      \"value\": 0.98000000,\n",
      "      \"n\": 0,\n",
      "      \"scriptPubKey\": {\n",
      "        \"asm\": \"0 67cb20e705c4eb4363194a74d2f743afc1c9ee3cd741d45e21268b16add04f8b\",\n",
      "        \"hex\": \"002067cb20e705c4eb4363194a74d2f743afc1c9ee3cd741d45e21268b16add04f8b\",\n",
      "        \"reqSigs\": 1,\n",
      "        \"type\": \"witness_v0_scripthash\",\n",
      "        \"addresses\": [\n",
      "          \"bcrt1qvl9jpec9cn45xcceff6d9a6r4lqunm3u6aqagh3py693dtwsf79sdged8r\"\n",
      "        ]\n",
      "      }\n",
      "    },\n",
      "    {\n",
      "      \"value\": 1.00000000,\n",
      "      \"n\": 1,\n",
      "      \"scriptPubKey\": {\n",
      "        \"asm\": \"0 d4354803d10e77eccfc3bf06c152ae694d05d381\",\n",
      "        \"hex\": \"0014d4354803d10e77eccfc3bf06c152ae694d05d381\",\n",
      "        \"reqSigs\": 1,\n",
      "        \"type\": \"witness_v0_keyhash\",\n",
      "        \"addresses\": [\n",
      "          \"bcrt1q6s65sq73pem7en7rhurvz54wd9xst5upjhlvwj\"\n",
      "        ]\n",
      "      }\n",
      "    },\n",
      "    {\n",
      "      \"value\": 0.00000000,\n",
      "      \"n\": 2,\n",
      "      \"scriptPubKey\": {\n",
      "        \"asm\": \"OP_RETURN f8345a21a55dc665b65c8dcfb49488b8e4f337d5c9bb843603f7222a892ce94103195e272df2310ded35f9958fd0c2847bf73b5b429a716c005d465009bd768641\",\n",
      "        \"hex\": \"6a41f8345a21a55dc665b65c8dcfb49488b8e4f337d5c9bb843603f7222a892ce94103195e272df2310ded35f9958fd0c2847bf73b5b429a716c005d465009bd768641\",\n",
      "        \"type\": \"nulldata\"\n",
      "      }\n",
      "    },\n",
      "    {\n",
      "      \"value\": 0.09900000,\n",
      "      \"n\": 3,\n",
      "      \"scriptPubKey\": {\n",
      "        \"asm\": \"0 5d6f6add4b70012131dbb8f0a7b067b70ec6a76f\",\n",
      "        \"hex\": \"00145d6f6add4b70012131dbb8f0a7b067b70ec6a76f\",\n",
      "        \"reqSigs\": 1,\n",
      "        \"type\": \"witness_v0_keyhash\",\n",
      "        \"addresses\": [\n",
      "          \"bcrt1qt4hk4h2twqqjzvwmhrc20vr8ku8vdfm0c55m49\"\n",
      "        ]\n",
      "      }\n",
      "    }\n",
      "  ]\n",
      "}\n"
     ]
    }
   ],
   "source": [
    "mined_cust_close_cpfp_tx = subprocess.getoutput(\"bitcoin-cli -regtest getrawtransaction \" + cust_close_cpfp_txid)\n",
    "decoded = subprocess.getoutput(\"bitcoin-cli -regtest decoderawtransaction \" + mined_cust_close_cpfp_tx)\n",
    "print(decoded)"
   ]
  },
  {
   "cell_type": "markdown",
   "metadata": {},
   "source": [
    "## Cust-fee input tx"
   ]
  },
  {
   "cell_type": "markdown",
   "metadata": {},
   "source": [
    "fund another input that the merchant will use to add a large fee to the 'child' transaction."
   ]
  },
  {
   "cell_type": "code",
   "execution_count": 47,
   "metadata": {},
   "outputs": [
    {
     "name": "stdout",
     "output_type": "stream",
     "text": [
      "txid:bd34a95256600ef003ba841b1c5f9a482c4c822658ac95f5112ede7df97bf060\n",
      "index: 0\n"
     ]
    }
   ],
   "source": [
    "# address to fund the merchant child tx\n",
    "cust1_p2sh_p2wpkh_address = pk_to_p2sh_p2wpkh(cust1_pubkey, testnet = True)\n",
    "# print(\"Address: \" + cust1_p2sh_p2wpkh_address)\n",
    "\n",
    "# Fund the merchant child input\n",
    "txid_2 = subprocess.getoutput(\"bitcoin-cli -regtest sendtoaddress \" + cust1_p2sh_p2wpkh_address + \" 1.01\")\n",
    "print(\"txid:\" + txid_2)\n",
    "\n",
    "# Find which output index the btc was sent to\n",
    "raw_tx = subprocess.getoutput(\"bitcoin-cli -regtest getrawtransaction \" + txid_2)\n",
    "decoded = subprocess.getoutput(\"bitcoin-cli -regtest decoderawtransaction \" + raw_tx)\n",
    "d = json.loads(decoded)\n",
    "# print(decoded)\n",
    "\n",
    "if d[\"vout\"][0][\"scriptPubKey\"][\"addresses\"][0] == cust1_p2sh_p2wpkh_address:\n",
    "    index = 0\n",
    "else:\n",
    "    index = 1\n",
    "print(\"index: \" + str(index))"
   ]
  },
  {
   "cell_type": "code",
   "execution_count": 48,
   "metadata": {},
   "outputs": [],
   "source": [
    "os.system(\"bitcoin-cli -regtest generate 1\");"
   ]
  },
  {
   "cell_type": "code",
   "execution_count": 49,
   "metadata": {},
   "outputs": [
    {
     "name": "stdout",
     "output_type": "stream",
     "text": [
      "cust fee outpoint:\n",
      "5102f9d77b313e6838afd8463537f9a3b35f0469fd96392c8c4ee3bd1d9b85e9\n"
     ]
    }
   ],
   "source": [
    "cust1_tx = subprocess.getoutput(\"python p2nsh_to_p2wpkh.py\" \n",
    "                        + \" --txid \" + txid_2\n",
    "                        + \" --index \" + str(index)\n",
    "                        + \" --input_amount_btc \" + \"1.01\"\n",
    "                        + \" --input_privkey \" + merch1_privkey_hex\n",
    "                        + \" --payout_value_btc \" + \"1\"\n",
    "                        + \" --payout_pubkey \" + merch2_pubkey)\n",
    "# print(cust1_tx)\n",
    "\n",
    "cust1_txid = subprocess.getoutput(\"bitcoin-cli -regtest sendrawtransaction \" + cust1_tx)\n",
    "# \"true\" flag means we are okay with absurdly high tx fee\n",
    "print(\"cust fee outpoint:\\n\" + cust1_txid)"
   ]
  },
  {
   "cell_type": "markdown",
   "metadata": {},
   "source": [
    "## Create child transaction\n",
    "Input[0]: Child outpoint <br>\n",
    "Input[1]: Merch p2wpkh outpoint\n",
    "\n",
    "Output[0]: Merch p2wpkh"
   ]
  },
  {
   "cell_type": "code",
   "execution_count": 50,
   "metadata": {},
   "outputs": [
    {
     "name": "stdout",
     "output_type": "stream",
     "text": [
      "020000000001023fc8013fafe7b8d25454016e0d1eed0e107be803055f06ad4b044309458786fa0300000000ffffffffe9859b1dbde34e8c2c3996fd69045fb3a3f9373546d8af38683e317bd7f902510000000000ffffffff0100160206000000001600140cbd8eef39d742140b81cf2f7fbade71af58a182024730440220240080e953a67d68c6aaf7f7709d7ee0500d6a8b35795d27c9c7a363e24e09cb02202f8d4ae266a1f61776a6df7b4c512c308e4d6ab183547d77c463ca08a54fce440121029ee20dd6f7d7385b0816b88ae7519369256ceae2431f59473ab7a0917902b590024730440220241ae27c027f880f10db173447e582893de75aca5bfca9d547d95a592c9a53ec0220456e9291b0cf4c3e31b4a20bd14ae25cd8b175e5c6cf293db117887551e988370121033d954c5326559213b14e37cf029db0f8a75bb7bbac4644ce19a4834b1c71dee900000000\n"
     ]
    }
   ],
   "source": [
    "cust_child_tx = subprocess.getoutput(\"python merch_close_child_tx.py\" \n",
    "                        + \" --child_txid_str \" + cust_close_cpfp_txid\n",
    "                        + \" --child_index \" + \"3\"\n",
    "                        + \" --child_privkey \" + cust_cpfp_privkey_hex\n",
    "                        + \" --child_input_amount_btc \" + \"0.099\"\n",
    "                        + \" --merch_txid_str \" + cust1_txid\n",
    "                        + \" --merch_index \" + \"0\"\n",
    "                        + \" --merch_privkey \" + cust2_privkey_hex\n",
    "                        + \" --merch_input_amount_btc \" + \"1\"\n",
    "                        + \" --output_value_btc \" + \"1.008\"\n",
    "                        + \" --payout_pubkey \" + cust3_pubkey)\n",
    "print(cust_child_tx)"
   ]
  },
  {
   "cell_type": "markdown",
   "metadata": {},
   "source": [
    "#### Broadcast child tx"
   ]
  },
  {
   "cell_type": "code",
   "execution_count": 21,
   "metadata": {},
   "outputs": [
    {
     "name": "stdout",
     "output_type": "stream",
     "text": [
      "defc3281489701d40517c8a8119eb07e874dc5145edceeb0380a64a9cb667136\n"
     ]
    }
   ],
   "source": [
    "merch_child_txid = subprocess.getoutput(\"bitcoin-cli -regtest sendrawtransaction \" + merch_child_tx + \" true\")\n",
    "print(merch_child_txid)"
   ]
  },
  {
   "cell_type": "code",
   "execution_count": 22,
   "metadata": {},
   "outputs": [
    {
     "name": "stdout",
     "output_type": "stream",
     "text": [
      "{\n",
      "  \"txid\": \"defc3281489701d40517c8a8119eb07e874dc5145edceeb0380a64a9cb667136\",\n",
      "  \"hash\": \"c774120b46f3b9cf87b1be082434893f558e64dbabc1f77055a9169b0a4f6410\",\n",
      "  \"version\": 2,\n",
      "  \"size\": 339,\n",
      "  \"vsize\": 177,\n",
      "  \"weight\": 708,\n",
      "  \"locktime\": 0,\n",
      "  \"vin\": [\n",
      "    {\n",
      "      \"txid\": \"9cef5178b6464d566532aad2510608a6c4c715490c7751b8d91387ba909905e6\",\n",
      "      \"vout\": 1,\n",
      "      \"scriptSig\": {\n",
      "        \"asm\": \"\",\n",
      "        \"hex\": \"\"\n",
      "      },\n",
      "      \"txinwitness\": [\n",
      "        \"304402203902507c229075f32eb6f9e2cc1c586219fcf993c12bc77724bf0492fd563043022024ff8a53a4d999f64793584aba73332db462b95e5eb35d7489dcd369129fa91201\",\n",
      "        \"025bdf02f6aeb3a5cbfdece604956a49571d823b8888f5c4d3ceb58e453c044e57\"\n",
      "      ],\n",
      "      \"sequence\": 4294967295\n",
      "    },\n",
      "    {\n",
      "      \"txid\": \"514c7ef5d1d94d6774753d78296a2b62b1b7f6e61cddbde6918bf7e243b536d9\",\n",
      "      \"vout\": 0,\n",
      "      \"scriptSig\": {\n",
      "        \"asm\": \"\",\n",
      "        \"hex\": \"\"\n",
      "      },\n",
      "      \"txinwitness\": [\n",
      "        \"30440220335e18eff0525006a03e78be8657e3addf6e2cb0b7b53f98ed4db32a30dd5de902206941d961dd0491706f5a4bc82cd245da4251c4943c09afb5ce4371933ff8022501\",\n",
      "        \"02c0947a47a59cb42316750ddd23d506d4c23ca997fbe40e9cb813970940501f4f\"\n",
      "      ],\n",
      "      \"sequence\": 4294967295\n",
      "    }\n",
      "  ],\n",
      "  \"vout\": [\n",
      "    {\n",
      "      \"value\": 0.50000000,\n",
      "      \"n\": 0,\n",
      "      \"scriptPubKey\": {\n",
      "        \"asm\": \"0 0cbd8eef39d742140b81cf2f7fbade71af58a182\",\n",
      "        \"hex\": \"00140cbd8eef39d742140b81cf2f7fbade71af58a182\",\n",
      "        \"reqSigs\": 1,\n",
      "        \"type\": \"witness_v0_keyhash\",\n",
      "        \"addresses\": [\n",
      "          \"bcrt1qpj7camee6appgzupeuhhlwk7wxh43gvz6u3shh\"\n",
      "        ]\n",
      "      }\n",
      "    }\n",
      "  ]\n",
      "}\n"
     ]
    }
   ],
   "source": [
    "mined_merch_child_txid = subprocess.getoutput(\"bitcoin-cli -regtest getrawtransaction \" + merch_child_txid)\n",
    "decoded = subprocess.getoutput(\"bitcoin-cli -regtest decoderawtransaction \" + mined_merch_child_txid)\n",
    "print(decoded)"
   ]
  },
  {
   "cell_type": "code",
   "execution_count": null,
   "metadata": {},
   "outputs": [],
   "source": []
  }
 ],
 "metadata": {
  "kernelspec": {
   "display_name": "Python 3",
   "language": "python",
   "name": "python3"
  },
  "language_info": {
   "codemirror_mode": {
    "name": "ipython",
    "version": 3
   },
   "file_extension": ".py",
   "mimetype": "text/x-python",
   "name": "python",
   "nbconvert_exporter": "python",
   "pygments_lexer": "ipython3",
   "version": "3.6.8"
  }
 },
 "nbformat": 4,
 "nbformat_minor": 2
}
