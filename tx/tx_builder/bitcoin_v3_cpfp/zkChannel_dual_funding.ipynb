{
 "cells": [
  {
   "cell_type": "code",
   "execution_count": 3,
   "metadata": {
    "code_folding": [
     0,
     10,
     15,
     19
    ]
   },
   "outputs": [],
   "source": [
    "#\n",
    "import base58\n",
    "import binascii\n",
    "import ecdsa\n",
    "import hashlib\n",
    "import json\n",
    "import os\n",
    "import subprocess\n",
    "import time\n",
    "\n",
    "def dSHA256(data):\n",
    "    hash_1 = hashlib.sha256(data).digest()\n",
    "    hash_2 = hashlib.sha256(hash_1).digest()\n",
    "    return hash_2\n",
    "\n",
    "def hash160(s):\n",
    "    '''sha256 followed by ripemd160'''\n",
    "    return hashlib.new('ripemd160', hashlib.sha256(s).digest()).digest()\n",
    "\n",
    "def privkey_to_pubkey(privkey):\n",
    "    signing_key = ecdsa.SigningKey.from_string(privkey, curve=ecdsa.SECP256k1) # Don't forget to specify the curve\n",
    "    verifying_key = signing_key.get_verifying_key()\n",
    "\n",
    "    # Use this code block if the address you gave corresponds to the compressed public key\n",
    "    x_cor = bytes.fromhex(verifying_key.to_string().hex())[:32] # The first 32 bytes are the x coordinate\n",
    "    y_cor = bytes.fromhex(verifying_key.to_string().hex())[32:] # The last 32 bytes are the y coordinate\n",
    "    if int.from_bytes(y_cor, byteorder=\"big\", signed=True) % 2 == 0: # We need to turn the y_cor into a number.\n",
    "        public_key = bytes.fromhex(\"02\" + x_cor.hex())\n",
    "    else:\n",
    "        public_key = bytes.fromhex(\"03\" + x_cor.hex())\n",
    "    return public_key"
   ]
  },
  {
   "cell_type": "code",
   "execution_count": 4,
   "metadata": {
    "code_folding": [
     0
    ]
   },
   "outputs": [],
   "source": [
    "# Functions related to generating bitcoin addresses\n",
    "\n",
    "def encode_base58(s):\n",
    "    BASE58_ALPHABET = '123456789ABCDEFGHJKLMNPQRSTUVWXYZabcdefghijkmnopqrstuvwxyz'\n",
    "    count = 0\n",
    "    for c in s:  \n",
    "        if c == 0:\n",
    "            count += 1\n",
    "        else:\n",
    "            break\n",
    "    num = int.from_bytes(s, 'big')\n",
    "    prefix = '1' * count\n",
    "    result = ''\n",
    "    while num > 0:  \n",
    "        num, mod = divmod(num, 58)\n",
    "        result = BASE58_ALPHABET[mod] + result\n",
    "    return prefix + result\n",
    "\n",
    "def encode_base58_checksum(b):\n",
    "    return encode_base58(b + dSHA256(b)[:4])\n",
    "\n",
    "# https://en.bitcoin.it/wiki/Wallet_import_format\n",
    "def privkey_to_wif(privkey, compressed_pubkey, testnet):\n",
    "    if testnet:\n",
    "        prefix = b\"\\xEF\"\n",
    "    else:\n",
    "        prefix = b\"\\x80\"\n",
    "    \n",
    "    # if the privkey will correspond to a compressed public key\n",
    "    if compressed_pubkey: \n",
    "        extended = prefix + privkey + b\"\\x01\"\n",
    "    else:\n",
    "        extended = prefix + privkey \n",
    "        \n",
    "    extendedchecksum = extended + dSHA256(extended)[:4]\n",
    "    wif = encode_base58(extendedchecksum)\n",
    "    \n",
    "    return wif\n",
    "\n",
    "# https://learnmeabitcoin.com/guide/wif\n",
    "def wif_to_privkey(private_key_WIF):\n",
    "    private_key_full = base58.b58decode(private_key_WIF)\n",
    "    \n",
    "    # If the WIF encoding includes the optional \"01\" byte for compressed privKey,\n",
    "    # do not include it in the final output.\n",
    "    if len(private_key_full) == 38:\n",
    "        private_key = private_key_full[1:-5] \n",
    "        print(\"compressed pubkey\")\n",
    "    else:\n",
    "        private_key = private_key_full[1:-4] \n",
    "        print(\"not compressed pubkey\")\n",
    "    return private_key\n",
    "\n",
    "\n",
    "def pk_to_p2pkh(compressed, testnet):\n",
    "    '''Returns the address string'''\n",
    "    pk_hash = hash160(compressed)\n",
    "    if testnet:\n",
    "        prefix = b'\\x6f'\n",
    "    else:\n",
    "        prefix = b'\\x00'\n",
    "    return encode_base58_checksum(prefix + pk_hash)\n",
    "\n",
    "def pk_to_p2sh_p2wpkh(compressed, testnet):\n",
    "    pk_hash = hash160(compressed)\n",
    "    redeemScript = bytes.fromhex(f\"0014{pk_hash.hex()}\")\n",
    "    rs_hash = hash160(redeemScript)\n",
    "    if testnet:\n",
    "        prefix = b\"\\xc4\"\n",
    "    else:\n",
    "        prefix = b\"\\x05\"\n",
    "    return encode_base58_checksum(prefix + rs_hash)\n",
    "\n",
    "def wif_to_addresses(wif):\n",
    "#     wif = \"cUy9rC6wteKizfu1fgP2abKUWTkJxjqKp2fba91FkU332CFHo6ix\"\n",
    "    privkey = wif_to_privkey(wif)\n",
    "    public_key = privkey_to_pubkey(privkey)\n",
    "    p2pkh_address = pk_to_p2pkh(public_key, testnet = True)\n",
    "    p2sh_p2wpkh_address = pk_to_p2sh_p2wpkh(public_key, testnet = True)\n",
    "\n",
    "    print(\"WIF Private key: \" + wif)\n",
    "    print(\"Private key: \" + privkey.hex())\n",
    "    print(\"Public key: \" + public_key.hex())\n",
    "    print(\"Public key hash: \" + hash160(public_key).hex())\n",
    "    print(\"Address: \" + p2pkh_address)\n",
    "    print(\"Address: \" + p2sh_p2wpkh_address)\n",
    "    \n",
    "def privkey_to_addresses(privkey):\n",
    "    # privkey = bytes.fromhex(\"AF933A6C602069F1CBC85990DF087714D7E86DF0D0E48398B7D8953E1F03534A\")\n",
    "    public_key = privkey_to_pubkey(privkey)\n",
    "    p2pkh_address = pk_to_p2pkh(public_key, testnet = True)\n",
    "    p2sh_p2wpkh_address = pk_to_p2sh_p2wpkh(public_key, testnet = True)\n",
    "\n",
    "    print(\"Private key: \" + privkey.hex())\n",
    "    print(\"Public key: \" + public_key.hex())\n",
    "    print(\"Public key hash: \" + hash160(public_key).hex())\n",
    "    print(\"Address: \" + p2pkh_address)\n",
    "    print(\"Address: \" + p2sh_p2wpkh_address)"
   ]
  },
  {
   "cell_type": "markdown",
   "metadata": {},
   "source": [
    "# Dual funded escrow"
   ]
  },
  {
   "cell_type": "markdown",
   "metadata": {},
   "source": [
    "Generate all the priv/public keys"
   ]
  },
  {
   "cell_type": "code",
   "execution_count": 20,
   "metadata": {
    "code_folding": []
   },
   "outputs": [],
   "source": [
    "# Generate example priv/pubkeys\n",
    "cust_funding_privkey_hex = \"1111111111111111111111111111111100000000000000000000000000000000\"\n",
    "cust_funding_pubkey_hex = privkey_to_pubkey(bytes.fromhex(cust_funding_privkey_hex)).hex()\n",
    "\n",
    "cust_change_privkey_hex = \"1111111111111111111111111111111111111111111111111111111111111111\"\n",
    "cust_change_pubkey_hex = privkey_to_pubkey(bytes.fromhex(cust_change_privkey_hex)).hex()\n",
    "\n",
    "merch_funding_privkey_hex = \"5611111111111111111111111111111100000000000000000000000000000000\"\n",
    "merch_funding_pubkey_hex = privkey_to_pubkey(bytes.fromhex(merch_funding_privkey_hex)).hex()\n",
    "\n",
    "merch_change_privkey_hex = \"7511111111111111111111111111111111111111111111111111111111111111\"\n",
    "merch_change_pubkey_hex = privkey_to_pubkey(bytes.fromhex(merch_change_privkey_hex)).hex()\n",
    "\n",
    "merch_privkey_hex = \"3911111111111111111111111111111111111111111111111111111111111111\"\n",
    "merch_pubkey_hex = privkey_to_pubkey(bytes.fromhex(merch_privkey_hex)).hex()\n",
    "\n",
    "cust_privkey_hex = \"7911111111111111111111111111111111111111111111111111111111111111\"\n",
    "cust_pubkey_hex = privkey_to_pubkey(bytes.fromhex(cust_privkey_hex)).hex()\n",
    "\n",
    "# cust_payout_privkey_hex = \"7711111111111111111111111111111111111111111111111111111111111111\"\n",
    "# cust_payout_pubkey_hex = privkey_to_pubkey(bytes.fromhex(cust_payout_privkey_hex)).hex()\n",
    "\n",
    "merch_payout_privkey_hex = \"3711111111111111111111111111111111111111111111111111111111111111\"\n",
    "merch_payout_pubkey_hex = privkey_to_pubkey(bytes.fromhex(merch_payout_privkey_hex)).hex()\n",
    "\n",
    "# merch_disp_privkey_hex = \"3111111111111111111111111111111111111111111111111111111111111111\"\n",
    "# merch_disp_pubkey_hex = privkey_to_pubkey(bytes.fromhex(merch_disp_privkey_hex)).hex()\n",
    "\n",
    "# revocation_secret_hex = \"4011111111111111111111111111111111111111111111111111111111111111\"\n",
    "# RL = hashlib.sha256(bytes.fromhex(revocation_secret_hex)).digest()\n",
    "# revocation_lock_hex = RL.hex()\n",
    "\n",
    "# merch_cpfp_privkey_hex = \"2222222222222222222222222222222277777777777777777777777777777777\"\n",
    "# merch_cpfp_pubkey_hex = privkey_to_pubkey(bytes.fromhex(merch_cpfp_privkey_hex)).hex()\n",
    "\n",
    "# merch_fee_privkey_hex = \"2222222222222222222222222222222266666666666666666666666666666666\"\n",
    "# merch_fee_pubkey_hex = privkey_to_pubkey(bytes.fromhex(merch_fee_privkey_hex)).hex()"
   ]
  },
  {
   "cell_type": "code",
   "execution_count": 7,
   "metadata": {
    "code_folding": []
   },
   "outputs": [],
   "source": [
    "# # cpfp priv/pubkeys\n",
    "# merch1_privkey_hex = \"0221111111111111111111111111111100000000000000000000000000000000\"\n",
    "# merch1_privkey = bytes.fromhex(merch1_privkey_hex)\n",
    "# merch1_pubkey = privkey_to_pubkey(merch1_privkey)\n",
    "\n",
    "# merch2_privkey_hex = \"2221111111111111111111111111111100000000000000000000000000000000\"\n",
    "# merch2_privkey = bytes.fromhex(merch2_privkey_hex)\n",
    "# merch2_pubkey = privkey_to_pubkey(merch2_privkey).hex()\n",
    "\n",
    "# merch3_privkey_hex = \"3311111111111111111111111111111100000000000000000000000000000000\"\n",
    "# merch3_privkey = bytes.fromhex(merch3_privkey_hex)\n",
    "# merch3_pubkey = privkey_to_pubkey(merch3_privkey).hex()"
   ]
  },
  {
   "cell_type": "markdown",
   "metadata": {},
   "source": [
    "### Start up regtest mode\n",
    "Delete any history so we are starting from scratch. <br>\n",
    "Mine 101 blocks so we can spend some btc."
   ]
  },
  {
   "cell_type": "code",
   "execution_count": 8,
   "metadata": {
    "code_folding": []
   },
   "outputs": [
    {
     "name": "stdout",
     "output_type": "stream",
     "text": [
      "blockcount: 101\n"
     ]
    }
   ],
   "source": [
    "# Make sure bitcoind is not already running\n",
    "os.system(\"bitcoin-cli -regtest stop\")\n",
    "time.sleep(2) \n",
    "\n",
    "# Delete any previous files to restart regtest\n",
    "os.system(\"rm -rfv $HOME/Library/Application\\ Support/Bitcoin/regtest/\")\n",
    "\n",
    "# start up bitcoind in regtest mode\n",
    "# os.system(\"bitcoind -regtest -daemon -minrelaytxfee=0\")\n",
    "os.system(\"bitcoind -regtest -daemon\")\n",
    "time.sleep(2)\n",
    "\n",
    "# generate 101 blocks so we can fund transactions\n",
    "os.system(\"bitcoin-cli -regtest generate 101\")\n",
    "blockcount = subprocess.getoutput(\"bitcoin-cli -regtest getblockcount\")\n",
    "\n",
    "print(\"blockcount: \" + str(blockcount))"
   ]
  },
  {
   "cell_type": "markdown",
   "metadata": {},
   "source": [
    "Generate base58 address for the escrow funder"
   ]
  },
  {
   "cell_type": "code",
   "execution_count": 9,
   "metadata": {},
   "outputs": [
    {
     "name": "stdout",
     "output_type": "stream",
     "text": [
      "cust Address: 2MuuVDMJqfh2J9iS3DtfUeU1tEfff1SNahi\n",
      "merch Address: 2MvoRVVCpkaZ9f6fVZZohxSMF69HfggsehJ\n"
     ]
    }
   ],
   "source": [
    "# Generate p2sh-p2wpkh address to fund the cust escrow funder\n",
    "cust_privkey = bytes.fromhex(cust_funding_privkey_hex)\n",
    "cust_public_key = privkey_to_pubkey(cust_privkey)\n",
    "cust_p2sh_p2wpkh_address = pk_to_p2sh_p2wpkh(cust_public_key, testnet = True)\n",
    "\n",
    "# print(\"Private key: \" + privkey.hex())\n",
    "# print(\"Public key: \" + public_key.hex())\n",
    "print(\"cust Address: \" + cust_p2sh_p2wpkh_address)\n",
    "\n",
    "# Generate p2sh-p2wpkh address to fund the cust escrow funder\n",
    "merch_privkey = bytes.fromhex(merch_funding_privkey_hex)\n",
    "merch_public_key = privkey_to_pubkey(merch_privkey)\n",
    "merch_p2sh_p2wpkh_address = pk_to_p2sh_p2wpkh(merch_public_key, testnet = True)\n",
    "\n",
    "# print(\"Private key: \" + privkey.hex())\n",
    "# print(\"Public key: \" + public_key.hex())\n",
    "print(\"merch Address: \" + merch_p2sh_p2wpkh_address)"
   ]
  },
  {
   "cell_type": "markdown",
   "metadata": {},
   "source": [
    "### Send btc to the escrow funder"
   ]
  },
  {
   "cell_type": "code",
   "execution_count": 10,
   "metadata": {},
   "outputs": [
    {
     "name": "stdout",
     "output_type": "stream",
     "text": [
      "8b3523da528a8f5a55c5374cfcebc661a0885e07a1b82a80c70c49febbd40bdd\n",
      "310b64758ba9d11380714df4640f48b8ef3540570f70f9e1479cd84b42070b3e\n"
     ]
    }
   ],
   "source": [
    "cust_txid_1 = subprocess.getoutput(\"bitcoin-cli -regtest sendtoaddress \" + cust_p2sh_p2wpkh_address + \" 3.0\")\n",
    "print(cust_txid_1)\n",
    "\n",
    "merch_txid_1 = subprocess.getoutput(\"bitcoin-cli -regtest sendtoaddress \" + merch_p2sh_p2wpkh_address + \" 4.0\")\n",
    "print(merch_txid_1)"
   ]
  },
  {
   "cell_type": "code",
   "execution_count": 12,
   "metadata": {},
   "outputs": [
    {
     "name": "stdout",
     "output_type": "stream",
     "text": [
      "cust index: 1\n",
      "merch index: 0\n"
     ]
    }
   ],
   "source": [
    "# Find which output index the btc was sent to\n",
    "cust_raw_tx = subprocess.getoutput(\"bitcoin-cli -regtest getrawtransaction \" + cust_txid_1)\n",
    "decoded = subprocess.getoutput(\"bitcoin-cli -regtest decoderawtransaction \" + cust_raw_tx)\n",
    "d = json.loads(decoded)\n",
    "# print(decoded)\n",
    "\n",
    "if d[\"vout\"][0][\"scriptPubKey\"][\"addresses\"][0] == cust_p2sh_p2wpkh_address:\n",
    "    cust_index = 0\n",
    "else:\n",
    "    cust_index = 1\n",
    "print(\"cust index: \" + str(cust_index))\n",
    "\n",
    "# Find which output index the btc was sent to\n",
    "merch_raw_tx = subprocess.getoutput(\"bitcoin-cli -regtest getrawtransaction \" + merch_txid_1)\n",
    "decoded = subprocess.getoutput(\"bitcoin-cli -regtest decoderawtransaction \" + merch_raw_tx)\n",
    "d = json.loads(decoded)\n",
    "# print(decoded)\n",
    "\n",
    "if d[\"vout\"][0][\"scriptPubKey\"][\"addresses\"][0] == merch_p2sh_p2wpkh_address:\n",
    "    merch_index = 0\n",
    "else:\n",
    "    merch_index = 1\n",
    "print(\"merch index: \" + str(merch_index))"
   ]
  },
  {
   "cell_type": "code",
   "execution_count": 13,
   "metadata": {},
   "outputs": [],
   "source": [
    "os.system(\"bitcoin-cli -regtest generate 1\");"
   ]
  },
  {
   "cell_type": "markdown",
   "metadata": {},
   "source": [
    "## Create Funding tx"
   ]
  },
  {
   "cell_type": "code",
   "execution_count": 16,
   "metadata": {},
   "outputs": [
    {
     "name": "stdout",
     "output_type": "stream",
     "text": [
      "serialized funding tx:\n",
      "02000000000102dd0bd4bbfe490cc7802ab8a1075e88a061c6ebfc4c37c5555a8f8a52da23358b0100000017160014578dd1183845e18d42f90b1a9f3a464675ad2440ffffffff3e0b07424bd89c47e1f9700f574035efb8480f64f44d718013d1a98b75640b31000000001716001403d761347fe4398f4ab398266a830ead7c9c2f30ffffffff038058840c00000000220020666c6bfa88ba97c90cb04c7038d56b5854e71a4dd174d79b1260c822a14f791e40084e0500000000160014fc7250a211deddc70ee5a2738de5f07817351cef40ca3911000000001600149f122ad09f6d53cf6838841560fccc6ca26ba28b024730440220023ae5a95db93c3aea4e5091fdb1b1d89ad8edd3d8475c34b258f3ad1b95e07e022036239c1f64bce694b660cf6ccb341d9bfce57b8d07c4d4f3436b9ff006dc885f0121021d5c5194a62b272f98a7d8321e4b3a03add9d61d13a15a00123888b81850cee202483045022100cbf4760798322f70f44902fbf21eef6432514c6f9a3a3dea7c27bc41ae585d330220034114c43fbc6760d21753553f47fea81b79a914f1507c1acbc21a4deded31dc012103780cd60a7ffeb777ec337e2c177e783625c4de907a4aee0f41269cc612fba45700000000\n",
      "\n",
      "funding txid:\n",
      "a8dbb9d38a7e2ab0b2cfa7bd0b0c2269eba69e48447703e66219881f43d04ebe\n"
     ]
    }
   ],
   "source": [
    "raw_escrow_tx = subprocess.getoutput(\"python dual_funding_tx_with_changev2.py\" \n",
    "                        + \" --cust_txid \" + cust_txid_1\n",
    "                        + \" --cust_index \" + str(cust_index)\n",
    "                        + \" --cust_input_amount_btc \" + \"3.0\"\n",
    "                        + \" --cust_funding_privkey \" + cust_funding_privkey_hex\n",
    "                        + \" --merch_txid \" + merch_txid_1\n",
    "                        + \" --merch_index \" + str(merch_index)\n",
    "                        + \" --merch_input_amount_btc \" + \"4.0\"\n",
    "                        + \" --merch_funding_privkey \" + merch_funding_privkey_hex\n",
    "                        + \" --escrow_value_btc \" + \"2.1\"\n",
    "                        + \" --cust_pubkey \" + cust_pubkey_hex\n",
    "                        + \" --merch_pubkey \" + merch_pubkey_hex\n",
    "                        + \" --cust_change_value_btc \" + \"0.89\"\n",
    "                        + \" --cust_change_pubkey \" + cust_change_pubkey_hex\n",
    "                        + \" --merch_change_value_btc \" + \"2.89\"\n",
    "                        + \" --merch_change_pubkey \" + merch_change_pubkey_hex)\n",
    "print(\"serialized funding tx:\\n\" + raw_escrow_tx)\n",
    "\n",
    "# Broadcast funding tx\n",
    "escrow_txid = subprocess.getoutput(\"bitcoin-cli -regtest sendrawtransaction \" + raw_escrow_tx + \" true\")\n",
    "# \"true\" flag means we are okay with an 'absurdly' high tx fee\n",
    "\n",
    "print(\"\\nfunding txid:\\n\"+escrow_txid)"
   ]
  },
  {
   "cell_type": "code",
   "execution_count": 17,
   "metadata": {},
   "outputs": [],
   "source": [
    "os.system(\"bitcoin-cli -regtest generate 1\");"
   ]
  },
  {
   "cell_type": "markdown",
   "metadata": {},
   "source": [
    "#### Decode escrow funding transaction"
   ]
  },
  {
   "cell_type": "code",
   "execution_count": 18,
   "metadata": {
    "scrolled": false
   },
   "outputs": [],
   "source": [
    "# raw_escrow_tx1 = subprocess.getoutput(\"bitcoin-cli -regtest getrawtransaction \" + escrow_txid)\n",
    "# decoded = subprocess.getoutput(\"bitcoin-cli -regtest decoderawtransaction \" + raw_escrow_tx1)\n",
    "# print(decoded)"
   ]
  },
  {
   "cell_type": "markdown",
   "metadata": {},
   "source": [
    "## Merch-close with CPFP"
   ]
  },
  {
   "cell_type": "code",
   "execution_count": 21,
   "metadata": {},
   "outputs": [
    {
     "ename": "NameError",
     "evalue": "name 'merch_cpfp_pubkey_hex' is not defined",
     "output_type": "error",
     "traceback": [
      "\u001b[0;31m---------------------------------------------------------------------------\u001b[0m",
      "\u001b[0;31mNameError\u001b[0m                                 Traceback (most recent call last)",
      "\u001b[0;32m<ipython-input-21-40a087333a49>\u001b[0m in \u001b[0;36m<module>\u001b[0;34m\u001b[0m\n\u001b[1;32m      9\u001b[0m                 \u001b[0;34m+\u001b[0m \u001b[0;34m\" --to_self_delay \"\u001b[0m \u001b[0;34m+\u001b[0m \u001b[0;34m\"05cf\"\u001b[0m \u001b[0;31m# number of blocks to delay to-self output\u001b[0m\u001b[0;34m\u001b[0m\u001b[0;34m\u001b[0m\u001b[0m\n\u001b[1;32m     10\u001b[0m                 \u001b[0;34m+\u001b[0m \u001b[0;34m\" --merch_cpfp_pubkey \"\u001b[0m \u001b[0;34m+\u001b[0m \u001b[0mmerch_cpfp_pubkey_hex\u001b[0m\u001b[0;34m\u001b[0m\u001b[0;34m\u001b[0m\u001b[0m\n\u001b[0;32m---> 11\u001b[0;31m                 + \" --merch_cpfp_value_btc \" + \"0.1\") # number of blocks to delay to-self output       \n\u001b[0m\u001b[1;32m     12\u001b[0m \u001b[0mprint\u001b[0m\u001b[0;34m(\u001b[0m\u001b[0;34m\"merch close with cpfp tx:\\n\"\u001b[0m \u001b[0;34m+\u001b[0m \u001b[0mmerch_close_cpfp_tx\u001b[0m\u001b[0;34m)\u001b[0m\u001b[0;34m\u001b[0m\u001b[0;34m\u001b[0m\u001b[0m\n",
      "\u001b[0;31mNameError\u001b[0m: name 'merch_cpfp_pubkey_hex' is not defined"
     ]
    }
   ],
   "source": [
    "merch_close_cpfp_tx = subprocess.getoutput(\"python merch_close_with_cpfp.py\"        \n",
    "                + \" --txid_str \" + escrow_txid\n",
    "                + \" --index \" + \"0\"\n",
    "                + \" --input_amount_btc \" + \"2.1\"\n",
    "                + \" --cust_privkey \" + cust_privkey_hex \n",
    "                + \" --merch_privkey \" + merch_privkey_hex\n",
    "                + \" --output_value_btc \" + \"1.99\"\n",
    "                + \" --merch_payout_pubkey \" + merch_payout_pubkey_hex   \n",
    "                + \" --to_self_delay \" + \"05cf\" # number of blocks to delay to-self output   \n",
    "                + \" --merch_cpfp_pubkey \" + merch_cpfp_pubkey_hex   \n",
    "                + \" --merch_cpfp_value_btc \" + \"0.1\") # number of blocks to delay to-self output       \n",
    "print(\"merch close with cpfp tx:\\n\" + merch_close_cpfp_tx)"
   ]
  },
  {
   "cell_type": "markdown",
   "metadata": {},
   "source": [
    "This tx could be broadcast by itself and it would be a valid tx (cell below). If the fee was too small, we can effectively bump up the fee by creating a 'child' tx that spends from it"
   ]
  },
  {
   "cell_type": "code",
   "execution_count": 14,
   "metadata": {},
   "outputs": [
    {
     "name": "stdout",
     "output_type": "stream",
     "text": [
      "9cef5178b6464d566532aad2510608a6c4c715490c7751b8d91387ba909905e6\n"
     ]
    }
   ],
   "source": [
    "merch_close_cpfp_txid = subprocess.getoutput(\"bitcoin-cli -regtest sendrawtransaction \" + merch_close_cpfp_tx)\n",
    "print(merch_close_cpfp_txid) "
   ]
  },
  {
   "cell_type": "code",
   "execution_count": 15,
   "metadata": {},
   "outputs": [],
   "source": [
    "os.system(\"bitcoin-cli -regtest generate 1\");"
   ]
  },
  {
   "cell_type": "code",
   "execution_count": 16,
   "metadata": {},
   "outputs": [
    {
     "name": "stdout",
     "output_type": "stream",
     "text": [
      "{\n",
      "  \"txid\": \"9cef5178b6464d566532aad2510608a6c4c715490c7751b8d91387ba909905e6\",\n",
      "  \"hash\": \"a6532fad966c8c52142a0fdab3ff5394284c3c6409190e0fb0a0d609d6fde768\",\n",
      "  \"version\": 2,\n",
      "  \"size\": 347,\n",
      "  \"vsize\": 181,\n",
      "  \"weight\": 722,\n",
      "  \"locktime\": 0,\n",
      "  \"vin\": [\n",
      "    {\n",
      "      \"txid\": \"bec3bf0c35dbdf678cf30d1293c7e1baf31851df7d8523cec302174c19119673\",\n",
      "      \"vout\": 0,\n",
      "      \"scriptSig\": {\n",
      "        \"asm\": \"\",\n",
      "        \"hex\": \"\"\n",
      "      },\n",
      "      \"txinwitness\": [\n",
      "        \"\",\n",
      "        \"3045022100e61438b27c57dec59a89c172fa3a8c2bfc1fd761a0e79e7b0866c010ef7d9f81022054a6b8667867e6372c05d818cb8d7f9b10b6cc45b61d1e91e7912d04b4e0cc4501\",\n",
      "        \"3045022100fa88798777fa9c6ba7e280128c8ad497fbf3045b5490ea12081f4c3b08d2877002200426167ebebbbd528c1d61b62e4533f5dbaf7f87bf52fe197f5e775ae99b236d01\",\n",
      "        \"522102f3d17ca1ac6dcf42b0297a71abb87f79dfa2c66278cbb99c1437e6570643ce902103fc43b44cd953c7b92726ebefe482a272538c7e40fdcde5994a62841525afa8d752ae\"\n",
      "      ],\n",
      "      \"sequence\": 4294967295\n",
      "    }\n",
      "  ],\n",
      "  \"vout\": [\n",
      "    {\n",
      "      \"value\": 1.99000000,\n",
      "      \"n\": 0,\n",
      "      \"scriptPubKey\": {\n",
      "        \"asm\": \"0 c3fae9ae705465ac132b128c84fc011be28c21bff28e165f7cfb776dfbb117ff\",\n",
      "        \"hex\": \"0020c3fae9ae705465ac132b128c84fc011be28c21bff28e165f7cfb776dfbb117ff\",\n",
      "        \"reqSigs\": 1,\n",
      "        \"type\": \"witness_v0_scripthash\",\n",
      "        \"addresses\": [\n",
      "          \"bcrt1qc0awntns23j6cyetz2xgflqpr03gcgdl728pvhmuldmkm7a3zllsja46jn\"\n",
      "        ]\n",
      "      }\n",
      "    },\n",
      "    {\n",
      "      \"value\": 0.10000000,\n",
      "      \"n\": 1,\n",
      "      \"scriptPubKey\": {\n",
      "        \"asm\": \"0 1c26d37dce07c4505c165b93be1e6c408a30067a\",\n",
      "        \"hex\": \"00141c26d37dce07c4505c165b93be1e6c408a30067a\",\n",
      "        \"reqSigs\": 1,\n",
      "        \"type\": \"witness_v0_keyhash\",\n",
      "        \"addresses\": [\n",
      "          \"bcrt1qrsndxlwwqlz9qhqktwfmu8nvgz9rqpn6qdjx90\"\n",
      "        ]\n",
      "      }\n",
      "    }\n",
      "  ]\n",
      "}\n"
     ]
    }
   ],
   "source": [
    "mined_merch_close_cpfp_tx = subprocess.getoutput(\"bitcoin-cli -regtest getrawtransaction \" + merch_close_cpfp_txid)\n",
    "decoded = subprocess.getoutput(\"bitcoin-cli -regtest decoderawtransaction \" + mined_merch_close_cpfp_tx)\n",
    "print(decoded)"
   ]
  },
  {
   "cell_type": "markdown",
   "metadata": {},
   "source": [
    "## Merch-fee input tx"
   ]
  },
  {
   "cell_type": "markdown",
   "metadata": {},
   "source": [
    "fund another input that the merchant will use to add a large fee to the 'child' transaction."
   ]
  },
  {
   "cell_type": "code",
   "execution_count": 17,
   "metadata": {},
   "outputs": [
    {
     "name": "stdout",
     "output_type": "stream",
     "text": [
      "txid:2afe95137e6e741d3267f96f8f1908baff88b796db030ce648384e378286acdd\n",
      "index: 1\n"
     ]
    }
   ],
   "source": [
    "# address to fund the merchant child tx\n",
    "merch1_p2sh_p2wpkh_address = pk_to_p2sh_p2wpkh(merch1_pubkey, testnet = True)\n",
    "# print(\"Address: \" + merch1_p2sh_p2wpkh_address)\n",
    "\n",
    "# Fund the merchant child input\n",
    "txid_2 = subprocess.getoutput(\"bitcoin-cli -regtest sendtoaddress \" + merch1_p2sh_p2wpkh_address + \" 1.01\")\n",
    "print(\"txid:\" + txid_2)\n",
    "\n",
    "# Find which output index the btc was sent to\n",
    "raw_tx = subprocess.getoutput(\"bitcoin-cli -regtest getrawtransaction \" + txid_2)\n",
    "decoded = subprocess.getoutput(\"bitcoin-cli -regtest decoderawtransaction \" + raw_tx)\n",
    "d = json.loads(decoded)\n",
    "# print(decoded)\n",
    "\n",
    "if d[\"vout\"][0][\"scriptPubKey\"][\"addresses\"][0] == merch1_p2sh_p2wpkh_address:\n",
    "    index = 0\n",
    "else:\n",
    "    index = 1\n",
    "print(\"index: \" + str(index))"
   ]
  },
  {
   "cell_type": "code",
   "execution_count": 18,
   "metadata": {},
   "outputs": [],
   "source": [
    "os.system(\"bitcoin-cli -regtest generate 1\");"
   ]
  },
  {
   "cell_type": "code",
   "execution_count": 19,
   "metadata": {},
   "outputs": [
    {
     "name": "stdout",
     "output_type": "stream",
     "text": [
      "merch fee outpoint:\n",
      "514c7ef5d1d94d6774753d78296a2b62b1b7f6e61cddbde6918bf7e243b536d9\n"
     ]
    }
   ],
   "source": [
    "merch1_tx = subprocess.getoutput(\"python p2nsh_to_p2wpkh.py\" \n",
    "                        + \" --txid \" + txid_2\n",
    "                        + \" --index \" + str(index)\n",
    "                        + \" --input_amount_btc \" + \"1.01\"\n",
    "                        + \" --input_privkey \" + merch1_privkey_hex\n",
    "                        + \" --payout_value_btc \" + \"1\"\n",
    "                        + \" --payout_pubkey \" + merch2_pubkey)\n",
    "# print(merch1_tx)\n",
    "\n",
    "merch1_txid = subprocess.getoutput(\"bitcoin-cli -regtest sendrawtransaction \" + merch1_tx + \" true\")\n",
    "# \"true\" flag means we are okay with absurdly high tx fee\n",
    "print(\"merch fee outpoint:\\n\" + merch1_txid)"
   ]
  },
  {
   "cell_type": "markdown",
   "metadata": {},
   "source": [
    "## Create child transaction\n",
    "Input[0]: Child outpoint <br>\n",
    "Input[1]: Merch p2wpkh outpoint\n",
    "\n",
    "Output[0]: Merch p2wpkh"
   ]
  },
  {
   "cell_type": "code",
   "execution_count": 20,
   "metadata": {},
   "outputs": [
    {
     "name": "stdout",
     "output_type": "stream",
     "text": [
      "02000000000102e6059990ba8713d9b851770c4915c7c4a6080651d2aa3265564d46b67851ef9c0100000000ffffffffd936b543e2f78b91e6bddd1ce6f6b7b1622b6a29783d7574674dd9d1f57e4c510000000000ffffffff0180f0fa02000000001600140cbd8eef39d742140b81cf2f7fbade71af58a1820247304402203902507c229075f32eb6f9e2cc1c586219fcf993c12bc77724bf0492fd563043022024ff8a53a4d999f64793584aba73332db462b95e5eb35d7489dcd369129fa9120121025bdf02f6aeb3a5cbfdece604956a49571d823b8888f5c4d3ceb58e453c044e57024730440220335e18eff0525006a03e78be8657e3addf6e2cb0b7b53f98ed4db32a30dd5de902206941d961dd0491706f5a4bc82cd245da4251c4943c09afb5ce4371933ff80225012102c0947a47a59cb42316750ddd23d506d4c23ca997fbe40e9cb813970940501f4f00000000\n"
     ]
    }
   ],
   "source": [
    "merch_child_tx = subprocess.getoutput(\"python merch_close_child_tx.py\" \n",
    "                        + \" --child_txid_str \" + merch_close_cpfp_txid\n",
    "                        + \" --child_index \" + \"1\"\n",
    "                        + \" --child_privkey \" + merch_cpfp_privkey_hex\n",
    "                        + \" --child_input_amount_btc \" + \"0.1\"\n",
    "                        + \" --merch_txid_str \" + merch1_txid\n",
    "                        + \" --merch_index \" + \"0\"\n",
    "                        + \" --merch_privkey \" + merch2_privkey_hex\n",
    "                        + \" --merch_input_amount_btc \" + \"1\"\n",
    "                        + \" --output_value_btc \" + \"0.5\"\n",
    "                        + \" --payout_pubkey \" + merch3_pubkey)\n",
    "print(merch_child_tx)"
   ]
  },
  {
   "cell_type": "markdown",
   "metadata": {},
   "source": [
    "#### Broadcast child tx"
   ]
  },
  {
   "cell_type": "code",
   "execution_count": 21,
   "metadata": {},
   "outputs": [
    {
     "name": "stdout",
     "output_type": "stream",
     "text": [
      "defc3281489701d40517c8a8119eb07e874dc5145edceeb0380a64a9cb667136\n"
     ]
    }
   ],
   "source": [
    "merch_child_txid = subprocess.getoutput(\"bitcoin-cli -regtest sendrawtransaction \" + merch_child_tx + \" true\")\n",
    "print(merch_child_txid)"
   ]
  },
  {
   "cell_type": "code",
   "execution_count": 22,
   "metadata": {},
   "outputs": [
    {
     "name": "stdout",
     "output_type": "stream",
     "text": [
      "{\n",
      "  \"txid\": \"defc3281489701d40517c8a8119eb07e874dc5145edceeb0380a64a9cb667136\",\n",
      "  \"hash\": \"c774120b46f3b9cf87b1be082434893f558e64dbabc1f77055a9169b0a4f6410\",\n",
      "  \"version\": 2,\n",
      "  \"size\": 339,\n",
      "  \"vsize\": 177,\n",
      "  \"weight\": 708,\n",
      "  \"locktime\": 0,\n",
      "  \"vin\": [\n",
      "    {\n",
      "      \"txid\": \"9cef5178b6464d566532aad2510608a6c4c715490c7751b8d91387ba909905e6\",\n",
      "      \"vout\": 1,\n",
      "      \"scriptSig\": {\n",
      "        \"asm\": \"\",\n",
      "        \"hex\": \"\"\n",
      "      },\n",
      "      \"txinwitness\": [\n",
      "        \"304402203902507c229075f32eb6f9e2cc1c586219fcf993c12bc77724bf0492fd563043022024ff8a53a4d999f64793584aba73332db462b95e5eb35d7489dcd369129fa91201\",\n",
      "        \"025bdf02f6aeb3a5cbfdece604956a49571d823b8888f5c4d3ceb58e453c044e57\"\n",
      "      ],\n",
      "      \"sequence\": 4294967295\n",
      "    },\n",
      "    {\n",
      "      \"txid\": \"514c7ef5d1d94d6774753d78296a2b62b1b7f6e61cddbde6918bf7e243b536d9\",\n",
      "      \"vout\": 0,\n",
      "      \"scriptSig\": {\n",
      "        \"asm\": \"\",\n",
      "        \"hex\": \"\"\n",
      "      },\n",
      "      \"txinwitness\": [\n",
      "        \"30440220335e18eff0525006a03e78be8657e3addf6e2cb0b7b53f98ed4db32a30dd5de902206941d961dd0491706f5a4bc82cd245da4251c4943c09afb5ce4371933ff8022501\",\n",
      "        \"02c0947a47a59cb42316750ddd23d506d4c23ca997fbe40e9cb813970940501f4f\"\n",
      "      ],\n",
      "      \"sequence\": 4294967295\n",
      "    }\n",
      "  ],\n",
      "  \"vout\": [\n",
      "    {\n",
      "      \"value\": 0.50000000,\n",
      "      \"n\": 0,\n",
      "      \"scriptPubKey\": {\n",
      "        \"asm\": \"0 0cbd8eef39d742140b81cf2f7fbade71af58a182\",\n",
      "        \"hex\": \"00140cbd8eef39d742140b81cf2f7fbade71af58a182\",\n",
      "        \"reqSigs\": 1,\n",
      "        \"type\": \"witness_v0_keyhash\",\n",
      "        \"addresses\": [\n",
      "          \"bcrt1qpj7camee6appgzupeuhhlwk7wxh43gvz6u3shh\"\n",
      "        ]\n",
      "      }\n",
      "    }\n",
      "  ]\n",
      "}\n"
     ]
    }
   ],
   "source": [
    "mined_merch_child_txid = subprocess.getoutput(\"bitcoin-cli -regtest getrawtransaction \" + merch_child_txid)\n",
    "decoded = subprocess.getoutput(\"bitcoin-cli -regtest decoderawtransaction \" + mined_merch_child_txid)\n",
    "print(decoded)"
   ]
  },
  {
   "cell_type": "code",
   "execution_count": null,
   "metadata": {},
   "outputs": [],
   "source": []
  }
 ],
 "metadata": {
  "kernelspec": {
   "display_name": "Python 3",
   "language": "python",
   "name": "python3"
  },
  "language_info": {
   "codemirror_mode": {
    "name": "ipython",
    "version": 3
   },
   "file_extension": ".py",
   "mimetype": "text/x-python",
   "name": "python",
   "nbconvert_exporter": "python",
   "pygments_lexer": "ipython3",
   "version": "3.6.8"
  }
 },
 "nbformat": 4,
 "nbformat_minor": 2
}
