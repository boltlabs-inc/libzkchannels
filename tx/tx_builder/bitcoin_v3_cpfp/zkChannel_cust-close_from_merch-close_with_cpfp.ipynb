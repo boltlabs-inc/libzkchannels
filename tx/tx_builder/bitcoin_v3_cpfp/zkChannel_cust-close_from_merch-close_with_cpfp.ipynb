{
 "cells": [
  {
   "cell_type": "code",
   "execution_count": 2,
   "metadata": {
    "code_folding": [
     0,
     10,
     15,
     19
    ]
   },
   "outputs": [],
   "source": [
    "#\n",
    "import base58\n",
    "import binascii\n",
    "import ecdsa\n",
    "import hashlib\n",
    "import json\n",
    "import os\n",
    "import subprocess\n",
    "import time\n",
    "\n",
    "def dSHA256(data):\n",
    "    hash_1 = hashlib.sha256(data).digest()\n",
    "    hash_2 = hashlib.sha256(hash_1).digest()\n",
    "    return hash_2\n",
    "\n",
    "def hash160(s):\n",
    "    '''sha256 followed by ripemd160'''\n",
    "    return hashlib.new('ripemd160', hashlib.sha256(s).digest()).digest()\n",
    "\n",
    "def privkey_to_pubkey(privkey):\n",
    "    signing_key = ecdsa.SigningKey.from_string(privkey, curve=ecdsa.SECP256k1) # Don't forget to specify the curve\n",
    "    verifying_key = signing_key.get_verifying_key()\n",
    "\n",
    "    # Use this code block if the address you gave corresponds to the compressed public key\n",
    "    x_cor = bytes.fromhex(verifying_key.to_string().hex())[:32] # The first 32 bytes are the x coordinate\n",
    "    y_cor = bytes.fromhex(verifying_key.to_string().hex())[32:] # The last 32 bytes are the y coordinate\n",
    "    if int.from_bytes(y_cor, byteorder=\"big\", signed=True) % 2 == 0: # We need to turn the y_cor into a number.\n",
    "        public_key = bytes.fromhex(\"02\" + x_cor.hex())\n",
    "    else:\n",
    "        public_key = bytes.fromhex(\"03\" + x_cor.hex())\n",
    "    return public_key"
   ]
  },
  {
   "cell_type": "code",
   "execution_count": 3,
   "metadata": {
    "code_folding": [
     0
    ]
   },
   "outputs": [],
   "source": [
    "# Functions related to generating bitcoin addresses\n",
    "\n",
    "def encode_base58(s):\n",
    "    BASE58_ALPHABET = '123456789ABCDEFGHJKLMNPQRSTUVWXYZabcdefghijkmnopqrstuvwxyz'\n",
    "    count = 0\n",
    "    for c in s:  \n",
    "        if c == 0:\n",
    "            count += 1\n",
    "        else:\n",
    "            break\n",
    "    num = int.from_bytes(s, 'big')\n",
    "    prefix = '1' * count\n",
    "    result = ''\n",
    "    while num > 0:  \n",
    "        num, mod = divmod(num, 58)\n",
    "        result = BASE58_ALPHABET[mod] + result\n",
    "    return prefix + result\n",
    "\n",
    "def encode_base58_checksum(b):\n",
    "    return encode_base58(b + dSHA256(b)[:4])\n",
    "\n",
    "# https://en.bitcoin.it/wiki/Wallet_import_format\n",
    "def privkey_to_wif(privkey, compressed_pubkey, testnet):\n",
    "    if testnet:\n",
    "        prefix = b\"\\xEF\"\n",
    "    else:\n",
    "        prefix = b\"\\x80\"\n",
    "    \n",
    "    # if the privkey will correspond to a compressed public key\n",
    "    if compressed_pubkey: \n",
    "        extended = prefix + privkey + b\"\\x01\"\n",
    "    else:\n",
    "        extended = prefix + privkey \n",
    "        \n",
    "    extendedchecksum = extended + dSHA256(extended)[:4]\n",
    "    wif = encode_base58(extendedchecksum)\n",
    "    \n",
    "    return wif\n",
    "\n",
    "# https://learnmeabitcoin.com/guide/wif\n",
    "def wif_to_privkey(private_key_WIF):\n",
    "    private_key_full = base58.b58decode(private_key_WIF)\n",
    "    \n",
    "    # If the WIF encoding includes the optional \"01\" byte for compressed privKey,\n",
    "    # do not include it in the final output.\n",
    "    if len(private_key_full) == 38:\n",
    "        private_key = private_key_full[1:-5] \n",
    "        print(\"compressed pubkey\")\n",
    "    else:\n",
    "        private_key = private_key_full[1:-4] \n",
    "        print(\"not compressed pubkey\")\n",
    "    return private_key\n",
    "\n",
    "\n",
    "def pk_to_p2pkh(compressed, testnet):\n",
    "    '''Returns the address string'''\n",
    "    pk_hash = hash160(compressed)\n",
    "    if testnet:\n",
    "        prefix = b'\\x6f'\n",
    "    else:\n",
    "        prefix = b'\\x00'\n",
    "    return encode_base58_checksum(prefix + pk_hash)\n",
    "\n",
    "def pk_to_p2sh_p2wpkh(compressed, testnet):\n",
    "    pk_hash = hash160(compressed)\n",
    "    redeemScript = bytes.fromhex(f\"0014{pk_hash.hex()}\")\n",
    "    rs_hash = hash160(redeemScript)\n",
    "    if testnet:\n",
    "        prefix = b\"\\xc4\"\n",
    "    else:\n",
    "        prefix = b\"\\x05\"\n",
    "    return encode_base58_checksum(prefix + rs_hash)\n",
    "\n",
    "def wif_to_addresses(wif):\n",
    "#     wif = \"cUy9rC6wteKizfu1fgP2abKUWTkJxjqKp2fba91FkU332CFHo6ix\"\n",
    "    privkey = wif_to_privkey(wif)\n",
    "    public_key = privkey_to_pubkey(privkey)\n",
    "    p2pkh_address = pk_to_p2pkh(public_key, testnet = True)\n",
    "    p2sh_p2wpkh_address = pk_to_p2sh_p2wpkh(public_key, testnet = True)\n",
    "\n",
    "    print(\"WIF Private key: \" + wif)\n",
    "    print(\"Private key: \" + privkey.hex())\n",
    "    print(\"Public key: \" + public_key.hex())\n",
    "    print(\"Public key hash: \" + hash160(public_key).hex())\n",
    "    print(\"Address: \" + p2pkh_address)\n",
    "    print(\"Address: \" + p2sh_p2wpkh_address)\n",
    "    \n",
    "def privkey_to_addresses(privkey):\n",
    "    # privkey = bytes.fromhex(\"AF933A6C602069F1CBC85990DF087714D7E86DF0D0E48398B7D8953E1F03534A\")\n",
    "    public_key = privkey_to_pubkey(privkey)\n",
    "    p2pkh_address = pk_to_p2pkh(public_key, testnet = True)\n",
    "    p2sh_p2wpkh_address = pk_to_p2sh_p2wpkh(public_key, testnet = True)\n",
    "\n",
    "    print(\"Private key: \" + privkey.hex())\n",
    "    print(\"Public key: \" + public_key.hex())\n",
    "    print(\"Public key hash: \" + hash160(public_key).hex())\n",
    "    print(\"Address: \" + p2pkh_address)\n",
    "    print(\"Address: \" + p2sh_p2wpkh_address)"
   ]
  },
  {
   "cell_type": "markdown",
   "metadata": {},
   "source": [
    "# Merch-close with CPFP  --> Close-merch with CPFP"
   ]
  },
  {
   "cell_type": "markdown",
   "metadata": {},
   "source": [
    "Generate all the priv/public keys"
   ]
  },
  {
   "cell_type": "code",
   "execution_count": 4,
   "metadata": {
    "code_folding": []
   },
   "outputs": [],
   "source": [
    "# Generate example priv/pubkeys\n",
    "funding_privkey_hex = \"1111111111111111111111111111111100000000000000000000000000000000\"\n",
    "funding_pubkey_hex = privkey_to_pubkey(bytes.fromhex(funding_privkey_hex)).hex()\n",
    "\n",
    "change_privkey_hex = \"1111111111111111111111111111111111111111111111111111111111111111\"\n",
    "change_pubkey_hex = privkey_to_pubkey(bytes.fromhex(change_privkey_hex)).hex()\n",
    "\n",
    "merch_privkey_hex = \"3911111111111111111111111111111111111111111111111111111111111111\"\n",
    "merch_pubkey_hex = privkey_to_pubkey(bytes.fromhex(merch_privkey_hex)).hex()\n",
    "\n",
    "cust_privkey_hex = \"7911111111111111111111111111111111111111111111111111111111111111\"\n",
    "cust_pubkey_hex = privkey_to_pubkey(bytes.fromhex(cust_privkey_hex)).hex()\n",
    "\n",
    "cust_payout_privkey_hex = \"7711111111111111111111111111111111111111111111111111111111111111\"\n",
    "cust_payout_pubkey_hex = privkey_to_pubkey(bytes.fromhex(cust_payout_privkey_hex)).hex()\n",
    "\n",
    "merch_payout_privkey_hex = \"3711111111111111111111111111111111111111111111111111111111111111\"\n",
    "merch_payout_pubkey_hex = privkey_to_pubkey(bytes.fromhex(merch_payout_privkey_hex)).hex()\n",
    "\n",
    "merch_disp_privkey_hex = \"3111111111111111111111111111111111111111111111111111111111111111\"\n",
    "merch_disp_pubkey_hex = privkey_to_pubkey(bytes.fromhex(merch_disp_privkey_hex)).hex()\n",
    "\n",
    "revocation_secret_hex = \"4011111111111111111111111111111111111111111111111111111111111111\"\n",
    "RL = hashlib.sha256(bytes.fromhex(revocation_secret_hex)).digest()\n",
    "revocation_lock_hex = RL.hex()\n",
    "\n",
    "merch_cpfp_privkey_hex = \"2222222222222222222222222222222277777777777777777777777777777777\"\n",
    "merch_cpfp_pubkey_hex = privkey_to_pubkey(bytes.fromhex(merch_cpfp_privkey_hex)).hex()\n",
    "\n",
    "cust_cpfp_privkey_hex = \"3322222222222222222222222222222277777777777777777777777777777777\"\n",
    "cust_cpfp_pubkey_hex = privkey_to_pubkey(bytes.fromhex(merch_cpfp_privkey_hex)).hex()\n",
    "\n",
    "# merch_fee_privkey_hex = \"2222222222222222222222222222222266666666666666666666666666666666\"\n",
    "# merch_fee_pubkey_hex = privkey_to_pubkey(bytes.fromhex(merch_fee_privkey_hex)).hex()"
   ]
  },
  {
   "cell_type": "code",
   "execution_count": 6,
   "metadata": {
    "code_folding": []
   },
   "outputs": [],
   "source": [
    "# # cpfp priv/pubkeys\n",
    "# merch1_privkey_hex = \"0221111111111111111111111111111100000000000000000000000000000000\"\n",
    "# merch1_privkey = bytes.fromhex(merch1_privkey_hex)\n",
    "# merch1_pubkey = privkey_to_pubkey(merch1_privkey)\n",
    "\n",
    "# merch2_privkey_hex = \"2221111111111111111111111111111100000000000000000000000000000000\"\n",
    "# merch2_privkey = bytes.fromhex(merch2_privkey_hex)\n",
    "# merch2_pubkey = privkey_to_pubkey(merch2_privkey).hex()\n",
    "\n",
    "# merch3_privkey_hex = \"3311111111111111111111111111111100000000000000000000000000000000\"\n",
    "# merch3_privkey = bytes.fromhex(merch3_privkey_hex)\n",
    "# merch3_pubkey = privkey_to_pubkey(merch3_privkey).hex()"
   ]
  },
  {
   "cell_type": "markdown",
   "metadata": {},
   "source": [
    "### Start up regtest mode\n",
    "Delete any history so we are starting from scratch. <br>\n",
    "Mine 101 blocks so we can spend some btc."
   ]
  },
  {
   "cell_type": "code",
   "execution_count": 7,
   "metadata": {
    "code_folding": []
   },
   "outputs": [
    {
     "name": "stdout",
     "output_type": "stream",
     "text": [
      "blockcount: 101\n"
     ]
    }
   ],
   "source": [
    "# Make sure bitcoind is not already running\n",
    "os.system(\"bitcoin-cli -regtest stop\")\n",
    "time.sleep(2) \n",
    "\n",
    "# Delete any previous files to restart regtest\n",
    "os.system(\"rm -rfv $HOME/Library/Application\\ Support/Bitcoin/regtest/\")\n",
    "\n",
    "# start up bitcoind in regtest mode\n",
    "# os.system(\"bitcoind -regtest -daemon -minrelaytxfee=0\")\n",
    "os.system(\"bitcoind -regtest -daemon\")\n",
    "time.sleep(2)\n",
    "\n",
    "# generate 101 blocks so we can fund transactions\n",
    "os.system(\"bitcoin-cli -regtest generate 101\")\n",
    "blockcount = subprocess.getoutput(\"bitcoin-cli -regtest getblockcount\")\n",
    "\n",
    "print(\"blockcount: \" + str(blockcount))"
   ]
  },
  {
   "cell_type": "markdown",
   "metadata": {},
   "source": [
    "Generate base58 address for the escrow funder"
   ]
  },
  {
   "cell_type": "code",
   "execution_count": 8,
   "metadata": {},
   "outputs": [
    {
     "name": "stdout",
     "output_type": "stream",
     "text": [
      "Address: 2MuuVDMJqfh2J9iS3DtfUeU1tEfff1SNahi\n"
     ]
    }
   ],
   "source": [
    "# Generate p2sh-p2wpkh address to fund the escrow funder\n",
    "privkey = bytes.fromhex(funding_privkey_hex)\n",
    "public_key = privkey_to_pubkey(privkey)\n",
    "p2sh_p2wpkh_address = pk_to_p2sh_p2wpkh(public_key, testnet = True)\n",
    "\n",
    "# print(\"Private key: \" + privkey.hex())\n",
    "# print(\"Public key: \" + public_key.hex())\n",
    "print(\"Address: \" + p2sh_p2wpkh_address)"
   ]
  },
  {
   "cell_type": "markdown",
   "metadata": {},
   "source": [
    "### Send btc to the escrow funder"
   ]
  },
  {
   "cell_type": "code",
   "execution_count": 9,
   "metadata": {},
   "outputs": [
    {
     "name": "stdout",
     "output_type": "stream",
     "text": [
      "0627e0fa317d365148a89e8ef178723c6a6f1315be82713442d2d5978e0ebe85\n"
     ]
    }
   ],
   "source": [
    "txid_1 = subprocess.getoutput(\"bitcoin-cli -regtest sendtoaddress \" + p2sh_p2wpkh_address + \" 3.0\")\n",
    "print(txid_1)"
   ]
  },
  {
   "cell_type": "code",
   "execution_count": 10,
   "metadata": {},
   "outputs": [
    {
     "name": "stdout",
     "output_type": "stream",
     "text": [
      "index: 0\n"
     ]
    }
   ],
   "source": [
    "# Find which output index the btc was sent to\n",
    "raw_tx = subprocess.getoutput(\"bitcoin-cli -regtest getrawtransaction \" + txid_1)\n",
    "decoded = subprocess.getoutput(\"bitcoin-cli -regtest decoderawtransaction \" + raw_tx)\n",
    "d = json.loads(decoded)\n",
    "# print(decoded)\n",
    "\n",
    "if d[\"vout\"][0][\"scriptPubKey\"][\"addresses\"][0] == p2sh_p2wpkh_address:\n",
    "    index = 0\n",
    "else:\n",
    "    index = 1\n",
    "print(\"index: \" + str(index))"
   ]
  },
  {
   "cell_type": "code",
   "execution_count": 11,
   "metadata": {},
   "outputs": [],
   "source": [
    "os.system(\"bitcoin-cli -regtest generate 1\");"
   ]
  },
  {
   "cell_type": "markdown",
   "metadata": {},
   "source": [
    "## Create Funding tx"
   ]
  },
  {
   "cell_type": "code",
   "execution_count": 12,
   "metadata": {},
   "outputs": [
    {
     "name": "stdout",
     "output_type": "stream",
     "text": [
      "serialized funding tx:\n",
      "0200000000010185be0e8e97d5d242347182be15136f6a3c7278f18e9ea84851367d31fae027060000000017160014578dd1183845e18d42f90b1a9f3a464675ad2440ffffffff028058840c00000000220020666c6bfa88ba97c90cb04c7038d56b5854e71a4dd174d79b1260c822a14f791e40084e0500000000160014fc7250a211deddc70ee5a2738de5f07817351cef02483045022100e441f97c3d59d0a8b819f2b3c8a33cbd37baeddff8ae5cfdc3743e3bdb9e347b02206232d05f21d9b792ba9add2ae81be869cac915cee0a1350fdeb5558016bef8810121021d5c5194a62b272f98a7d8321e4b3a03add9d61d13a15a00123888b81850cee200000000\n",
      "\n",
      "funding txid:\n",
      "adb9d8dccf6193d43c58acfe0b761bc36b793239b17ef28973f5c70ae408ae8b\n"
     ]
    }
   ],
   "source": [
    "raw_escrow_tx = subprocess.getoutput(\"python funding_tx_with_changev2.py\" \n",
    "                        + \" --txid \" + txid_1\n",
    "                        + \" --index \" + str(index)\n",
    "                        + \" --input_amount_btc \" + \"3.0\"\n",
    "                        + \" --funding_privkey \" + funding_privkey_hex\n",
    "                        + \" --escrow_value_btc \" + \"2.1\"\n",
    "                        + \" --cust_pubkey \" + cust_pubkey_hex\n",
    "                        + \" --merch_pubkey \" + merch_pubkey_hex\n",
    "                        + \" --cust_change_value_btc \" + \"0.89\"\n",
    "                        + \" --cust_change_pubkey \" + change_pubkey_hex)\n",
    "print(\"serialized funding tx:\\n\" + raw_escrow_tx)\n",
    "\n",
    "# Broadcast funding tx\n",
    "escrow_txid = subprocess.getoutput(\"bitcoin-cli -regtest sendrawtransaction \" + raw_escrow_tx + \" true\")\n",
    "# \"true\" flag means we are okay with an 'absurdly' high tx fee\n",
    "\n",
    "print(\"\\nfunding txid:\\n\"+escrow_txid)"
   ]
  },
  {
   "cell_type": "code",
   "execution_count": 13,
   "metadata": {},
   "outputs": [],
   "source": [
    "os.system(\"bitcoin-cli -regtest generate 1\");"
   ]
  },
  {
   "cell_type": "markdown",
   "metadata": {},
   "source": [
    "#### Decode escrow funding transaction"
   ]
  },
  {
   "cell_type": "code",
   "execution_count": 14,
   "metadata": {
    "scrolled": false
   },
   "outputs": [],
   "source": [
    "# raw_escrow_tx1 = subprocess.getoutput(\"bitcoin-cli -regtest getrawtransaction \" + escrow_txid)\n",
    "# decoded = subprocess.getoutput(\"bitcoin-cli -regtest decoderawtransaction \" + raw_escrow_tx1)\n",
    "# print(decoded)"
   ]
  },
  {
   "cell_type": "markdown",
   "metadata": {},
   "source": [
    "## Merch-close with CPFP"
   ]
  },
  {
   "cell_type": "code",
   "execution_count": 15,
   "metadata": {},
   "outputs": [
    {
     "name": "stdout",
     "output_type": "stream",
     "text": [
      "merch close with cpfp tx:\n",
      "020000000001018bae08e40ac7f57389f27eb13932796bc31b760bfeac583cd49361cfdcd8b9ad0000000000ffffffff02c07fdc0b00000000220020c3fae9ae705465ac132b128c84fc011be28c21bff28e165f7cfb776dfbb117ff80969800000000001600141c26d37dce07c4505c165b93be1e6c408a30067a0400483045022100f776a43928526ea7dd10ad85bb278532599ceaf68774cc44d9e0c4f073c68a45022040f13c3cc2b6bb85a0f058e27ccaa0b9589f9255d08460ab2bebc59bd255c3ec01483045022100bffa60084bb22b3521ee2c55ced179c3edba5d856a17811ebb6092e78f01376402200c8eaa0fcce9b7aaa69009162ebeb85ef913985aa00f7e134b78a93d2bb6b2d20147522102f3d17ca1ac6dcf42b0297a71abb87f79dfa2c66278cbb99c1437e6570643ce902103fc43b44cd953c7b92726ebefe482a272538c7e40fdcde5994a62841525afa8d752ae00000000\n"
     ]
    }
   ],
   "source": [
    "merch_close_cpfp_tx = subprocess.getoutput(\"python merch_close_with_cpfp.py\"        \n",
    "                + \" --txid_str \" + escrow_txid\n",
    "                + \" --index \" + \"0\"\n",
    "                + \" --input_amount_btc \" + \"2.1\"\n",
    "                + \" --cust_privkey \" + cust_privkey_hex \n",
    "                + \" --merch_privkey \" + merch_privkey_hex\n",
    "                + \" --output_value_btc \" + \"1.99\"\n",
    "                + \" --merch_payout_pubkey \" + merch_payout_pubkey_hex   \n",
    "                + \" --to_self_delay \" + \"05cf\" # number of blocks to delay to-self output   \n",
    "                + \" --merch_cpfp_pubkey \" + merch_cpfp_pubkey_hex   \n",
    "                + \" --merch_cpfp_value_btc \" + \"0.1\") # number of blocks to delay to-self output       \n",
    "print(\"merch close with cpfp tx:\\n\" + merch_close_cpfp_tx)"
   ]
  },
  {
   "cell_type": "markdown",
   "metadata": {},
   "source": [
    "This tx could be broadcast by itself and it would be a valid tx (cell below). If the fee was too small, we can effectively bump up the fee by creating a 'child' tx that spends from it"
   ]
  },
  {
   "cell_type": "code",
   "execution_count": 16,
   "metadata": {},
   "outputs": [
    {
     "name": "stdout",
     "output_type": "stream",
     "text": [
      "cf2759b9d6db8d8ddb5b388c4cbb7b24da8f8a70f035a10d52bfeb93c1559886\n"
     ]
    }
   ],
   "source": [
    "merch_close_cpfp_txid = subprocess.getoutput(\"bitcoin-cli -regtest sendrawtransaction \" + merch_close_cpfp_tx)\n",
    "print(merch_close_cpfp_txid) "
   ]
  },
  {
   "cell_type": "code",
   "execution_count": 30,
   "metadata": {},
   "outputs": [],
   "source": [
    "os.system(\"bitcoin-cli -regtest generate 1\");"
   ]
  },
  {
   "cell_type": "code",
   "execution_count": 18,
   "metadata": {},
   "outputs": [
    {
     "name": "stdout",
     "output_type": "stream",
     "text": [
      "{\n",
      "  \"txid\": \"cf2759b9d6db8d8ddb5b388c4cbb7b24da8f8a70f035a10d52bfeb93c1559886\",\n",
      "  \"hash\": \"34783cada9eacfa2811610160c0d8770a5991e283f9257e60a7c39ee41384e87\",\n",
      "  \"version\": 2,\n",
      "  \"size\": 347,\n",
      "  \"vsize\": 181,\n",
      "  \"weight\": 722,\n",
      "  \"locktime\": 0,\n",
      "  \"vin\": [\n",
      "    {\n",
      "      \"txid\": \"adb9d8dccf6193d43c58acfe0b761bc36b793239b17ef28973f5c70ae408ae8b\",\n",
      "      \"vout\": 0,\n",
      "      \"scriptSig\": {\n",
      "        \"asm\": \"\",\n",
      "        \"hex\": \"\"\n",
      "      },\n",
      "      \"txinwitness\": [\n",
      "        \"\",\n",
      "        \"3045022100f776a43928526ea7dd10ad85bb278532599ceaf68774cc44d9e0c4f073c68a45022040f13c3cc2b6bb85a0f058e27ccaa0b9589f9255d08460ab2bebc59bd255c3ec01\",\n",
      "        \"3045022100bffa60084bb22b3521ee2c55ced179c3edba5d856a17811ebb6092e78f01376402200c8eaa0fcce9b7aaa69009162ebeb85ef913985aa00f7e134b78a93d2bb6b2d201\",\n",
      "        \"522102f3d17ca1ac6dcf42b0297a71abb87f79dfa2c66278cbb99c1437e6570643ce902103fc43b44cd953c7b92726ebefe482a272538c7e40fdcde5994a62841525afa8d752ae\"\n",
      "      ],\n",
      "      \"sequence\": 4294967295\n",
      "    }\n",
      "  ],\n",
      "  \"vout\": [\n",
      "    {\n",
      "      \"value\": 1.99000000,\n",
      "      \"n\": 0,\n",
      "      \"scriptPubKey\": {\n",
      "        \"asm\": \"0 c3fae9ae705465ac132b128c84fc011be28c21bff28e165f7cfb776dfbb117ff\",\n",
      "        \"hex\": \"0020c3fae9ae705465ac132b128c84fc011be28c21bff28e165f7cfb776dfbb117ff\",\n",
      "        \"reqSigs\": 1,\n",
      "        \"type\": \"witness_v0_scripthash\",\n",
      "        \"addresses\": [\n",
      "          \"bcrt1qc0awntns23j6cyetz2xgflqpr03gcgdl728pvhmuldmkm7a3zllsja46jn\"\n",
      "        ]\n",
      "      }\n",
      "    },\n",
      "    {\n",
      "      \"value\": 0.10000000,\n",
      "      \"n\": 1,\n",
      "      \"scriptPubKey\": {\n",
      "        \"asm\": \"0 1c26d37dce07c4505c165b93be1e6c408a30067a\",\n",
      "        \"hex\": \"00141c26d37dce07c4505c165b93be1e6c408a30067a\",\n",
      "        \"reqSigs\": 1,\n",
      "        \"type\": \"witness_v0_keyhash\",\n",
      "        \"addresses\": [\n",
      "          \"bcrt1qrsndxlwwqlz9qhqktwfmu8nvgz9rqpn6qdjx90\"\n",
      "        ]\n",
      "      }\n",
      "    }\n",
      "  ]\n",
      "}\n"
     ]
    }
   ],
   "source": [
    "mined_merch_close_cpfp_tx = subprocess.getoutput(\"bitcoin-cli -regtest getrawtransaction \" + merch_close_cpfp_txid)\n",
    "decoded = subprocess.getoutput(\"bitcoin-cli -regtest decoderawtransaction \" + mined_merch_close_cpfp_tx)\n",
    "print(decoded)"
   ]
  },
  {
   "cell_type": "markdown",
   "metadata": {},
   "source": [
    "## Cust-close with CPFP from Merch-Close with CPFP"
   ]
  },
  {
   "cell_type": "code",
   "execution_count": 40,
   "metadata": {},
   "outputs": [
    {
     "name": "stdout",
     "output_type": "stream",
     "text": [
      "cust close with cpfp tx:\n",
      "02000000000101869855c193ebbf520da135f0708a8fda247bbb4c8c385bdb8d8ddbd6b95927cf0000000000ffffffff0400c63e050000000022002067cb20e705c4eb4363194a74d2f743afc1c9ee3cd741d45e21268b16add04f8b00e1f50500000000160014d4354803d10e77eccfc3bf06c152ae694d05d3810000000000000000436a41f8345a21a55dc665b65c8dcfb49488b8e4f337d5c9bb843603f7222a892ce94103195e272df2310ded35f9958fd0c2847bf73b5b429a716c005d465009bd768641e00f9700000000001600145d6f6add4b70012131dbb8f0a7b067b70ec6a76f050047304402205ab90b868bb788ed74e683c0134da886f113b20514b035116f727a31b665b1020220459df23c08ef1be33e58430e3d0ca6962167be9264638a36795566374f41ed1201483045022100b4a7ad03557716f1fedad6f301e173751013845afed2a836ecfa3c02e162471402206c08f6dbc204ab3aa3e876e72b6be244d5c5d61a862f02af43f5c4ea370f29610101017263522102f3d17ca1ac6dcf42b0297a71abb87f79dfa2c66278cbb99c1437e6570643ce902103fc43b44cd953c7b92726ebefe482a272538c7e40fdcde5994a62841525afa8d752ae6702cf05b275210342da23a1de903cd7a141a99b5e8051abfcd4d2d1b3c2112bac5c8997d9f12a00ac6800000000\n"
     ]
    }
   ],
   "source": [
    "cust_close_cpfp_tx = subprocess.getoutput(\"python cust_close_with_cpfp.py\"        \n",
    "                + \" --spend_from \" + \"merch-close\"\n",
    "                + \" --txid_str \" + merch_close_cpfp_txid\n",
    "                + \" --index \" + \"0\"\n",
    "                + \" --input_amount_btc \" + \"1.99\"\n",
    "                + \" --cust_privkey \" + cust_privkey_hex \n",
    "                + \" --merch_privkey \" + merch_privkey_hex                                           \n",
    "                + \" --cust_script_value_btc \" + \"0.88\"\n",
    "                + \" --cust_payout_pubkey \" + cust_payout_pubkey_hex\n",
    "                + \" --to_self_delay \" + \"05cf\"\n",
    "                + \" --merch_payout_value_btc \" + \"1\"\n",
    "                + \" --merch_payout_pubkey \" + merch_payout_pubkey_hex\n",
    "                + \" --revocation_lock \" + revocation_lock_hex\n",
    "                + \" --merch_dispute_pubkey \" + merch_disp_pubkey_hex\n",
    "                + \" --cust_cpfp_value_btc \" + \"0.099\"\n",
    "                + \" --cust_cpfp_pubkey \" + cust_pubkey_hex)\n",
    "                                          \n",
    "print(\"cust close with cpfp tx:\\n\" + cust_close_cpfp_tx)"
   ]
  },
  {
   "cell_type": "code",
   "execution_count": 41,
   "metadata": {},
   "outputs": [
    {
     "name": "stdout",
     "output_type": "stream",
     "text": [
      "5214c069e0223824f2f782aa204932d34607eb7b9531870f7e1d95437ffb661f\n"
     ]
    }
   ],
   "source": [
    "cust_close_cpfp_txid = subprocess.getoutput(\"bitcoin-cli -regtest sendrawtransaction \" + cust_close_cpfp_tx)\n",
    "print(cust_close_cpfp_txid) "
   ]
  },
  {
   "cell_type": "code",
   "execution_count": 42,
   "metadata": {},
   "outputs": [],
   "source": [
    "os.system(\"bitcoin-cli -regtest generate 1\");"
   ]
  },
  {
   "cell_type": "code",
   "execution_count": 43,
   "metadata": {},
   "outputs": [
    {
     "name": "stdout",
     "output_type": "stream",
     "text": [
      "{\n",
      "  \"txid\": \"5214c069e0223824f2f782aa204932d34607eb7b9531870f7e1d95437ffb661f\",\n",
      "  \"hash\": \"e013247c8a53704423e57d1845980da7083c17b5424e84339134751799936e06\",\n",
      "  \"version\": 2,\n",
      "  \"size\": 498,\n",
      "  \"vsize\": 299,\n",
      "  \"weight\": 1194,\n",
      "  \"locktime\": 0,\n",
      "  \"vin\": [\n",
      "    {\n",
      "      \"txid\": \"cf2759b9d6db8d8ddb5b388c4cbb7b24da8f8a70f035a10d52bfeb93c1559886\",\n",
      "      \"vout\": 0,\n",
      "      \"scriptSig\": {\n",
      "        \"asm\": \"\",\n",
      "        \"hex\": \"\"\n",
      "      },\n",
      "      \"txinwitness\": [\n",
      "        \"\",\n",
      "        \"304402205ab90b868bb788ed74e683c0134da886f113b20514b035116f727a31b665b1020220459df23c08ef1be33e58430e3d0ca6962167be9264638a36795566374f41ed1201\",\n",
      "        \"3045022100b4a7ad03557716f1fedad6f301e173751013845afed2a836ecfa3c02e162471402206c08f6dbc204ab3aa3e876e72b6be244d5c5d61a862f02af43f5c4ea370f296101\",\n",
      "        \"01\",\n",
      "        \"63522102f3d17ca1ac6dcf42b0297a71abb87f79dfa2c66278cbb99c1437e6570643ce902103fc43b44cd953c7b92726ebefe482a272538c7e40fdcde5994a62841525afa8d752ae6702cf05b275210342da23a1de903cd7a141a99b5e8051abfcd4d2d1b3c2112bac5c8997d9f12a00ac68\"\n",
      "      ],\n",
      "      \"sequence\": 4294967295\n",
      "    }\n",
      "  ],\n",
      "  \"vout\": [\n",
      "    {\n",
      "      \"value\": 0.88000000,\n",
      "      \"n\": 0,\n",
      "      \"scriptPubKey\": {\n",
      "        \"asm\": \"0 67cb20e705c4eb4363194a74d2f743afc1c9ee3cd741d45e21268b16add04f8b\",\n",
      "        \"hex\": \"002067cb20e705c4eb4363194a74d2f743afc1c9ee3cd741d45e21268b16add04f8b\",\n",
      "        \"reqSigs\": 1,\n",
      "        \"type\": \"witness_v0_scripthash\",\n",
      "        \"addresses\": [\n",
      "          \"bcrt1qvl9jpec9cn45xcceff6d9a6r4lqunm3u6aqagh3py693dtwsf79sdged8r\"\n",
      "        ]\n",
      "      }\n",
      "    },\n",
      "    {\n",
      "      \"value\": 1.00000000,\n",
      "      \"n\": 1,\n",
      "      \"scriptPubKey\": {\n",
      "        \"asm\": \"0 d4354803d10e77eccfc3bf06c152ae694d05d381\",\n",
      "        \"hex\": \"0014d4354803d10e77eccfc3bf06c152ae694d05d381\",\n",
      "        \"reqSigs\": 1,\n",
      "        \"type\": \"witness_v0_keyhash\",\n",
      "        \"addresses\": [\n",
      "          \"bcrt1q6s65sq73pem7en7rhurvz54wd9xst5upjhlvwj\"\n",
      "        ]\n",
      "      }\n",
      "    },\n",
      "    {\n",
      "      \"value\": 0.00000000,\n",
      "      \"n\": 2,\n",
      "      \"scriptPubKey\": {\n",
      "        \"asm\": \"OP_RETURN f8345a21a55dc665b65c8dcfb49488b8e4f337d5c9bb843603f7222a892ce94103195e272df2310ded35f9958fd0c2847bf73b5b429a716c005d465009bd768641\",\n",
      "        \"hex\": \"6a41f8345a21a55dc665b65c8dcfb49488b8e4f337d5c9bb843603f7222a892ce94103195e272df2310ded35f9958fd0c2847bf73b5b429a716c005d465009bd768641\",\n",
      "        \"type\": \"nulldata\"\n",
      "      }\n",
      "    },\n",
      "    {\n",
      "      \"value\": 0.09900000,\n",
      "      \"n\": 3,\n",
      "      \"scriptPubKey\": {\n",
      "        \"asm\": \"0 5d6f6add4b70012131dbb8f0a7b067b70ec6a76f\",\n",
      "        \"hex\": \"00145d6f6add4b70012131dbb8f0a7b067b70ec6a76f\",\n",
      "        \"reqSigs\": 1,\n",
      "        \"type\": \"witness_v0_keyhash\",\n",
      "        \"addresses\": [\n",
      "          \"bcrt1qt4hk4h2twqqjzvwmhrc20vr8ku8vdfm0c55m49\"\n",
      "        ]\n",
      "      }\n",
      "    }\n",
      "  ]\n",
      "}\n"
     ]
    }
   ],
   "source": [
    "mined_cust_close_cpfp_tx = subprocess.getoutput(\"bitcoin-cli -regtest getrawtransaction \" + cust_close_cpfp_txid)\n",
    "decoded = subprocess.getoutput(\"bitcoin-cli -regtest decoderawtransaction \" + mined_cust_close_cpfp_tx)\n",
    "print(decoded)"
   ]
  },
  {
   "cell_type": "code",
   "execution_count": null,
   "metadata": {},
   "outputs": [],
   "source": []
  }
 ],
 "metadata": {
  "kernelspec": {
   "display_name": "Python 3",
   "language": "python",
   "name": "python3"
  },
  "language_info": {
   "codemirror_mode": {
    "name": "ipython",
    "version": 3
   },
   "file_extension": ".py",
   "mimetype": "text/x-python",
   "name": "python",
   "nbconvert_exporter": "python",
   "pygments_lexer": "ipython3",
   "version": "3.6.8"
  }
 },
 "nbformat": 4,
 "nbformat_minor": 2
}
