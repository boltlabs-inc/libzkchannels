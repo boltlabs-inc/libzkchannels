{
 "cells": [
  {
   "cell_type": "code",
   "execution_count": 1,
   "metadata": {
    "code_folding": []
   },
   "outputs": [],
   "source": [
    "import base58\n",
    "import binascii\n",
    "import ecdsa\n",
    "import hashlib\n",
    "import json\n",
    "import os\n",
    "import subprocess\n",
    "import time\n",
    "\n",
    "def dSHA256(data):\n",
    "    hash_1 = hashlib.sha256(data).digest()\n",
    "    hash_2 = hashlib.sha256(hash_1).digest()\n",
    "    return hash_2\n",
    "\n",
    "def hash160(s):\n",
    "    '''sha256 followed by ripemd160'''\n",
    "    return hashlib.new('ripemd160', hashlib.sha256(s).digest()).digest()\n",
    "\n",
    "def privkey_to_pubkey(privkey):\n",
    "    signing_key = ecdsa.SigningKey.from_string(privkey, curve=ecdsa.SECP256k1) # Don't forget to specify the curve\n",
    "    verifying_key = signing_key.get_verifying_key()\n",
    "\n",
    "    # Use this code block if the address you gave corresponds to the compressed public key\n",
    "    x_cor = bytes.fromhex(verifying_key.to_string().hex())[:32] # The first 32 bytes are the x coordinate\n",
    "    y_cor = bytes.fromhex(verifying_key.to_string().hex())[32:] # The last 32 bytes are the y coordinate\n",
    "    if int.from_bytes(y_cor, byteorder=\"big\", signed=True) % 2 == 0: # We need to turn the y_cor into a number.\n",
    "        public_key = bytes.fromhex(\"02\" + x_cor.hex())\n",
    "    else:\n",
    "        public_key = bytes.fromhex(\"03\" + x_cor.hex())\n",
    "    return public_key"
   ]
  },
  {
   "cell_type": "code",
   "execution_count": 2,
   "metadata": {},
   "outputs": [],
   "source": [
    "# Functions related to generating bitcoin addresses\n",
    "\n",
    "def encode_base58(s):\n",
    "    BASE58_ALPHABET = '123456789ABCDEFGHJKLMNPQRSTUVWXYZabcdefghijkmnopqrstuvwxyz'\n",
    "    count = 0\n",
    "    for c in s:  \n",
    "        if c == 0:\n",
    "            count += 1\n",
    "        else:\n",
    "            break\n",
    "    num = int.from_bytes(s, 'big')\n",
    "    prefix = '1' * count\n",
    "    result = ''\n",
    "    while num > 0:  \n",
    "        num, mod = divmod(num, 58)\n",
    "        result = BASE58_ALPHABET[mod] + result\n",
    "    return prefix + result\n",
    "\n",
    "def encode_base58_checksum(b):\n",
    "    return encode_base58(b + dSHA256(b)[:4])\n",
    "\n",
    "# https://en.bitcoin.it/wiki/Wallet_import_format\n",
    "def privkey_to_wif(privkey, compressed_pubkey, testnet):\n",
    "    if testnet:\n",
    "        prefix = b\"\\xEF\"\n",
    "    else:\n",
    "        prefix = b\"\\x80\"\n",
    "    \n",
    "    # if the privkey will correspond to a compressed public key\n",
    "    if compressed_pubkey: \n",
    "        extended = prefix + privkey + b\"\\x01\"\n",
    "    else:\n",
    "        extended = prefix + privkey \n",
    "        \n",
    "    extendedchecksum = extended + dSHA256(extended)[:4]\n",
    "    wif = encode_base58(extendedchecksum)\n",
    "    \n",
    "    return wif\n",
    "\n",
    "# https://learnmeabitcoin.com/guide/wif\n",
    "def wif_to_privkey(private_key_WIF):\n",
    "    private_key_full = base58.b58decode(private_key_WIF)\n",
    "    \n",
    "    # If the WIF encoding includes the optional \"01\" byte for compressed privKey,\n",
    "    # do not include it in the final output.\n",
    "    if len(private_key_full) == 38:\n",
    "        private_key = private_key_full[1:-5] \n",
    "        print(\"compressed pubkey\")\n",
    "    else:\n",
    "        private_key = private_key_full[1:-4] \n",
    "        print(\"not compressed pubkey\")\n",
    "    return private_key\n",
    "\n",
    "\n",
    "def pk_to_p2pkh(compressed, testnet):\n",
    "    '''Returns the address string'''\n",
    "    pk_hash = hash160(compressed)\n",
    "    if testnet:\n",
    "        prefix = b'\\x6f'\n",
    "    else:\n",
    "        prefix = b'\\x00'\n",
    "    return encode_base58_checksum(prefix + pk_hash)\n",
    "\n",
    "def pk_to_p2sh_p2wpkh(compressed, testnet):\n",
    "    pk_hash = hash160(compressed)\n",
    "    redeemScript = bytes.fromhex(f\"0014{pk_hash.hex()}\")\n",
    "    rs_hash = hash160(redeemScript)\n",
    "    if testnet:\n",
    "        prefix = b\"\\xc4\"\n",
    "    else:\n",
    "        prefix = b\"\\x05\"\n",
    "    return encode_base58_checksum(prefix + rs_hash)\n",
    "\n",
    "def wif_to_addresses(wif):\n",
    "#     wif = \"cUy9rC6wteKizfu1fgP2abKUWTkJxjqKp2fba91FkU332CFHo6ix\"\n",
    "    privkey = wif_to_privkey(wif)\n",
    "    public_key = privkey_to_pubkey(privkey)\n",
    "    p2pkh_address = pk_to_p2pkh(public_key, testnet = True)\n",
    "    p2sh_p2wpkh_address = pk_to_p2sh_p2wpkh(public_key, testnet = True)\n",
    "\n",
    "    print(\"WIF Private key: \" + wif)\n",
    "    print(\"Private key: \" + privkey.hex())\n",
    "    print(\"Public key: \" + public_key.hex())\n",
    "    print(\"Public key hash: \" + hash160(public_key).hex())\n",
    "    print(\"Address: \" + p2pkh_address)\n",
    "    print(\"Address: \" + p2sh_p2wpkh_address)\n",
    "    \n",
    "def privkey_to_addresses(privkey):\n",
    "    # privkey = bytes.fromhex(\"AF933A6C602069F1CBC85990DF087714D7E86DF0D0E48398B7D8953E1F03534A\")\n",
    "    public_key = privkey_to_pubkey(privkey)\n",
    "    p2pkh_address = pk_to_p2pkh(public_key, testnet = True)\n",
    "    p2sh_p2wpkh_address = pk_to_p2sh_p2wpkh(public_key, testnet = True)\n",
    "\n",
    "    print(\"Private key: \" + privkey.hex())\n",
    "    print(\"Public key: \" + public_key.hex())\n",
    "    print(\"Public key hash: \" + hash160(public_key).hex())\n",
    "    print(\"Address: \" + p2pkh_address)\n",
    "    print(\"Address: \" + p2sh_p2wpkh_address)"
   ]
  },
  {
   "cell_type": "markdown",
   "metadata": {},
   "source": [
    "# Bitcoin core regtest tx tester\n",
    "This notebook will start up bitcoind in regtest mode, create transactions using python scripts, and broadcast them to validate that they work. Four transactions are tested here:<br><br>\n",
    "\n",
    "- tx1 initial tx to fund customer. 1 output \n",
    "    - Send 11.3 btc to a P2SH-P2WPKH address. This will be used to fund the customer.\n",
    "- tx2 funding tx with change. 2 outputs\n",
    "    - 10.2 btc to an escrow (2-of-2 multisig) \n",
    "    - 1 btc to a change address\n",
    "- tx3 merch close. 1 output\n",
    "    - 10.1 btc to p2wsh with two ways to spend from it:\n",
    "        - 2 of 2 multisig signed by cust_pk and merch_pk (cust-close-tx)\n",
    "        - to_self_delay to merch_close_pk (merch-claim-tx)"
   ]
  },
  {
   "cell_type": "markdown",
   "metadata": {},
   "source": [
    "Funding private key is used to fund the escrow tx. <br> \n",
    "Merch private key and Cust private key are used to generate the pubkeys in the escrow tx. <br>\n",
    "The Cust private key is also used for the P2WPKH change output."
   ]
  },
  {
   "cell_type": "code",
   "execution_count": 3,
   "metadata": {},
   "outputs": [],
   "source": [
    "funding_privkey_hex = \"1111111111111111111111111111111111111111111111111111111111111111\"\n",
    "funding_pubkey_hex = privkey_to_pubkey(bytes.fromhex(funding_privkey_hex)).hex()\n",
    "\n",
    "merch_privkey_hex = \"2111111111111111111111111111111111111111111111111111111111111111\"\n",
    "merch_pubkey_hex = privkey_to_pubkey(bytes.fromhex(merch_privkey_hex)).hex()\n",
    "\n",
    "cust_privkey_hex = \"3111111111111111111111111111111111111111111111111111111111111111\"\n",
    "cust_pubkey_hex = privkey_to_pubkey(bytes.fromhex(cust_privkey_hex)).hex()\n",
    "\n",
    "change_privkey_hex = \"4111111111111111111111111111111111111111111111111111111111111111\"\n",
    "change_pubkey_hex = privkey_to_pubkey(bytes.fromhex(change_privkey_hex)).hex()\n",
    "\n",
    "merch_close_privkey_hex = \"5111111111111111111111111111111111111111111111111111111111111111\"\n",
    "merch_close_pubkey_hex = privkey_to_pubkey(bytes.fromhex(merch_close_privkey_hex)).hex()"
   ]
  },
  {
   "cell_type": "markdown",
   "metadata": {},
   "source": [
    "Start up regtest mode, delete any history so we are starting from scratch.\n",
    "Mine 101 blocks"
   ]
  },
  {
   "cell_type": "code",
   "execution_count": 4,
   "metadata": {
    "code_folding": []
   },
   "outputs": [
    {
     "name": "stdout",
     "output_type": "stream",
     "text": [
      "blockcount: 101\n"
     ]
    }
   ],
   "source": [
    "# Make sure bitcoind is not already running\n",
    "os.system(\"bitcoin-cli -regtest stop\")\n",
    "time.sleep(1.5) \n",
    "\n",
    "# Delete any previous files to restart regtest\n",
    "os.system(\"rm -rfv $HOME/Library/Application\\ Support/Bitcoin/regtest/\")\n",
    "\n",
    "# start up bitcoind in regtest mode\n",
    "os.system(\"bitcoind -regtest -daemon\")\n",
    "time.sleep(1.5)\n",
    "\n",
    "# generate 101 blocks so we can fund transactions\n",
    "os.system(\"bitcoin-cli -regtest generate 101\")\n",
    "blockcount = subprocess.getoutput(\"bitcoin-cli -regtest getblockcount\")\n",
    "\n",
    "print(\"blockcount: \" + str(blockcount))"
   ]
  },
  {
   "cell_type": "markdown",
   "metadata": {},
   "source": [
    "Generate base58 address for the escrow funder"
   ]
  },
  {
   "cell_type": "code",
   "execution_count": 5,
   "metadata": {},
   "outputs": [
    {
     "name": "stdout",
     "output_type": "stream",
     "text": [
      "Address: 2NEp346GsvyPAu3X9oKGjrzLXc8vw8CqG7T\n"
     ]
    }
   ],
   "source": [
    "# Generate p2sh-p2wpkh address to fund the escrow funder\n",
    "privkey = bytes.fromhex(funding_privkey_hex)\n",
    "public_key = privkey_to_pubkey(privkey)\n",
    "p2sh_p2wpkh_address = pk_to_p2sh_p2wpkh(public_key, testnet = True)\n",
    "\n",
    "# print(\"Private key: \" + privkey.hex())\n",
    "# print(\"Public key: \" + public_key.hex())\n",
    "print(\"Address: \" + p2sh_p2wpkh_address)"
   ]
  },
  {
   "cell_type": "markdown",
   "metadata": {},
   "source": [
    "Send btc to the escrow funder"
   ]
  },
  {
   "cell_type": "code",
   "execution_count": 6,
   "metadata": {},
   "outputs": [
    {
     "name": "stdout",
     "output_type": "stream",
     "text": [
      "a70d6a7978107782995aeef41e0227bc5d3c9e5a0a17ede9d1202f1c94a49f53\n"
     ]
    }
   ],
   "source": [
    "txid_1 = subprocess.getoutput(\"bitcoin-cli -regtest sendtoaddress \" + p2sh_p2wpkh_address + \" 11.3\")\n",
    "print(txid_1)"
   ]
  },
  {
   "cell_type": "code",
   "execution_count": 7,
   "metadata": {},
   "outputs": [
    {
     "name": "stdout",
     "output_type": "stream",
     "text": [
      "index: 1\n"
     ]
    }
   ],
   "source": [
    "# Find which output index the btc was sent to\n",
    "raw_tx = subprocess.getoutput(\"bitcoin-cli -regtest getrawtransaction \" + txid_1)\n",
    "decoded = subprocess.getoutput(\"bitcoin-cli -regtest decoderawtransaction \" + raw_tx)\n",
    "d = json.loads(decoded)\n",
    "# print(decoded)\n",
    "\n",
    "if d[\"vout\"][0][\"scriptPubKey\"][\"addresses\"][0] == p2sh_p2wpkh_address:\n",
    "    index = 0\n",
    "else:\n",
    "    index = 1\n",
    "print(\"index: \" + str(index))"
   ]
  },
  {
   "cell_type": "code",
   "execution_count": 8,
   "metadata": {},
   "outputs": [],
   "source": [
    "os.system(\"bitcoin-cli -regtest generate 1\");"
   ]
  },
  {
   "cell_type": "markdown",
   "metadata": {},
   "source": [
    "Generate raw escrow funding transaction"
   ]
  },
  {
   "cell_type": "code",
   "execution_count": 9,
   "metadata": {},
   "outputs": [
    {
     "name": "stdout",
     "output_type": "stream",
     "text": [
      "02000000000101539fa4941c2f20d1e9ed170a5a9e3c5dbc27021ef4ee5a9982771078796a0da70100000017160014fc7250a211deddc70ee5a2738de5f07817351cefffffffff02fff6cb3c000000002200201f3abc4d03a3b61defffe4d163f25fcd0edc96f352ed1324385dc1ce28debd0200e1f50500000000160014bb524cfc4313630bdd51106c1a1b1fb58a3cea3c02483045022100cf3e1dd23f336bab63b9a9f7738592e172a270765c3172bfb352e7cc2a41f2560220663eca88758ea0c08f24988ce90d2faeedb78691dd150aaad840f5c87235111b0121034f355bdcb7cc0af728ef3cceb9615d90684bb5b2ca5f859ab0f0b704075871aa00000000\n"
     ]
    }
   ],
   "source": [
    "raw_escrow_tx = subprocess.getoutput(\"python funding_tx_with_change.py\" \n",
    "                        + \" --funding_privkey \" + funding_privkey_hex\n",
    "                        + \" --txid \" + txid_1\n",
    "                        + \" --index \" + str(index)\n",
    "                        + \" --amount_btc \" + \"11.3\"\n",
    "                        + \" --merch_pubkey \" + merch_pubkey_hex\n",
    "                        + \" --cust_pubkey \" + cust_pubkey_hex\n",
    "                        + \" --change_pubkey \" + change_pubkey_hex\n",
    "                        + \" --escrow_btc \" + \"10.2\"\n",
    "                        + \" --change_btc \" + \"1\")\n",
    "print(raw_escrow_tx)"
   ]
  },
  {
   "cell_type": "markdown",
   "metadata": {},
   "source": [
    "Broadcast escrow funding transaction"
   ]
  },
  {
   "cell_type": "code",
   "execution_count": 10,
   "metadata": {},
   "outputs": [
    {
     "name": "stdout",
     "output_type": "stream",
     "text": [
      "5eb0c50e6f725b88507cda84f339aba539bc99853436db610d6a476a207f82d9\n"
     ]
    }
   ],
   "source": [
    "escrow_txid = subprocess.getoutput(\"bitcoin-cli -regtest sendrawtransaction \" + raw_escrow_tx + \" true\")\n",
    "# \"true\" flag means we are okay with absurdly high tx fee\n",
    "print(escrow_txid)"
   ]
  },
  {
   "cell_type": "code",
   "execution_count": 11,
   "metadata": {
    "scrolled": false
   },
   "outputs": [],
   "source": [
    "raw_escrow_tx1 = subprocess.getoutput(\"bitcoin-cli -regtest getrawtransaction \" + escrow_txid)\n",
    "decoded = subprocess.getoutput(\"bitcoin-cli -regtest decoderawtransaction \" + raw_escrow_tx1)\n",
    "# print(decoded)"
   ]
  },
  {
   "cell_type": "code",
   "execution_count": 12,
   "metadata": {},
   "outputs": [],
   "source": [
    "os.system(\"bitcoin-cli -regtest generate 1\");"
   ]
  },
  {
   "cell_type": "markdown",
   "metadata": {},
   "source": [
    "Create transaction spending from the change output of the escrow transaction"
   ]
  },
  {
   "cell_type": "code",
   "execution_count": 13,
   "metadata": {},
   "outputs": [
    {
     "name": "stdout",
     "output_type": "stream",
     "text": [
      "02000000000101d9827f206a476a0d61db36348599bc39a5ab39f384da7c50885b726f0ec5b05e0000000000ffffffff018060333c000000002200204de4a2361c5f251e23b9aa799012a9c94131ab51ec4be0e2a9857125c375e19d04004730440220376822e162fbd4536e8322939e822f258473531a3f605a14d237a0b34891706402201d0e5c11eb0d43e09b036102aff7db6f368895f3901767e65628f958aaf524ff01483045022100bc85eddf9b5348f779d6a48835935b3bfc7ee4260babde887d18ec4ee2c64101022027fc7b6155a8a677194541ddb73a46b2477508c4947aeb7c5e4b9145df81683701475221024596d7b33733c28101dbc6c85901dffaed0cdac63ab0b2ea141217d1990ad4b1210253be79afe84fd9342c1f52024379b6da6299ea98844aee23838e8e678a765f7c52ae00000000\n"
     ]
    }
   ],
   "source": [
    "raw_merch_close_tx = subprocess.getoutput(\"python merch_close.py\"        \n",
    "                + \" --cust_privkey \" + cust_privkey_hex \n",
    "                + \" --merch_privkey \" + merch_privkey_hex      \n",
    "                + \" --merch_close_pubkey \" + merch_close_pubkey_hex   \n",
    "                + \" --to_self_delay \" + \"05cf\" # number of blocks to delay to-self output       \n",
    "                + \" --txid \" + escrow_txid\n",
    "                + \" --index \" + \"0\"\n",
    "                + \" --amount_btc \" + \"10.2\"\n",
    "                + \" --output_btc \" + \"10.1\")\n",
    "print(raw_merch_close_tx)\n",
    "\n",
    "decoded = subprocess.getoutput(\"bitcoin-cli -regtest decoderawtransaction \" + raw_merch_close_tx)\n",
    "# print(decoded)"
   ]
  },
  {
   "cell_type": "code",
   "execution_count": 14,
   "metadata": {},
   "outputs": [
    {
     "name": "stdout",
     "output_type": "stream",
     "text": [
      "e2b72736d785639b7aab175245410bfc8aca89037a6e1c893a02bb11077b4872\n"
     ]
    }
   ],
   "source": [
    "merch_close_txid = subprocess.getoutput(\"bitcoin-cli -regtest sendrawtransaction \" + raw_merch_close_tx + \" true\")\n",
    "print(merch_close_txid)"
   ]
  },
  {
   "cell_type": "code",
   "execution_count": 15,
   "metadata": {},
   "outputs": [
    {
     "name": "stdout",
     "output_type": "stream",
     "text": [
      "{\n",
      "  \"txid\": \"e2b72736d785639b7aab175245410bfc8aca89037a6e1c893a02bb11077b4872\",\n",
      "  \"hash\": \"22d16de791ce9664a6638238009abc3594c5a92978cd6636142acc287d465841\",\n",
      "  \"version\": 2,\n",
      "  \"size\": 315,\n",
      "  \"vsize\": 150,\n",
      "  \"weight\": 597,\n",
      "  \"locktime\": 0,\n",
      "  \"vin\": [\n",
      "    {\n",
      "      \"txid\": \"5eb0c50e6f725b88507cda84f339aba539bc99853436db610d6a476a207f82d9\",\n",
      "      \"vout\": 0,\n",
      "      \"scriptSig\": {\n",
      "        \"asm\": \"\",\n",
      "        \"hex\": \"\"\n",
      "      },\n",
      "      \"txinwitness\": [\n",
      "        \"\",\n",
      "        \"30440220376822e162fbd4536e8322939e822f258473531a3f605a14d237a0b34891706402201d0e5c11eb0d43e09b036102aff7db6f368895f3901767e65628f958aaf524ff01\",\n",
      "        \"3045022100bc85eddf9b5348f779d6a48835935b3bfc7ee4260babde887d18ec4ee2c64101022027fc7b6155a8a677194541ddb73a46b2477508c4947aeb7c5e4b9145df81683701\",\n",
      "        \"5221024596d7b33733c28101dbc6c85901dffaed0cdac63ab0b2ea141217d1990ad4b1210253be79afe84fd9342c1f52024379b6da6299ea98844aee23838e8e678a765f7c52ae\"\n",
      "      ],\n",
      "      \"sequence\": 4294967295\n",
      "    }\n",
      "  ],\n",
      "  \"vout\": [\n",
      "    {\n",
      "      \"value\": 10.10000000,\n",
      "      \"n\": 0,\n",
      "      \"scriptPubKey\": {\n",
      "        \"asm\": \"0 4de4a2361c5f251e23b9aa799012a9c94131ab51ec4be0e2a9857125c375e19d\",\n",
      "        \"hex\": \"00204de4a2361c5f251e23b9aa799012a9c94131ab51ec4be0e2a9857125c375e19d\",\n",
      "        \"reqSigs\": 1,\n",
      "        \"type\": \"witness_v0_scripthash\",\n",
      "        \"addresses\": [\n",
      "          \"bcrt1qfhj2ydsutuj3ugae4fueqy4fe9qnr263a397pc4fs4cjtsm4uxwsh89vn0\"\n",
      "        ]\n",
      "      }\n",
      "    }\n",
      "  ]\n",
      "}\n"
     ]
    }
   ],
   "source": [
    "merch_close_tx = subprocess.getoutput(\"bitcoin-cli -regtest getrawtransaction \" + merch_close_txid)\n",
    "decoded = subprocess.getoutput(\"bitcoin-cli -regtest decoderawtransaction \" + merch_close_tx)\n",
    "print(decoded)"
   ]
  },
  {
   "cell_type": "code",
   "execution_count": 16,
   "metadata": {},
   "outputs": [
    {
     "name": "stdout",
     "output_type": "stream",
     "text": [
      "0200000000010172487b0711bb023a891c6e7a0389ca8afc0b41455217ab7a9b6385d73627b7e20000000000cf0500000100ca9a3b00000000160014b7cfef435e3701fdedb7a11164ae44d561698bb9034830450221008ff269ceb1e2925252a9c05badb70ef1ab3b274a002b45a7afd53cb45efe39410220353c836c6b6cb151b0660b3bfdb7de739521bfbddc435f7f04bf2af480e58439010072635221024596d7b33733c28101dbc6c85901dffaed0cdac63ab0b2ea141217d1990ad4b1210253be79afe84fd9342c1f52024379b6da6299ea98844aee23838e8e678a765f7c52ae6702cf05b2752102ab573100532827bd0e44b4353e4eaa9c79afbc93f69454a4a44d9fea8c45b5afac6800000000\n",
      "{\n",
      "  \"txid\": \"94683cb4cba2bb647c5643206fb5644d8d95e364a763dd0342361dd6469d6294\",\n",
      "  \"hash\": \"92dbfbb800f7d5b0c4b695be18b1def10a15ecd585d0332173057b68b07b7a48\",\n",
      "  \"version\": 2,\n",
      "  \"size\": 274,\n",
      "  \"vsize\": 130,\n",
      "  \"weight\": 520,\n",
      "  \"locktime\": 0,\n",
      "  \"vin\": [\n",
      "    {\n",
      "      \"txid\": \"e2b72736d785639b7aab175245410bfc8aca89037a6e1c893a02bb11077b4872\",\n",
      "      \"vout\": 0,\n",
      "      \"scriptSig\": {\n",
      "        \"asm\": \"\",\n",
      "        \"hex\": \"\"\n",
      "      },\n",
      "      \"txinwitness\": [\n",
      "        \"30450221008ff269ceb1e2925252a9c05badb70ef1ab3b274a002b45a7afd53cb45efe39410220353c836c6b6cb151b0660b3bfdb7de739521bfbddc435f7f04bf2af480e5843901\",\n",
      "        \"\",\n",
      "        \"635221024596d7b33733c28101dbc6c85901dffaed0cdac63ab0b2ea141217d1990ad4b1210253be79afe84fd9342c1f52024379b6da6299ea98844aee23838e8e678a765f7c52ae6702cf05b2752102ab573100532827bd0e44b4353e4eaa9c79afbc93f69454a4a44d9fea8c45b5afac68\"\n",
      "      ],\n",
      "      \"sequence\": 1487\n",
      "    }\n",
      "  ],\n",
      "  \"vout\": [\n",
      "    {\n",
      "      \"value\": 10.00000000,\n",
      "      \"n\": 0,\n",
      "      \"scriptPubKey\": {\n",
      "        \"asm\": \"0 b7cfef435e3701fdedb7a11164ae44d561698bb9\",\n",
      "        \"hex\": \"0014b7cfef435e3701fdedb7a11164ae44d561698bb9\",\n",
      "        \"reqSigs\": 1,\n",
      "        \"type\": \"witness_v0_keyhash\",\n",
      "        \"addresses\": [\n",
      "          \"bcrt1qkl877s67xuqlmmdh5ygkftjy64sknzaemq853c\"\n",
      "        ]\n",
      "      }\n",
      "    }\n",
      "  ]\n",
      "}\n"
     ]
    }
   ],
   "source": [
    "raw_merch_claim_tx = subprocess.getoutput(\"python merch_claim.py\"   \n",
    "                + \" --merch_pubkey \" + merch_pubkey_hex   \n",
    "                + \" --cust_pubkey \" + cust_pubkey_hex   \n",
    "                + \" --merch_close_privkey \" + merch_close_privkey_hex   \n",
    "                + \" --output_pubkey \" + \"024596d7b33733c28101dbc6c85901dffaed0cdac63ab0b2ea141217d1990ad4b1\"    \n",
    "                + \" --to_self_delay \" + \"05cf\" # number of blocks to delay to-self output         \n",
    "                + \" --txid \" + merch_close_txid\n",
    "                + \" --index \" + \"0\"\n",
    "                + \" --amount_btc \" + \"10.1\"\n",
    "                + \" --output_btc \" + \"10\")\n",
    "print(raw_merch_claim_tx)\n",
    "\n",
    "\n",
    "decoded = subprocess.getoutput(\"bitcoin-cli -regtest decoderawtransaction \" + raw_merch_claim_tx)\n",
    "print(decoded)"
   ]
  },
  {
   "cell_type": "code",
   "execution_count": 17,
   "metadata": {},
   "outputs": [],
   "source": [
    "os.system(\"bitcoin-cli -regtest generate 1486\");"
   ]
  },
  {
   "cell_type": "markdown",
   "metadata": {},
   "source": [
    "Only 1486 blocks mined, one less than the delay_to_self of 1487 blocks"
   ]
  },
  {
   "cell_type": "code",
   "execution_count": 18,
   "metadata": {},
   "outputs": [
    {
     "name": "stdout",
     "output_type": "stream",
     "text": [
      "error code: -26\n",
      "error message:\n",
      "non-BIP68-final (code 64)\n"
     ]
    }
   ],
   "source": [
    "merch_claim_txid = subprocess.getoutput(\"bitcoin-cli -regtest sendrawtransaction \" + raw_merch_claim_tx + \" true\")\n",
    "print(merch_claim_txid)"
   ]
  },
  {
   "cell_type": "markdown",
   "metadata": {},
   "source": [
    "Generate 1 more block and try again"
   ]
  },
  {
   "cell_type": "code",
   "execution_count": 19,
   "metadata": {},
   "outputs": [],
   "source": [
    "os.system(\"bitcoin-cli -regtest generate 1\");"
   ]
  },
  {
   "cell_type": "code",
   "execution_count": 20,
   "metadata": {},
   "outputs": [
    {
     "name": "stdout",
     "output_type": "stream",
     "text": [
      "94683cb4cba2bb647c5643206fb5644d8d95e364a763dd0342361dd6469d6294\n"
     ]
    }
   ],
   "source": [
    "merch_claim_txid = subprocess.getoutput(\"bitcoin-cli -regtest sendrawtransaction \" + raw_merch_claim_tx + \" true\")\n",
    "print(merch_claim_txid)"
   ]
  },
  {
   "cell_type": "code",
   "execution_count": 21,
   "metadata": {},
   "outputs": [
    {
     "name": "stdout",
     "output_type": "stream",
     "text": [
      "{\n",
      "  \"txid\": \"94683cb4cba2bb647c5643206fb5644d8d95e364a763dd0342361dd6469d6294\",\n",
      "  \"hash\": \"92dbfbb800f7d5b0c4b695be18b1def10a15ecd585d0332173057b68b07b7a48\",\n",
      "  \"version\": 2,\n",
      "  \"size\": 274,\n",
      "  \"vsize\": 130,\n",
      "  \"weight\": 520,\n",
      "  \"locktime\": 0,\n",
      "  \"vin\": [\n",
      "    {\n",
      "      \"txid\": \"e2b72736d785639b7aab175245410bfc8aca89037a6e1c893a02bb11077b4872\",\n",
      "      \"vout\": 0,\n",
      "      \"scriptSig\": {\n",
      "        \"asm\": \"\",\n",
      "        \"hex\": \"\"\n",
      "      },\n",
      "      \"txinwitness\": [\n",
      "        \"30450221008ff269ceb1e2925252a9c05badb70ef1ab3b274a002b45a7afd53cb45efe39410220353c836c6b6cb151b0660b3bfdb7de739521bfbddc435f7f04bf2af480e5843901\",\n",
      "        \"\",\n",
      "        \"635221024596d7b33733c28101dbc6c85901dffaed0cdac63ab0b2ea141217d1990ad4b1210253be79afe84fd9342c1f52024379b6da6299ea98844aee23838e8e678a765f7c52ae6702cf05b2752102ab573100532827bd0e44b4353e4eaa9c79afbc93f69454a4a44d9fea8c45b5afac68\"\n",
      "      ],\n",
      "      \"sequence\": 1487\n",
      "    }\n",
      "  ],\n",
      "  \"vout\": [\n",
      "    {\n",
      "      \"value\": 10.00000000,\n",
      "      \"n\": 0,\n",
      "      \"scriptPubKey\": {\n",
      "        \"asm\": \"0 b7cfef435e3701fdedb7a11164ae44d561698bb9\",\n",
      "        \"hex\": \"0014b7cfef435e3701fdedb7a11164ae44d561698bb9\",\n",
      "        \"reqSigs\": 1,\n",
      "        \"type\": \"witness_v0_keyhash\",\n",
      "        \"addresses\": [\n",
      "          \"bcrt1qkl877s67xuqlmmdh5ygkftjy64sknzaemq853c\"\n",
      "        ]\n",
      "      }\n",
      "    }\n",
      "  ]\n",
      "}\n"
     ]
    }
   ],
   "source": [
    "merch_claim_tx = subprocess.getoutput(\"bitcoin-cli -regtest getrawtransaction \" + merch_claim_txid)\n",
    "decoded = subprocess.getoutput(\"bitcoin-cli -regtest decoderawtransaction \" + merch_claim_tx)\n",
    "print(decoded)"
   ]
  },
  {
   "cell_type": "code",
   "execution_count": 22,
   "metadata": {},
   "outputs": [],
   "source": [
    "os.system(\"bitcoin-cli -regtest stop\")\n",
    "time.sleep(1.5) "
   ]
  }
 ],
 "metadata": {
  "kernelspec": {
   "display_name": "Python 3",
   "language": "python",
   "name": "python3"
  },
  "language_info": {
   "codemirror_mode": {
    "name": "ipython",
    "version": 3
   },
   "file_extension": ".py",
   "mimetype": "text/x-python",
   "name": "python",
   "nbconvert_exporter": "python",
   "pygments_lexer": "ipython3",
   "version": "3.6.8"
  }
 },
 "nbformat": 4,
 "nbformat_minor": 2
}
