{
 "cells": [
  {
   "cell_type": "code",
   "execution_count": 1,
   "metadata": {
    "code_folding": []
   },
   "outputs": [],
   "source": [
    "import base58\n",
    "import binascii\n",
    "import ecdsa\n",
    "import hashlib\n",
    "import json\n",
    "import os\n",
    "import subprocess\n",
    "import time\n",
    "\n",
    "def dSHA256(data):\n",
    "    hash_1 = hashlib.sha256(data).digest()\n",
    "    hash_2 = hashlib.sha256(hash_1).digest()\n",
    "    return hash_2\n",
    "\n",
    "def hash160(s):\n",
    "    '''sha256 followed by ripemd160'''\n",
    "    return hashlib.new('ripemd160', hashlib.sha256(s).digest()).digest()\n",
    "\n",
    "def privkey_to_pubkey(privkey):\n",
    "    signing_key = ecdsa.SigningKey.from_string(privkey, curve=ecdsa.SECP256k1) # Don't forget to specify the curve\n",
    "    verifying_key = signing_key.get_verifying_key()\n",
    "\n",
    "    # Use this code block if the address you gave corresponds to the compressed public key\n",
    "    x_cor = bytes.fromhex(verifying_key.to_string().hex())[:32] # The first 32 bytes are the x coordinate\n",
    "    y_cor = bytes.fromhex(verifying_key.to_string().hex())[32:] # The last 32 bytes are the y coordinate\n",
    "    if int.from_bytes(y_cor, byteorder=\"big\", signed=True) % 2 == 0: # We need to turn the y_cor into a number.\n",
    "        public_key = bytes.fromhex(\"02\" + x_cor.hex())\n",
    "    else:\n",
    "        public_key = bytes.fromhex(\"03\" + x_cor.hex())\n",
    "    return public_key"
   ]
  },
  {
   "cell_type": "code",
   "execution_count": 2,
   "metadata": {},
   "outputs": [],
   "source": [
    "# Functions related to generating bitcoin addresses\n",
    "\n",
    "def encode_base58(s):\n",
    "    BASE58_ALPHABET = '123456789ABCDEFGHJKLMNPQRSTUVWXYZabcdefghijkmnopqrstuvwxyz'\n",
    "    count = 0\n",
    "    for c in s:  \n",
    "        if c == 0:\n",
    "            count += 1\n",
    "        else:\n",
    "            break\n",
    "    num = int.from_bytes(s, 'big')\n",
    "    prefix = '1' * count\n",
    "    result = ''\n",
    "    while num > 0:  \n",
    "        num, mod = divmod(num, 58)\n",
    "        result = BASE58_ALPHABET[mod] + result\n",
    "    return prefix + result\n",
    "\n",
    "def encode_base58_checksum(b):\n",
    "    return encode_base58(b + dSHA256(b)[:4])\n",
    "\n",
    "# https://en.bitcoin.it/wiki/Wallet_import_format\n",
    "def privkey_to_wif(privkey, compressed_pubkey, testnet):\n",
    "    if testnet:\n",
    "        prefix = b\"\\xEF\"\n",
    "    else:\n",
    "        prefix = b\"\\x80\"\n",
    "    \n",
    "    # if the privkey will correspond to a compressed public key\n",
    "    if compressed_pubkey: \n",
    "        extended = prefix + privkey + b\"\\x01\"\n",
    "    else:\n",
    "        extended = prefix + privkey \n",
    "        \n",
    "    extendedchecksum = extended + dSHA256(extended)[:4]\n",
    "    wif = encode_base58(extendedchecksum)\n",
    "    \n",
    "    return wif\n",
    "\n",
    "# https://learnmeabitcoin.com/guide/wif\n",
    "def wif_to_privkey(private_key_WIF):\n",
    "    private_key_full = base58.b58decode(private_key_WIF)\n",
    "    \n",
    "    # If the WIF encoding includes the optional \"01\" byte for compressed privKey,\n",
    "    # do not include it in the final output.\n",
    "    if len(private_key_full) == 38:\n",
    "        private_key = private_key_full[1:-5] \n",
    "        print(\"compressed pubkey\")\n",
    "    else:\n",
    "        private_key = private_key_full[1:-4] \n",
    "        print(\"not compressed pubkey\")\n",
    "    return private_key\n",
    "\n",
    "\n",
    "def pk_to_p2pkh(compressed, testnet):\n",
    "    '''Returns the address string'''\n",
    "    pk_hash = hash160(compressed)\n",
    "    if testnet:\n",
    "        prefix = b'\\x6f'\n",
    "    else:\n",
    "        prefix = b'\\x00'\n",
    "    return encode_base58_checksum(prefix + pk_hash)\n",
    "\n",
    "def pk_to_p2sh_p2wpkh(compressed, testnet):\n",
    "    pk_hash = hash160(compressed)\n",
    "    redeemScript = bytes.fromhex(f\"0014{pk_hash.hex()}\")\n",
    "    rs_hash = hash160(redeemScript)\n",
    "    if testnet:\n",
    "        prefix = b\"\\xc4\"\n",
    "    else:\n",
    "        prefix = b\"\\x05\"\n",
    "    return encode_base58_checksum(prefix + rs_hash)\n",
    "\n",
    "def wif_to_addresses(wif):\n",
    "#     wif = \"cUy9rC6wteKizfu1fgP2abKUWTkJxjqKp2fba91FkU332CFHo6ix\"\n",
    "    privkey = wif_to_privkey(wif)\n",
    "    public_key = privkey_to_pubkey(privkey)\n",
    "    p2pkh_address = pk_to_p2pkh(public_key, testnet = True)\n",
    "    p2sh_p2wpkh_address = pk_to_p2sh_p2wpkh(public_key, testnet = True)\n",
    "\n",
    "    print(\"WIF Private key: \" + wif)\n",
    "    print(\"Private key: \" + privkey.hex())\n",
    "    print(\"Public key: \" + public_key.hex())\n",
    "    print(\"Public key hash: \" + hash160(public_key).hex())\n",
    "    print(\"Address: \" + p2pkh_address)\n",
    "    print(\"Address: \" + p2sh_p2wpkh_address)\n",
    "    \n",
    "def privkey_to_addresses(privkey):\n",
    "    # privkey = bytes.fromhex(\"AF933A6C602069F1CBC85990DF087714D7E86DF0D0E48398B7D8953E1F03534A\")\n",
    "    public_key = privkey_to_pubkey(privkey)\n",
    "    p2pkh_address = pk_to_p2pkh(public_key, testnet = True)\n",
    "    p2sh_p2wpkh_address = pk_to_p2sh_p2wpkh(public_key, testnet = True)\n",
    "\n",
    "    print(\"Private key: \" + privkey.hex())\n",
    "    print(\"Public key: \" + public_key.hex())\n",
    "    print(\"Public key hash: \" + hash160(public_key).hex())\n",
    "    print(\"Address: \" + p2pkh_address)\n",
    "    print(\"Address: \" + p2sh_p2wpkh_address)"
   ]
  },
  {
   "cell_type": "markdown",
   "metadata": {},
   "source": [
    "# Bitcoin core regtest tx tester\n",
    "This notebook will start up bitcoind in regtest mode, create transactions using python scripts, and broadcast them to validate that they work. Four transactions are tested here:<br><br>\n",
    "\n",
    "- tx1 initial tx to fund customer. 1 output \n",
    "    - Send 11.3 btc to a P2SH-P2WPKH address. This will be used to fund the customer.\n",
    "- tx2 funding tx with change. 2 outputs\n",
    "    - 10.2 btc to an escrow (2-of-2 multisig) \n",
    "    - 1 btc to a change address\n",
    "- tx3 merch close. 1 output\n",
    "    - 10.1 btc to p2wsh with two ways to spend from it:\n",
    "        - 2 of 2 multisig signed by cust_pk and merch_pk (cust-close-tx)\n",
    "        - to_self_delay to merch_close_pk (merch-claim-tx)"
   ]
  },
  {
   "cell_type": "markdown",
   "metadata": {},
   "source": [
    "Funding private key is used to fund the escrow tx. <br> \n",
    "Merch private key and Cust private key are used to generate the pubkeys in the escrow tx. <br>\n",
    "The Cust private key is also used for the P2WPKH change output."
   ]
  },
  {
   "cell_type": "code",
   "execution_count": 3,
   "metadata": {},
   "outputs": [],
   "source": [
    "funding_privkey_hex = \"1111111111111111111111111111111111111111111111111111111111111111\"\n",
    "funding_pubkey_hex = privkey_to_pubkey(bytes.fromhex(funding_privkey_hex)).hex()\n",
    "\n",
    "merch_privkey_hex = \"2111111111111111111111111111111111111111111111111111111111111111\"\n",
    "merch_pubkey_hex = privkey_to_pubkey(bytes.fromhex(merch_privkey_hex)).hex()\n",
    "\n",
    "cust_privkey_hex = \"3111111111111111111111111111111111111111111111111111111111111111\"\n",
    "cust_pubkey_hex = privkey_to_pubkey(bytes.fromhex(cust_privkey_hex)).hex()\n",
    "\n",
    "change_privkey_hex = \"4111111111111111111111111111111111111111111111111111111111111111\"\n",
    "change_pubkey_hex = privkey_to_pubkey(bytes.fromhex(change_privkey_hex)).hex()\n",
    "\n",
    "merch_close_privkey_hex = \"5111111111111111111111111111111111111111111111111111111111111111\"\n",
    "merch_close_pubkey_hex = privkey_to_pubkey(bytes.fromhex(merch_close_privkey_hex)).hex()"
   ]
  },
  {
   "cell_type": "markdown",
   "metadata": {},
   "source": [
    "Start up regtest mode, delete any history so we are starting from scratch.\n",
    "Mine 101 blocks"
   ]
  },
  {
   "cell_type": "code",
   "execution_count": 52,
   "metadata": {
    "code_folding": []
   },
   "outputs": [
    {
     "name": "stdout",
     "output_type": "stream",
     "text": [
      "blockcount: 101\n"
     ]
    }
   ],
   "source": [
    "# Make sure bitcoind is not already running\n",
    "os.system(\"bitcoin-cli -regtest stop\")\n",
    "time.sleep(1.5) \n",
    "\n",
    "# Delete any previous files to restart regtest\n",
    "os.system(\"rm -rfv $HOME/Library/Application\\ Support/Bitcoin/regtest/\")\n",
    "\n",
    "# start up bitcoind in regtest mode\n",
    "os.system(\"bitcoind -regtest -daemon -minrelaytxfee=0 -fallbackfee=0.0002\")\n",
    "time.sleep(1.5)\n",
    "\n",
    "# generate 101 blocks so we can fund transactions\n",
    "address = subprocess.getoutput(\"bitcoin-cli -regtest getnewaddress\")\n",
    "result = subprocess.getoutput(\"bitcoin-cli -regtest generatetoaddress 101 {addr}\".format(addr=address))\n",
    "\n",
    "blockcount = subprocess.getoutput(\"bitcoin-cli -regtest getblockcount\")\n",
    "\n",
    "print(\"blockcount: \" + str(blockcount))"
   ]
  },
  {
   "cell_type": "markdown",
   "metadata": {},
   "source": [
    "Generate base58 address for the escrow funder"
   ]
  },
  {
   "cell_type": "code",
   "execution_count": 53,
   "metadata": {},
   "outputs": [
    {
     "name": "stdout",
     "output_type": "stream",
     "text": [
      "Address: 2NEp346GsvyPAu3X9oKGjrzLXc8vw8CqG7T\n"
     ]
    }
   ],
   "source": [
    "# Generate p2sh-p2wpkh address to fund the escrow funder\n",
    "privkey = bytes.fromhex(funding_privkey_hex)\n",
    "public_key = privkey_to_pubkey(privkey)\n",
    "p2sh_p2wpkh_address = pk_to_p2sh_p2wpkh(public_key, testnet = True)\n",
    "\n",
    "# print(\"Private key: \" + privkey.hex())\n",
    "# print(\"Public key: \" + public_key.hex())\n",
    "print(\"Address: \" + p2sh_p2wpkh_address)"
   ]
  },
  {
   "cell_type": "markdown",
   "metadata": {},
   "source": [
    "Send btc to the escrow funder"
   ]
  },
  {
   "cell_type": "code",
   "execution_count": 54,
   "metadata": {},
   "outputs": [
    {
     "name": "stdout",
     "output_type": "stream",
     "text": [
      "98870084fb073f9ad7f919f3fcb7e744a5f36294b80a9cd2ed5f6728c47f0203\n"
     ]
    }
   ],
   "source": [
    "txid_1 = subprocess.getoutput(\"bitcoin-cli -regtest sendtoaddress \" + p2sh_p2wpkh_address + \" 11.3\")\n",
    "print(txid_1)"
   ]
  },
  {
   "cell_type": "code",
   "execution_count": 55,
   "metadata": {},
   "outputs": [
    {
     "name": "stdout",
     "output_type": "stream",
     "text": [
      "index: 1\n"
     ]
    }
   ],
   "source": [
    "# Find which output index the btc was sent to\n",
    "raw_tx = subprocess.getoutput(\"bitcoin-cli -regtest getrawtransaction \" + txid_1)\n",
    "decoded = subprocess.getoutput(\"bitcoin-cli -regtest decoderawtransaction \" + raw_tx)\n",
    "d = json.loads(decoded)\n",
    "# print(decoded)\n",
    "\n",
    "if d[\"vout\"][0][\"scriptPubKey\"][\"addresses\"][0] == p2sh_p2wpkh_address:\n",
    "    index = 0\n",
    "else:\n",
    "    index = 1\n",
    "print(\"index: \" + str(index))"
   ]
  },
  {
   "cell_type": "code",
   "execution_count": 56,
   "metadata": {},
   "outputs": [],
   "source": [
    "subprocess.getoutput(\"bitcoin-cli -regtest generatetoaddress 1 {addr}\".format(addr=address));"
   ]
  },
  {
   "cell_type": "markdown",
   "metadata": {},
   "source": [
    "Generate raw escrow funding transaction"
   ]
  },
  {
   "cell_type": "code",
   "execution_count": 57,
   "metadata": {},
   "outputs": [
    {
     "name": "stdout",
     "output_type": "stream",
     "text": [
      "0200000000010103027fc428675fedd29c0ab89462f3a544e7b7fcf319f9d79a3f07fb840087980100000017160014fc7250a211deddc70ee5a2738de5f07817351cefffffffff02fff6cb3c000000002200201f3abc4d03a3b61defffe4d163f25fcd0edc96f352ed1324385dc1ce28debd0200e1f50500000000160014bb524cfc4313630bdd51106c1a1b1fb58a3cea3c02483045022100b7c36d6e573251ea4c9d3f68bb2ae0eedc18acefbda8f011164c3c9134764fbb022057a1af2d0e78fbb97315f249044640e47ffb0eb50a717f01de13435f0b6be9860121034f355bdcb7cc0af728ef3cceb9615d90684bb5b2ca5f859ab0f0b704075871aa00000000\n"
     ]
    }
   ],
   "source": [
    "raw_escrow_tx = subprocess.getoutput(\"python funding_tx_with_change.py\" \n",
    "                        + \" --funding_privkey \" + funding_privkey_hex\n",
    "                        + \" --txid \" + txid_1\n",
    "                        + \" --index \" + str(index)\n",
    "                        + \" --amount_btc \" + \"11.3\"\n",
    "                        + \" --merch_pubkey \" + merch_pubkey_hex\n",
    "                        + \" --cust_pubkey \" + cust_pubkey_hex\n",
    "                        + \" --change_pubkey \" + change_pubkey_hex\n",
    "                        + \" --escrow_btc \" + \"10.2\"\n",
    "                        + \" --change_btc \" + \"1\")\n",
    "print(raw_escrow_tx)"
   ]
  },
  {
   "cell_type": "markdown",
   "metadata": {},
   "source": [
    "Broadcast escrow funding transaction"
   ]
  },
  {
   "cell_type": "code",
   "execution_count": 58,
   "metadata": {},
   "outputs": [
    {
     "name": "stdout",
     "output_type": "stream",
     "text": [
      "0b5af206f958acf95ae7251d8288023890ce706f83642ddeeb71139a08e8312b\n"
     ]
    }
   ],
   "source": [
    "escrow_txid = subprocess.getoutput(\"bitcoin-cli -regtest sendrawtransaction \" + raw_escrow_tx + \" 10000000\")\n",
    "# \"true\" flag means we are okay with absurdly high tx fee\n",
    "print(escrow_txid)"
   ]
  },
  {
   "cell_type": "code",
   "execution_count": 59,
   "metadata": {
    "scrolled": false
   },
   "outputs": [],
   "source": [
    "raw_escrow_tx1 = subprocess.getoutput(\"bitcoin-cli -regtest getrawtransaction \" + escrow_txid)\n",
    "decoded = subprocess.getoutput(\"bitcoin-cli -regtest decoderawtransaction \" + raw_escrow_tx1)\n",
    "# print(decoded)"
   ]
  },
  {
   "cell_type": "code",
   "execution_count": 60,
   "metadata": {},
   "outputs": [],
   "source": [
    "subprocess.getoutput(\"bitcoin-cli -regtest generatetoaddress 1 {addr}\".format(addr=address));"
   ]
  },
  {
   "cell_type": "markdown",
   "metadata": {},
   "source": [
    "Create transaction spending from the change output of the escrow transaction"
   ]
  },
  {
   "cell_type": "code",
   "execution_count": 61,
   "metadata": {},
   "outputs": [
    {
     "name": "stdout",
     "output_type": "stream",
     "text": [
      "020000000001012b31e8089a1371ebde2d64836f70ce90380288821d25e75af9ac58f906f25a0b0000000000ffffffff018060333c000000002200200b18302d7455b9fe65fd8455f80635806ae4961835097025074071a28c83d2e70400483045022100a6cf65e2639328fc23d4c5ecd301f883a5aa2482e6dd95a10fba008eff83de5d022063cb1c967eba7e3094cf0a85f302b75caa026d3acae7c4496b812a16ad64f84701483045022100ed98b4b395d5cc693cc6b9d8f70137ff79d415c8beac933d8e7d3b35ae5518b40220201d8f4ded1c183d4874098dbe1f6904de0b791a8978af46696d3998962635cb01475221024596d7b33733c28101dbc6c85901dffaed0cdac63ab0b2ea141217d1990ad4b1210253be79afe84fd9342c1f52024379b6da6299ea98844aee23838e8e678a765f7c52ae00000000\n"
     ]
    }
   ],
   "source": [
    "raw_merch_close_tx = subprocess.getoutput(\"python merch_close.py\"        \n",
    "                + \" --cust_privkey \" + cust_privkey_hex \n",
    "                + \" --merch_privkey \" + merch_privkey_hex      \n",
    "                + \" --merch_close_pubkey \" + merch_close_pubkey_hex   \n",
    "                + \" --to_self_delay \" + \"10\" # number of blocks to delay to-self output       \n",
    "                + \" --txid \" + escrow_txid\n",
    "                + \" --index \" + \"0\"\n",
    "                + \" --amount_btc \" + \"10.2\"\n",
    "                + \" --output_btc \" + \"10.1\")\n",
    "print(raw_merch_close_tx)\n",
    "\n",
    "decoded = subprocess.getoutput(\"bitcoin-cli -regtest decoderawtransaction \" + raw_merch_close_tx)\n",
    "# print(decoded)"
   ]
  },
  {
   "cell_type": "code",
   "execution_count": 62,
   "metadata": {},
   "outputs": [
    {
     "name": "stdout",
     "output_type": "stream",
     "text": [
      "b974c23818e533b89f15a9e7d3882070faeaf319fd121ffdedd366751f8f0137\n"
     ]
    }
   ],
   "source": [
    "merch_close_txid = subprocess.getoutput(\"bitcoin-cli -regtest sendrawtransaction \" + raw_merch_close_tx + \" 1000000\")\n",
    "print(merch_close_txid)"
   ]
  },
  {
   "cell_type": "code",
   "execution_count": 63,
   "metadata": {},
   "outputs": [
    {
     "name": "stdout",
     "output_type": "stream",
     "text": [
      "{\n",
      "  \"txid\": \"b974c23818e533b89f15a9e7d3882070faeaf319fd121ffdedd366751f8f0137\",\n",
      "  \"hash\": \"8361438a62f326eee6d64d624402a189b262ebb00201dc426bd686086ca21277\",\n",
      "  \"version\": 2,\n",
      "  \"size\": 316,\n",
      "  \"vsize\": 150,\n",
      "  \"weight\": 598,\n",
      "  \"locktime\": 0,\n",
      "  \"vin\": [\n",
      "    {\n",
      "      \"txid\": \"0b5af206f958acf95ae7251d8288023890ce706f83642ddeeb71139a08e8312b\",\n",
      "      \"vout\": 0,\n",
      "      \"scriptSig\": {\n",
      "        \"asm\": \"\",\n",
      "        \"hex\": \"\"\n",
      "      },\n",
      "      \"txinwitness\": [\n",
      "        \"\",\n",
      "        \"3045022100a6cf65e2639328fc23d4c5ecd301f883a5aa2482e6dd95a10fba008eff83de5d022063cb1c967eba7e3094cf0a85f302b75caa026d3acae7c4496b812a16ad64f84701\",\n",
      "        \"3045022100ed98b4b395d5cc693cc6b9d8f70137ff79d415c8beac933d8e7d3b35ae5518b40220201d8f4ded1c183d4874098dbe1f6904de0b791a8978af46696d3998962635cb01\",\n",
      "        \"5221024596d7b33733c28101dbc6c85901dffaed0cdac63ab0b2ea141217d1990ad4b1210253be79afe84fd9342c1f52024379b6da6299ea98844aee23838e8e678a765f7c52ae\"\n",
      "      ],\n",
      "      \"sequence\": 4294967295\n",
      "    }\n",
      "  ],\n",
      "  \"vout\": [\n",
      "    {\n",
      "      \"value\": 10.10000000,\n",
      "      \"n\": 0,\n",
      "      \"scriptPubKey\": {\n",
      "        \"asm\": \"0 0b18302d7455b9fe65fd8455f80635806ae4961835097025074071a28c83d2e7\",\n",
      "        \"hex\": \"00200b18302d7455b9fe65fd8455f80635806ae4961835097025074071a28c83d2e7\",\n",
      "        \"reqSigs\": 1,\n",
      "        \"type\": \"witness_v0_scripthash\",\n",
      "        \"addresses\": [\n",
      "          \"bcrt1qpvvrqtt52kulue0as32lsp34sp4wf9scx5yhqfg8gpc69ryr6tns8wapka\"\n",
      "        ]\n",
      "      }\n",
      "    }\n",
      "  ]\n",
      "}\n"
     ]
    }
   ],
   "source": [
    "merch_close_tx = subprocess.getoutput(\"bitcoin-cli -regtest getrawtransaction \" + merch_close_txid)\n",
    "decoded = subprocess.getoutput(\"bitcoin-cli -regtest decoderawtransaction \" + merch_close_tx)\n",
    "print(decoded)"
   ]
  },
  {
   "cell_type": "code",
   "execution_count": 64,
   "metadata": {},
   "outputs": [
    {
     "name": "stdout",
     "output_type": "stream",
     "text": [
      "0200000000010137018f1f7566d3edfd1f12fd19f3eafa702088d3e7a9159fb833e51838c274b90000000000100000000100ca9a3b00000000160014b7cfef435e3701fdedb7a11164ae44d561698bb90347304402205dafda8a27ec63dcedb1f40b8c1c0ae37ef266ab29d097a94286f449804ced0302205c2dc17e2ecc3ed956628aff22b9aade3b9f049c2ddfc67fbd4e268f78e00381010070635221024596d7b33733c28101dbc6c85901dffaed0cdac63ab0b2ea141217d1990ad4b1210253be79afe84fd9342c1f52024379b6da6299ea98844aee23838e8e678a765f7c52ae6760b2752102ab573100532827bd0e44b4353e4eaa9c79afbc93f69454a4a44d9fea8c45b5afac6800000000\n",
      "{\n",
      "  \"txid\": \"02ac0833df4ca9d24be5b56e7b2e27e9b74199badff2036c94a41741c49b461c\",\n",
      "  \"hash\": \"98dff334073d4855e2557e4b499abff688eba08909048665174a78ba1fd4b944\",\n",
      "  \"version\": 2,\n",
      "  \"size\": 271,\n",
      "  \"vsize\": 130,\n",
      "  \"weight\": 517,\n",
      "  \"locktime\": 0,\n",
      "  \"vin\": [\n",
      "    {\n",
      "      \"txid\": \"b974c23818e533b89f15a9e7d3882070faeaf319fd121ffdedd366751f8f0137\",\n",
      "      \"vout\": 0,\n",
      "      \"scriptSig\": {\n",
      "        \"asm\": \"\",\n",
      "        \"hex\": \"\"\n",
      "      },\n",
      "      \"txinwitness\": [\n",
      "        \"304402205dafda8a27ec63dcedb1f40b8c1c0ae37ef266ab29d097a94286f449804ced0302205c2dc17e2ecc3ed956628aff22b9aade3b9f049c2ddfc67fbd4e268f78e0038101\",\n",
      "        \"\",\n",
      "        \"635221024596d7b33733c28101dbc6c85901dffaed0cdac63ab0b2ea141217d1990ad4b1210253be79afe84fd9342c1f52024379b6da6299ea98844aee23838e8e678a765f7c52ae6760b2752102ab573100532827bd0e44b4353e4eaa9c79afbc93f69454a4a44d9fea8c45b5afac68\"\n",
      "      ],\n",
      "      \"sequence\": 16\n",
      "    }\n",
      "  ],\n",
      "  \"vout\": [\n",
      "    {\n",
      "      \"value\": 10.00000000,\n",
      "      \"n\": 0,\n",
      "      \"scriptPubKey\": {\n",
      "        \"asm\": \"0 b7cfef435e3701fdedb7a11164ae44d561698bb9\",\n",
      "        \"hex\": \"0014b7cfef435e3701fdedb7a11164ae44d561698bb9\",\n",
      "        \"reqSigs\": 1,\n",
      "        \"type\": \"witness_v0_keyhash\",\n",
      "        \"addresses\": [\n",
      "          \"bcrt1qkl877s67xuqlmmdh5ygkftjy64sknzaemq853c\"\n",
      "        ]\n",
      "      }\n",
      "    }\n",
      "  ]\n",
      "}\n"
     ]
    }
   ],
   "source": [
    "raw_merch_claim_tx = subprocess.getoutput(\"python merch_claim.py\"   \n",
    "                + \" --merch_pubkey \" + merch_pubkey_hex   \n",
    "                + \" --cust_pubkey \" + cust_pubkey_hex   \n",
    "                + \" --merch_close_privkey \" + merch_close_privkey_hex   \n",
    "                + \" --output_pubkey \" + \"024596d7b33733c28101dbc6c85901dffaed0cdac63ab0b2ea141217d1990ad4b1\"    \n",
    "                + \" --to_self_delay \" + \"10\" # number of blocks to delay to-self output         \n",
    "                + \" --txid \" + merch_close_txid\n",
    "                + \" --index \" + \"0\"\n",
    "                + \" --amount_btc \" + \"10.1\"\n",
    "                + \" --output_btc \" + \"10\")\n",
    "print(raw_merch_claim_tx)\n",
    "\n",
    "\n",
    "decoded = subprocess.getoutput(\"bitcoin-cli -regtest decoderawtransaction \" + raw_merch_claim_tx)\n",
    "print(decoded)"
   ]
  },
  {
   "cell_type": "code",
   "execution_count": 65,
   "metadata": {},
   "outputs": [],
   "source": [
    "subprocess.getoutput(\"bitcoin-cli -regtest generatetoaddress 15 {addr}\".format(addr=address));"
   ]
  },
  {
   "cell_type": "markdown",
   "metadata": {},
   "source": [
    "Only 1486 blocks mined, one less than the delay_to_self of 1487 blocks"
   ]
  },
  {
   "cell_type": "code",
   "execution_count": 66,
   "metadata": {},
   "outputs": [
    {
     "name": "stdout",
     "output_type": "stream",
     "text": [
      "error code: -26\n",
      "error message:\n",
      "non-BIP68-final\n"
     ]
    }
   ],
   "source": [
    "merch_claim_txid = subprocess.getoutput(\"bitcoin-cli -regtest sendrawtransaction \" + raw_merch_claim_tx + \" 1000000\")\n",
    "print(merch_claim_txid)"
   ]
  },
  {
   "cell_type": "markdown",
   "metadata": {},
   "source": [
    "Generate 1 more block and try again"
   ]
  },
  {
   "cell_type": "code",
   "execution_count": 67,
   "metadata": {},
   "outputs": [],
   "source": [
    "subprocess.getoutput(\"bitcoin-cli -regtest generatetoaddress 1 {addr}\".format(addr=address));"
   ]
  },
  {
   "cell_type": "code",
   "execution_count": 68,
   "metadata": {},
   "outputs": [
    {
     "name": "stdout",
     "output_type": "stream",
     "text": [
      "02ac0833df4ca9d24be5b56e7b2e27e9b74199badff2036c94a41741c49b461c\n"
     ]
    }
   ],
   "source": [
    "merch_claim_txid = subprocess.getoutput(\"bitcoin-cli -regtest sendrawtransaction \" + raw_merch_claim_tx + \" 10000000\")\n",
    "print(merch_claim_txid)"
   ]
  },
  {
   "cell_type": "code",
   "execution_count": 34,
   "metadata": {},
   "outputs": [
    {
     "name": "stdout",
     "output_type": "stream",
     "text": [
      "{\n",
      "  \"txid\": \"21f2b678cd29e3028e0edea4d9735eced6814541b8f8a68758c6681020f58c12\",\n",
      "  \"hash\": \"ae2869bce5af45f792b6566b63ff636298204c907942e30145c34b538a6789d0\",\n",
      "  \"version\": 2,\n",
      "  \"size\": 274,\n",
      "  \"vsize\": 130,\n",
      "  \"weight\": 520,\n",
      "  \"locktime\": 0,\n",
      "  \"vin\": [\n",
      "    {\n",
      "      \"txid\": \"7a2650c1a7463ac6fb744f1de08f2b0cc8e1238ca7b2ea61fa7f41f6fd432ec1\",\n",
      "      \"vout\": 0,\n",
      "      \"scriptSig\": {\n",
      "        \"asm\": \"\",\n",
      "        \"hex\": \"\"\n",
      "      },\n",
      "      \"txinwitness\": [\n",
      "        \"3045022100fe23c5eb3f4d1469f65af5645ea7b3fc15e7dd764bd1dbb2a2e02322acecbc4f0220299b677f343812e98e9fec0634e3f7537a5eb57143d2e4dcfa2cb806e288fb3801\",\n",
      "        \"\",\n",
      "        \"635221024596d7b33733c28101dbc6c85901dffaed0cdac63ab0b2ea141217d1990ad4b1210253be79afe84fd9342c1f52024379b6da6299ea98844aee23838e8e678a765f7c52ae6702cf05b2752102ab573100532827bd0e44b4353e4eaa9c79afbc93f69454a4a44d9fea8c45b5afac68\"\n",
      "      ],\n",
      "      \"sequence\": 1487\n",
      "    }\n",
      "  ],\n",
      "  \"vout\": [\n",
      "    {\n",
      "      \"value\": 10.00000000,\n",
      "      \"n\": 0,\n",
      "      \"scriptPubKey\": {\n",
      "        \"asm\": \"0 b7cfef435e3701fdedb7a11164ae44d561698bb9\",\n",
      "        \"hex\": \"0014b7cfef435e3701fdedb7a11164ae44d561698bb9\",\n",
      "        \"reqSigs\": 1,\n",
      "        \"type\": \"witness_v0_keyhash\",\n",
      "        \"addresses\": [\n",
      "          \"bcrt1qkl877s67xuqlmmdh5ygkftjy64sknzaemq853c\"\n",
      "        ]\n",
      "      }\n",
      "    }\n",
      "  ]\n",
      "}\n"
     ]
    }
   ],
   "source": [
    "merch_claim_tx = subprocess.getoutput(\"bitcoin-cli -regtest getrawtransaction \" + merch_claim_txid)\n",
    "decoded = subprocess.getoutput(\"bitcoin-cli -regtest decoderawtransaction \" + merch_claim_tx)\n",
    "print(decoded)"
   ]
  },
  {
   "cell_type": "code",
   "execution_count": 22,
   "metadata": {},
   "outputs": [],
   "source": [
    "os.system(\"bitcoin-cli -regtest stop\")\n",
    "time.sleep(1.5) "
   ]
  }
 ],
 "metadata": {
  "kernelspec": {
   "display_name": "Python 3",
   "language": "python",
   "name": "python3"
  },
  "language_info": {
   "codemirror_mode": {
    "name": "ipython",
    "version": 3
   },
   "file_extension": ".py",
   "mimetype": "text/x-python",
   "name": "python",
   "nbconvert_exporter": "python",
   "pygments_lexer": "ipython3",
   "version": "3.6.8"
  }
 },
 "nbformat": 4,
 "nbformat_minor": 2
}
