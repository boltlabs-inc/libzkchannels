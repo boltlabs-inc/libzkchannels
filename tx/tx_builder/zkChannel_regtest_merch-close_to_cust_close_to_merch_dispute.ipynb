{
 "cells": [
  {
   "cell_type": "code",
   "execution_count": 1,
   "metadata": {
    "code_folding": []
   },
   "outputs": [],
   "source": [
    "import base58\n",
    "import binascii\n",
    "import ecdsa\n",
    "import hashlib\n",
    "import json\n",
    "import os\n",
    "import subprocess\n",
    "import time\n",
    "\n",
    "def dSHA256(data):\n",
    "    hash_1 = hashlib.sha256(data).digest()\n",
    "    hash_2 = hashlib.sha256(hash_1).digest()\n",
    "    return hash_2\n",
    "\n",
    "def hash160(s):\n",
    "    '''sha256 followed by ripemd160'''\n",
    "    return hashlib.new('ripemd160', hashlib.sha256(s).digest()).digest()\n",
    "\n",
    "def privkey_to_pubkey(privkey):\n",
    "    signing_key = ecdsa.SigningKey.from_string(privkey, curve=ecdsa.SECP256k1) # Don't forget to specify the curve\n",
    "    verifying_key = signing_key.get_verifying_key()\n",
    "\n",
    "    # Use this code block if the address you gave corresponds to the compressed public key\n",
    "    x_cor = bytes.fromhex(verifying_key.to_string().hex())[:32] # The first 32 bytes are the x coordinate\n",
    "    y_cor = bytes.fromhex(verifying_key.to_string().hex())[32:] # The last 32 bytes are the y coordinate\n",
    "    if int.from_bytes(y_cor, byteorder=\"big\", signed=True) % 2 == 0: # We need to turn the y_cor into a number.\n",
    "        public_key = bytes.fromhex(\"02\" + x_cor.hex())\n",
    "    else:\n",
    "        public_key = bytes.fromhex(\"03\" + x_cor.hex())\n",
    "    return public_key"
   ]
  },
  {
   "cell_type": "code",
   "execution_count": 2,
   "metadata": {},
   "outputs": [],
   "source": [
    "# Functions related to generating bitcoin addresses\n",
    "\n",
    "def encode_base58(s):\n",
    "    BASE58_ALPHABET = '123456789ABCDEFGHJKLMNPQRSTUVWXYZabcdefghijkmnopqrstuvwxyz'\n",
    "    count = 0\n",
    "    for c in s:  \n",
    "        if c == 0:\n",
    "            count += 1\n",
    "        else:\n",
    "            break\n",
    "    num = int.from_bytes(s, 'big')\n",
    "    prefix = '1' * count\n",
    "    result = ''\n",
    "    while num > 0:  \n",
    "        num, mod = divmod(num, 58)\n",
    "        result = BASE58_ALPHABET[mod] + result\n",
    "    return prefix + result\n",
    "\n",
    "def encode_base58_checksum(b):\n",
    "    return encode_base58(b + dSHA256(b)[:4])\n",
    "\n",
    "# https://en.bitcoin.it/wiki/Wallet_import_format\n",
    "def privkey_to_wif(privkey, compressed_pubkey, testnet):\n",
    "    if testnet:\n",
    "        prefix = b\"\\xEF\"\n",
    "    else:\n",
    "        prefix = b\"\\x80\"\n",
    "    \n",
    "    # if the privkey will correspond to a compressed public key\n",
    "    if compressed_pubkey: \n",
    "        extended = prefix + privkey + b\"\\x01\"\n",
    "    else:\n",
    "        extended = prefix + privkey \n",
    "        \n",
    "    extendedchecksum = extended + dSHA256(extended)[:4]\n",
    "    wif = encode_base58(extendedchecksum)\n",
    "    \n",
    "    return wif\n",
    "\n",
    "# https://learnmeabitcoin.com/guide/wif\n",
    "def wif_to_privkey(private_key_WIF):\n",
    "    private_key_full = base58.b58decode(private_key_WIF)\n",
    "    \n",
    "    # If the WIF encoding includes the optional \"01\" byte for compressed privKey,\n",
    "    # do not include it in the final output.\n",
    "    if len(private_key_full) == 38:\n",
    "        private_key = private_key_full[1:-5] \n",
    "        print(\"compressed pubkey\")\n",
    "    else:\n",
    "        private_key = private_key_full[1:-4] \n",
    "        print(\"not compressed pubkey\")\n",
    "    return private_key\n",
    "\n",
    "\n",
    "def pk_to_p2pkh(compressed, testnet):\n",
    "    '''Returns the address string'''\n",
    "    pk_hash = hash160(compressed)\n",
    "    if testnet:\n",
    "        prefix = b'\\x6f'\n",
    "    else:\n",
    "        prefix = b'\\x00'\n",
    "    return encode_base58_checksum(prefix + pk_hash)\n",
    "\n",
    "def pk_to_p2sh_p2wpkh(compressed, testnet):\n",
    "    pk_hash = hash160(compressed)\n",
    "    redeemScript = bytes.fromhex(f\"0014{pk_hash.hex()}\")\n",
    "    rs_hash = hash160(redeemScript)\n",
    "    if testnet:\n",
    "        prefix = b\"\\xc4\"\n",
    "    else:\n",
    "        prefix = b\"\\x05\"\n",
    "    return encode_base58_checksum(prefix + rs_hash)\n",
    "\n",
    "def wif_to_addresses(wif):\n",
    "#     wif = \"cUy9rC6wteKizfu1fgP2abKUWTkJxjqKp2fba91FkU332CFHo6ix\"\n",
    "    privkey = wif_to_privkey(wif)\n",
    "    public_key = privkey_to_pubkey(privkey)\n",
    "    p2pkh_address = pk_to_p2pkh(public_key, testnet = True)\n",
    "    p2sh_p2wpkh_address = pk_to_p2sh_p2wpkh(public_key, testnet = True)\n",
    "\n",
    "    print(\"WIF Private key: \" + wif)\n",
    "    print(\"Private key: \" + privkey.hex())\n",
    "    print(\"Public key: \" + public_key.hex())\n",
    "    print(\"Public key hash: \" + hash160(public_key).hex())\n",
    "    print(\"Address: \" + p2pkh_address)\n",
    "    print(\"Address: \" + p2sh_p2wpkh_address)\n",
    "    \n",
    "def privkey_to_addresses(privkey):\n",
    "    # privkey = bytes.fromhex(\"AF933A6C602069F1CBC85990DF087714D7E86DF0D0E48398B7D8953E1F03534A\")\n",
    "    public_key = privkey_to_pubkey(privkey)\n",
    "    p2pkh_address = pk_to_p2pkh(public_key, testnet = True)\n",
    "    p2sh_p2wpkh_address = pk_to_p2sh_p2wpkh(public_key, testnet = True)\n",
    "\n",
    "    print(\"Private key: \" + privkey.hex())\n",
    "    print(\"Public key: \" + public_key.hex())\n",
    "    print(\"Public key hash: \" + hash160(public_key).hex())\n",
    "    print(\"Address: \" + p2pkh_address)\n",
    "    print(\"Address: \" + p2sh_p2wpkh_address)"
   ]
  },
  {
   "cell_type": "markdown",
   "metadata": {},
   "source": [
    "# Bitcoin core regtest tx tester\n",
    "This notebook will start up bitcoind in regtest mode, create transactions using python scripts, and broadcast them to validate that they work. Four transactions are tested here:<br><br>\n",
    "\n",
    "- tx1 initial tx to fund customer. 1 output \n",
    "    - Send 11.3 btc to a P2SH-P2WPKH address. This will be used to fund the customer.\n",
    "- tx2 funding tx with change. 2 outputs\n",
    "    - 10.2 btc to an escrow (2-of-2 multisig) \n",
    "    - 1 btc to a change address\n",
    "- tx3 merch close. 1 output\n",
    "    - 11.3 btc to p2wsh with two ways to spend from it:\n",
    "        - 2 of 2 multisig signed by cust_pk and merch_pk (cust-close-tx)\n",
    "        - to_self_delay to merch_close_pk (merch-claim-tx)\n",
    "- tx4 cust close. 2 output\n",
    "    - 8 btc to p2wsh with two ways to spend from it:\n",
    "        - to_self_delay to cust_close_pk (cust-claim-tx)\n",
    "        - using revocation lock to send to merch_close_pk \n",
    "    - 2 btc to merch_close_pk (immediately available)\n",
    "    - 0 btc OP_RETURN \n",
    "- tx 5 merch dispute. 1 output\n",
    "    - 7.9 btc to merch pubkey"
   ]
  },
  {
   "cell_type": "markdown",
   "metadata": {},
   "source": [
    "Funding private key is used to fund the escrow tx. <br> \n",
    "Merch private key and Cust private key are used to generate the pubkeys in the escrow tx. <br>\n",
    "The Cust private key is also used for the P2WPKH change output."
   ]
  },
  {
   "cell_type": "code",
   "execution_count": 3,
   "metadata": {},
   "outputs": [],
   "source": [
    "funding_privkey_hex = \"8911111111111111111111111111111111111111111111111111111111111111\"\n",
    "funding_pubkey_hex = privkey_to_pubkey(bytes.fromhex(funding_privkey_hex)).hex()\n",
    "\n",
    "merch_privkey_hex = \"3911111111111111111111111111111111111111111111111111111111111111\"\n",
    "merch_pubkey_hex = privkey_to_pubkey(bytes.fromhex(merch_privkey_hex)).hex()\n",
    "\n",
    "cust_privkey_hex = \"7911111111111111111111111111111111111111111111111111111111111111\"\n",
    "cust_pubkey_hex = privkey_to_pubkey(bytes.fromhex(cust_privkey_hex)).hex()\n",
    "\n",
    "cust_close_privkey_hex = \"7711111111111111111111111111111111111111111111111111111111111111\"\n",
    "cust_close_pubkey_hex = privkey_to_pubkey(bytes.fromhex(cust_close_privkey_hex)).hex()\n",
    "\n",
    "change_privkey_hex = \"6911111111111111111111111111111111111111111111111111111111111111\"\n",
    "change_pubkey_hex = privkey_to_pubkey(bytes.fromhex(change_privkey_hex)).hex()\n",
    "\n",
    "merch_close_privkey_hex = \"3711111111111111111111111111111111111111111111111111111111111111\"\n",
    "merch_close_pubkey_hex = privkey_to_pubkey(bytes.fromhex(merch_close_privkey_hex)).hex()\n",
    "\n",
    "merch_disp_privkey_hex = \"3111111111111111111111111111111111111111111111111111111111111111\"\n",
    "merch_disp_pubkey_hex = privkey_to_pubkey(bytes.fromhex(merch_disp_privkey_hex)).hex()\n",
    "\n",
    "revocation_secret_hex = \"4011111111111111111111111111111111111111111111111111111111111111\"\n",
    "revocation_lock_hex = hash160(bytes.fromhex(revocation_secret_hex)).hex()"
   ]
  },
  {
   "cell_type": "markdown",
   "metadata": {},
   "source": [
    "Start up regtest mode, delete any history so we are starting from scratch.\n",
    "Mine 101 blocks"
   ]
  },
  {
   "cell_type": "code",
   "execution_count": 4,
   "metadata": {
    "code_folding": []
   },
   "outputs": [
    {
     "name": "stdout",
     "output_type": "stream",
     "text": [
      "blockcount: 101\n"
     ]
    }
   ],
   "source": [
    "# Make sure bitcoind is not already running\n",
    "os.system(\"bitcoin-cli -regtest stop\")\n",
    "time.sleep(1.5) \n",
    "\n",
    "# Delete any previous files to restart regtest\n",
    "os.system(\"rm -rfv $HOME/Library/Application\\ Support/Bitcoin/regtest/\")\n",
    "\n",
    "# start up bitcoind in regtest mode\n",
    "os.system(\"bitcoind -regtest -daemon\")\n",
    "time.sleep(1.5)\n",
    "\n",
    "# generate 101 blocks so we can fund transactions\n",
    "os.system(\"bitcoin-cli -regtest generate 101\")\n",
    "blockcount = subprocess.getoutput(\"bitcoin-cli -regtest getblockcount\")\n",
    "\n",
    "print(\"blockcount: \" + str(blockcount))"
   ]
  },
  {
   "cell_type": "markdown",
   "metadata": {},
   "source": [
    "Generate base58 address for the escrow funder"
   ]
  },
  {
   "cell_type": "code",
   "execution_count": 5,
   "metadata": {},
   "outputs": [
    {
     "name": "stdout",
     "output_type": "stream",
     "text": [
      "Address: 2N1jKbzrUkf583t9mM9ePN3rkqdCwryKcf9\n"
     ]
    }
   ],
   "source": [
    "# Generate p2sh-p2wpkh address to fund the escrow funder\n",
    "privkey = bytes.fromhex(funding_privkey_hex)\n",
    "public_key = privkey_to_pubkey(privkey)\n",
    "p2sh_p2wpkh_address = pk_to_p2sh_p2wpkh(public_key, testnet = True)\n",
    "\n",
    "# print(\"Private key: \" + privkey.hex())\n",
    "# print(\"Public key: \" + public_key.hex())\n",
    "print(\"Address: \" + p2sh_p2wpkh_address)"
   ]
  },
  {
   "cell_type": "markdown",
   "metadata": {},
   "source": [
    "Send btc to the escrow funder"
   ]
  },
  {
   "cell_type": "code",
   "execution_count": 6,
   "metadata": {},
   "outputs": [
    {
     "name": "stdout",
     "output_type": "stream",
     "text": [
      "1ca81fce918d778942c4389dc79f450d2458eed0c9d8423cba674a31765a55ca\n"
     ]
    }
   ],
   "source": [
    "txid_1 = subprocess.getoutput(\"bitcoin-cli -regtest sendtoaddress \" + p2sh_p2wpkh_address + \" 11.3\")\n",
    "print(txid_1)"
   ]
  },
  {
   "cell_type": "code",
   "execution_count": 7,
   "metadata": {},
   "outputs": [
    {
     "name": "stdout",
     "output_type": "stream",
     "text": [
      "index: 0\n"
     ]
    }
   ],
   "source": [
    "# Find which output index the btc was sent to\n",
    "raw_tx = subprocess.getoutput(\"bitcoin-cli -regtest getrawtransaction \" + txid_1)\n",
    "decoded = subprocess.getoutput(\"bitcoin-cli -regtest decoderawtransaction \" + raw_tx)\n",
    "d = json.loads(decoded)\n",
    "# print(decoded)\n",
    "\n",
    "if d[\"vout\"][0][\"scriptPubKey\"][\"addresses\"][0] == p2sh_p2wpkh_address:\n",
    "    index = 0\n",
    "else:\n",
    "    index = 1\n",
    "print(\"index: \" + str(index))"
   ]
  },
  {
   "cell_type": "code",
   "execution_count": 8,
   "metadata": {},
   "outputs": [],
   "source": [
    "os.system(\"bitcoin-cli -regtest generate 1\");"
   ]
  },
  {
   "cell_type": "markdown",
   "metadata": {},
   "source": [
    "Generate raw escrow funding transaction"
   ]
  },
  {
   "cell_type": "code",
   "execution_count": 9,
   "metadata": {},
   "outputs": [
    {
     "name": "stdout",
     "output_type": "stream",
     "text": [
      "02000000000101ca555a76314a67ba3c42d8c9d0ee58240d459fc79d38c44289778d91ce1fa81c0000000017160014fc5cc2b7bdcb852b225434d133769a551486950affffffff02fff6cb3c00000000220020666c6bfa88ba97c90cb04c7038d56b5854e71a4dd174d79b1260c822a14f791e00e1f50500000000160014f3a8a4335c0ef84806d93315e56965f13d522e5f02473044022072c06d94616e0eb1974ebbf41b55f626639621588118a89ed85804386a62899b02203f61bcce76601ac27afe126991a62f03b686f2000667ab658e7b607a9fed4b29012103e2aa89cce89e9b2d6f09b20a2096226328f114a4ca62e6ea416b4d7c4573086e00000000\n"
     ]
    }
   ],
   "source": [
    "raw_escrow_tx = subprocess.getoutput(\"python funding_tx_with_change.py\" \n",
    "                        + \" --funding_privkey \" + funding_privkey_hex\n",
    "                        + \" --txid \" + txid_1\n",
    "                        + \" --index \" + str(index)\n",
    "                        + \" --amount_btc \" + \"11.3\"\n",
    "                        + \" --merch_pubkey \" + merch_pubkey_hex\n",
    "                        + \" --cust_pubkey \" + cust_pubkey_hex\n",
    "                        + \" --change_pubkey \" + change_pubkey_hex\n",
    "                        + \" --escrow_btc \" + \"10.2\"\n",
    "                        + \" --change_btc \" + \"1\")\n",
    "print(raw_escrow_tx)"
   ]
  },
  {
   "cell_type": "markdown",
   "metadata": {},
   "source": [
    "Broadcast escrow funding transaction"
   ]
  },
  {
   "cell_type": "code",
   "execution_count": 10,
   "metadata": {},
   "outputs": [
    {
     "name": "stdout",
     "output_type": "stream",
     "text": [
      "5d7f37ce9a753a235dbc7b4bd9684f2280f71fa984b8a3556a956cec5f181200\n"
     ]
    }
   ],
   "source": [
    "escrow_txid = subprocess.getoutput(\"bitcoin-cli -regtest sendrawtransaction \" + raw_escrow_tx + \" true\")\n",
    "# \"true\" flag means we are okay with absurdly high tx fee\n",
    "print(escrow_txid)"
   ]
  },
  {
   "cell_type": "code",
   "execution_count": 11,
   "metadata": {
    "scrolled": false
   },
   "outputs": [],
   "source": [
    "raw_escrow_tx1 = subprocess.getoutput(\"bitcoin-cli -regtest getrawtransaction \" + escrow_txid)\n",
    "decoded = subprocess.getoutput(\"bitcoin-cli -regtest decoderawtransaction \" + raw_escrow_tx1)\n",
    "# print(decoded)"
   ]
  },
  {
   "cell_type": "code",
   "execution_count": 12,
   "metadata": {},
   "outputs": [],
   "source": [
    "os.system(\"bitcoin-cli -regtest generate 1\");"
   ]
  },
  {
   "cell_type": "markdown",
   "metadata": {},
   "source": [
    "Create transaction spending from the change output of the escrow transaction"
   ]
  },
  {
   "cell_type": "code",
   "execution_count": 13,
   "metadata": {},
   "outputs": [
    {
     "name": "stdout",
     "output_type": "stream",
     "text": [
      "020000000001010012185fec6c956a55a3b884a91ff780224f68d94b7bbc5d233a759ace377f5d0000000000ffffffff018060333c00000000220020c3fae9ae705465ac132b128c84fc011be28c21bff28e165f7cfb776dfbb117ff0400473044022047fd74fe53e6ce70daf2dff16299cb4f9afb98dabe70b763682b333a32402de10220572ae1832a4c8653e9f81d2470d1f880a3487257c7b9b15b039e5b1bf904ba7f01483045022100c494f5a92cc65aa65afc84fbd2adcd500f6ab253cec7eb40709d791d87eaff84022004e9ad1d67f80df7d67b062975f82968309b1f10b601e2dd7bb5593cfd4f2a990147522102f3d17ca1ac6dcf42b0297a71abb87f79dfa2c66278cbb99c1437e6570643ce902103fc43b44cd953c7b92726ebefe482a272538c7e40fdcde5994a62841525afa8d752ae00000000\n"
     ]
    }
   ],
   "source": [
    "raw_merch_close_tx = subprocess.getoutput(\"python merch_close.py\"        \n",
    "                + \" --cust_privkey \" + cust_privkey_hex \n",
    "                + \" --merch_privkey \" + merch_privkey_hex      \n",
    "                + \" --merch_close_pubkey \" + merch_close_pubkey_hex   \n",
    "                + \" --to_self_delay \" + \"05cf\" # number of blocks to delay to-self output       \n",
    "                + \" --txid \" + escrow_txid\n",
    "                + \" --index \" + \"0\"\n",
    "                + \" --amount_btc \" + \"10.2\"\n",
    "                + \" --output_btc \" + \"10.1\")\n",
    "print(raw_merch_close_tx)\n",
    "\n",
    "decoded = subprocess.getoutput(\"bitcoin-cli -regtest decoderawtransaction \" + raw_merch_close_tx)\n",
    "# print(decoded)"
   ]
  },
  {
   "cell_type": "code",
   "execution_count": 14,
   "metadata": {},
   "outputs": [
    {
     "name": "stdout",
     "output_type": "stream",
     "text": [
      "113ef208b1062829418c2e6f982f11bd4e85dce3235b8d3f5e1acad160ad2b70\n"
     ]
    }
   ],
   "source": [
    "merch_close_txid = subprocess.getoutput(\"bitcoin-cli -regtest sendrawtransaction \" + raw_merch_close_tx + \" true\")\n",
    "print(merch_close_txid)"
   ]
  },
  {
   "cell_type": "code",
   "execution_count": 15,
   "metadata": {},
   "outputs": [
    {
     "name": "stdout",
     "output_type": "stream",
     "text": [
      "{\n",
      "  \"txid\": \"113ef208b1062829418c2e6f982f11bd4e85dce3235b8d3f5e1acad160ad2b70\",\n",
      "  \"hash\": \"0a7ea351d5d5a70f8befba36776a6789fcdcac6d9db6ab12248cec043d74a130\",\n",
      "  \"version\": 2,\n",
      "  \"size\": 315,\n",
      "  \"vsize\": 150,\n",
      "  \"weight\": 597,\n",
      "  \"locktime\": 0,\n",
      "  \"vin\": [\n",
      "    {\n",
      "      \"txid\": \"5d7f37ce9a753a235dbc7b4bd9684f2280f71fa984b8a3556a956cec5f181200\",\n",
      "      \"vout\": 0,\n",
      "      \"scriptSig\": {\n",
      "        \"asm\": \"\",\n",
      "        \"hex\": \"\"\n",
      "      },\n",
      "      \"txinwitness\": [\n",
      "        \"\",\n",
      "        \"3044022047fd74fe53e6ce70daf2dff16299cb4f9afb98dabe70b763682b333a32402de10220572ae1832a4c8653e9f81d2470d1f880a3487257c7b9b15b039e5b1bf904ba7f01\",\n",
      "        \"3045022100c494f5a92cc65aa65afc84fbd2adcd500f6ab253cec7eb40709d791d87eaff84022004e9ad1d67f80df7d67b062975f82968309b1f10b601e2dd7bb5593cfd4f2a9901\",\n",
      "        \"522102f3d17ca1ac6dcf42b0297a71abb87f79dfa2c66278cbb99c1437e6570643ce902103fc43b44cd953c7b92726ebefe482a272538c7e40fdcde5994a62841525afa8d752ae\"\n",
      "      ],\n",
      "      \"sequence\": 4294967295\n",
      "    }\n",
      "  ],\n",
      "  \"vout\": [\n",
      "    {\n",
      "      \"value\": 10.10000000,\n",
      "      \"n\": 0,\n",
      "      \"scriptPubKey\": {\n",
      "        \"asm\": \"0 c3fae9ae705465ac132b128c84fc011be28c21bff28e165f7cfb776dfbb117ff\",\n",
      "        \"hex\": \"0020c3fae9ae705465ac132b128c84fc011be28c21bff28e165f7cfb776dfbb117ff\",\n",
      "        \"reqSigs\": 1,\n",
      "        \"type\": \"witness_v0_scripthash\",\n",
      "        \"addresses\": [\n",
      "          \"bcrt1qc0awntns23j6cyetz2xgflqpr03gcgdl728pvhmuldmkm7a3zllsja46jn\"\n",
      "        ]\n",
      "      }\n",
      "    }\n",
      "  ]\n",
      "}\n"
     ]
    }
   ],
   "source": [
    "merch_close_tx = subprocess.getoutput(\"bitcoin-cli -regtest getrawtransaction \" + merch_close_txid)\n",
    "decoded = subprocess.getoutput(\"bitcoin-cli -regtest decoderawtransaction \" + merch_close_tx)\n",
    "print(decoded)"
   ]
  },
  {
   "cell_type": "code",
   "execution_count": 16,
   "metadata": {},
   "outputs": [],
   "source": [
    "os.system(\"bitcoin-cli -regtest generate 1\");"
   ]
  },
  {
   "cell_type": "markdown",
   "metadata": {},
   "source": [
    "# cust-close from merch-close"
   ]
  },
  {
   "cell_type": "code",
   "execution_count": 19,
   "metadata": {},
   "outputs": [
    {
     "name": "stdout",
     "output_type": "stream",
     "text": [
      "02000000000101702bad60d1ca1a5e3f8d5b23e3dc854ebd112f986f2e8c41292806b108f23e110000000000ffffffff030008af2f0000000022002024fdfddacb774716169995d839b3eb07809a5133c4d4a6254615b113f2a4e82e00c2eb0b00000000160014d4354803d10e77eccfc3bf06c152ae694d05d3810000000000000000376a35bf1ad41a96ff238d0b6fee50c8e2cd5bd757ab8803195e272df2310ded35f9958fd0c2847bf73b5b429a716c005d465009bd768641050047304402206ac5eae1d57faed09453e1c99b2a756de93689dd1deea31d79ad08bb11a7976502204771ef4a3b0cc4ee7fd3ed695637f32951a790986a029d0840b84b10b2616e8d01483045022100b41637b87da1c6db0829ac245b442ce9b56988862331a508fdaf60bc83f173d70220443e3d0ded19dcf7106ed044581a8280c017d44f1e0508d69ae6b1bf6b7743970101017263522102f3d17ca1ac6dcf42b0297a71abb87f79dfa2c66278cbb99c1437e6570643ce902103fc43b44cd953c7b92726ebefe482a272538c7e40fdcde5994a62841525afa8d752ae6702cf05b275210342da23a1de903cd7a141a99b5e8051abfcd4d2d1b3c2112bac5c8997d9f12a00ac6800000000\n",
      "{\n",
      "  \"txid\": \"92b4cbfda81f0bc21dcbe2c4cb35667148cfdc833f5e5a878b1ce836df20ad44\",\n",
      "  \"hash\": \"0fe0171b543d2e47c239ec8a2b8cf5aaa1741646701f0462f46817700295b80c\",\n",
      "  \"version\": 2,\n",
      "  \"size\": 455,\n",
      "  \"vsize\": 256,\n",
      "  \"weight\": 1022,\n",
      "  \"locktime\": 0,\n",
      "  \"vin\": [\n",
      "    {\n",
      "      \"txid\": \"113ef208b1062829418c2e6f982f11bd4e85dce3235b8d3f5e1acad160ad2b70\",\n",
      "      \"vout\": 0,\n",
      "      \"scriptSig\": {\n",
      "        \"asm\": \"\",\n",
      "        \"hex\": \"\"\n",
      "      },\n",
      "      \"txinwitness\": [\n",
      "        \"\",\n",
      "        \"304402206ac5eae1d57faed09453e1c99b2a756de93689dd1deea31d79ad08bb11a7976502204771ef4a3b0cc4ee7fd3ed695637f32951a790986a029d0840b84b10b2616e8d01\",\n",
      "        \"3045022100b41637b87da1c6db0829ac245b442ce9b56988862331a508fdaf60bc83f173d70220443e3d0ded19dcf7106ed044581a8280c017d44f1e0508d69ae6b1bf6b77439701\",\n",
      "        \"01\",\n",
      "        \"63522102f3d17ca1ac6dcf42b0297a71abb87f79dfa2c66278cbb99c1437e6570643ce902103fc43b44cd953c7b92726ebefe482a272538c7e40fdcde5994a62841525afa8d752ae6702cf05b275210342da23a1de903cd7a141a99b5e8051abfcd4d2d1b3c2112bac5c8997d9f12a00ac68\"\n",
      "      ],\n",
      "      \"sequence\": 4294967295\n",
      "    }\n",
      "  ],\n",
      "  \"vout\": [\n",
      "    {\n",
      "      \"value\": 8.00000000,\n",
      "      \"n\": 0,\n",
      "      \"scriptPubKey\": {\n",
      "        \"asm\": \"0 24fdfddacb774716169995d839b3eb07809a5133c4d4a6254615b113f2a4e82e\",\n",
      "        \"hex\": \"002024fdfddacb774716169995d839b3eb07809a5133c4d4a6254615b113f2a4e82e\",\n",
      "        \"reqSigs\": 1,\n",
      "        \"type\": \"witness_v0_scripthash\",\n",
      "        \"addresses\": [\n",
      "          \"bcrt1qyn7lmkktwar3v95ejhvrnvltq7qf55fncn22vf2xzkc38u4yaqhqk6753n\"\n",
      "        ]\n",
      "      }\n",
      "    },\n",
      "    {\n",
      "      \"value\": 2.00000000,\n",
      "      \"n\": 1,\n",
      "      \"scriptPubKey\": {\n",
      "        \"asm\": \"0 d4354803d10e77eccfc3bf06c152ae694d05d381\",\n",
      "        \"hex\": \"0014d4354803d10e77eccfc3bf06c152ae694d05d381\",\n",
      "        \"reqSigs\": 1,\n",
      "        \"type\": \"witness_v0_keyhash\",\n",
      "        \"addresses\": [\n",
      "          \"bcrt1q6s65sq73pem7en7rhurvz54wd9xst5upjhlvwj\"\n",
      "        ]\n",
      "      }\n",
      "    },\n",
      "    {\n",
      "      \"value\": 0.00000000,\n",
      "      \"n\": 2,\n",
      "      \"scriptPubKey\": {\n",
      "        \"asm\": \"OP_RETURN bf1ad41a96ff238d0b6fee50c8e2cd5bd757ab8803195e272df2310ded35f9958fd0c2847bf73b5b429a716c005d465009bd768641\",\n",
      "        \"hex\": \"6a35bf1ad41a96ff238d0b6fee50c8e2cd5bd757ab8803195e272df2310ded35f9958fd0c2847bf73b5b429a716c005d465009bd768641\",\n",
      "        \"type\": \"nulldata\"\n",
      "      }\n",
      "    }\n",
      "  ]\n",
      "}\n"
     ]
    }
   ],
   "source": [
    "raw_cust_close_tx = subprocess.getoutput(\"python cust_close_from_merch_close.py\"        \n",
    "                + \" --cust_privkey \" + cust_privkey_hex \n",
    "                + \" --merch_privkey \" + merch_privkey_hex      \n",
    "                + \" --merch_close_pubkey \" + merch_close_pubkey_hex   \n",
    "                + \" --cust_close_pubkey \" + cust_close_pubkey_hex     \n",
    "                + \" --revocation_lock \" + revocation_lock_hex      \n",
    "                + \" --merch_disp_pubkey \" + merch_disp_pubkey_hex     \n",
    "                + \" --to_self_delay \" + \"05cf\" # number of blocks to delay to-self output       \n",
    "                + \" --txid \" + merch_close_txid\n",
    "                + \" --index \" + \"0\"\n",
    "                + \" --amount_btc \" + \"10.1\"\n",
    "                + \" --script_output_btc \" + \"8\"\n",
    "                + \" --merch_output_btc \" + \"2\")\n",
    "print(raw_cust_close_tx)\n",
    "\n",
    "# decoded = subprocess.getoutput(\"bitcoin-cli -regtest decoderawtransaction \" + raw_cust_close_tx)\n",
    "# print(decoded)"
   ]
  },
  {
   "cell_type": "code",
   "execution_count": 20,
   "metadata": {},
   "outputs": [
    {
     "name": "stdout",
     "output_type": "stream",
     "text": [
      "92b4cbfda81f0bc21dcbe2c4cb35667148cfdc833f5e5a878b1ce836df20ad44\n"
     ]
    }
   ],
   "source": [
    "cust_close_txid = subprocess.getoutput(\"bitcoin-cli -regtest sendrawtransaction \" + raw_cust_close_tx + \" true\")\n",
    "print(cust_close_txid)"
   ]
  },
  {
   "cell_type": "code",
   "execution_count": 21,
   "metadata": {},
   "outputs": [
    {
     "name": "stdout",
     "output_type": "stream",
     "text": [
      "{\n",
      "  \"txid\": \"92b4cbfda81f0bc21dcbe2c4cb35667148cfdc833f5e5a878b1ce836df20ad44\",\n",
      "  \"hash\": \"0fe0171b543d2e47c239ec8a2b8cf5aaa1741646701f0462f46817700295b80c\",\n",
      "  \"version\": 2,\n",
      "  \"size\": 455,\n",
      "  \"vsize\": 256,\n",
      "  \"weight\": 1022,\n",
      "  \"locktime\": 0,\n",
      "  \"vin\": [\n",
      "    {\n",
      "      \"txid\": \"113ef208b1062829418c2e6f982f11bd4e85dce3235b8d3f5e1acad160ad2b70\",\n",
      "      \"vout\": 0,\n",
      "      \"scriptSig\": {\n",
      "        \"asm\": \"\",\n",
      "        \"hex\": \"\"\n",
      "      },\n",
      "      \"txinwitness\": [\n",
      "        \"\",\n",
      "        \"304402206ac5eae1d57faed09453e1c99b2a756de93689dd1deea31d79ad08bb11a7976502204771ef4a3b0cc4ee7fd3ed695637f32951a790986a029d0840b84b10b2616e8d01\",\n",
      "        \"3045022100b41637b87da1c6db0829ac245b442ce9b56988862331a508fdaf60bc83f173d70220443e3d0ded19dcf7106ed044581a8280c017d44f1e0508d69ae6b1bf6b77439701\",\n",
      "        \"01\",\n",
      "        \"63522102f3d17ca1ac6dcf42b0297a71abb87f79dfa2c66278cbb99c1437e6570643ce902103fc43b44cd953c7b92726ebefe482a272538c7e40fdcde5994a62841525afa8d752ae6702cf05b275210342da23a1de903cd7a141a99b5e8051abfcd4d2d1b3c2112bac5c8997d9f12a00ac68\"\n",
      "      ],\n",
      "      \"sequence\": 4294967295\n",
      "    }\n",
      "  ],\n",
      "  \"vout\": [\n",
      "    {\n",
      "      \"value\": 8.00000000,\n",
      "      \"n\": 0,\n",
      "      \"scriptPubKey\": {\n",
      "        \"asm\": \"0 24fdfddacb774716169995d839b3eb07809a5133c4d4a6254615b113f2a4e82e\",\n",
      "        \"hex\": \"002024fdfddacb774716169995d839b3eb07809a5133c4d4a6254615b113f2a4e82e\",\n",
      "        \"reqSigs\": 1,\n",
      "        \"type\": \"witness_v0_scripthash\",\n",
      "        \"addresses\": [\n",
      "          \"bcrt1qyn7lmkktwar3v95ejhvrnvltq7qf55fncn22vf2xzkc38u4yaqhqk6753n\"\n",
      "        ]\n",
      "      }\n",
      "    },\n",
      "    {\n",
      "      \"value\": 2.00000000,\n",
      "      \"n\": 1,\n",
      "      \"scriptPubKey\": {\n",
      "        \"asm\": \"0 d4354803d10e77eccfc3bf06c152ae694d05d381\",\n",
      "        \"hex\": \"0014d4354803d10e77eccfc3bf06c152ae694d05d381\",\n",
      "        \"reqSigs\": 1,\n",
      "        \"type\": \"witness_v0_keyhash\",\n",
      "        \"addresses\": [\n",
      "          \"bcrt1q6s65sq73pem7en7rhurvz54wd9xst5upjhlvwj\"\n",
      "        ]\n",
      "      }\n",
      "    },\n",
      "    {\n",
      "      \"value\": 0.00000000,\n",
      "      \"n\": 2,\n",
      "      \"scriptPubKey\": {\n",
      "        \"asm\": \"OP_RETURN bf1ad41a96ff238d0b6fee50c8e2cd5bd757ab8803195e272df2310ded35f9958fd0c2847bf73b5b429a716c005d465009bd768641\",\n",
      "        \"hex\": \"6a35bf1ad41a96ff238d0b6fee50c8e2cd5bd757ab8803195e272df2310ded35f9958fd0c2847bf73b5b429a716c005d465009bd768641\",\n",
      "        \"type\": \"nulldata\"\n",
      "      }\n",
      "    }\n",
      "  ]\n",
      "}\n"
     ]
    }
   ],
   "source": [
    "cust_close_tx = subprocess.getoutput(\"bitcoin-cli -regtest getrawtransaction \" + cust_close_txid)\n",
    "decoded = subprocess.getoutput(\"bitcoin-cli -regtest decoderawtransaction \" + cust_close_tx)\n",
    "print(decoded)"
   ]
  },
  {
   "cell_type": "code",
   "execution_count": 22,
   "metadata": {},
   "outputs": [],
   "source": [
    "os.system(\"bitcoin-cli -regtest generate 1\");"
   ]
  },
  {
   "cell_type": "code",
   "execution_count": 27,
   "metadata": {},
   "outputs": [
    {
     "name": "stdout",
     "output_type": "stream",
     "text": [
      "0200000000010144ad20df36e81c8b875a5e3f83dccf48716635cbc4e2cb1dc20b1fa8fdcbb4920000000000ffffffff018071162f00000000160014b7cfef435e3701fdedb7a11164ae44d561698bb904483045022100914931ef9cf744c762e1462601b108bfd3b6b2afadd2e2e3d3b1f64c02c3622402200f2870ab3256e804083300711dbcd050ded4239fa9387bd07d0673e9885050de0120401111111111111111111111111111111111111111111111111111111111111101016463a914bf1ad41a96ff238d0b6fee50c8e2cd5bd757ab8888210253be79afe84fd9342c1f52024379b6da6299ea98844aee23838e8e678a765f7c6702cf05b2752103195e272df2310ded35f9958fd0c2847bf73b5b429a716c005d465009bd76864168ac00000000\n",
      "{\n",
      "  \"txid\": \"ee4ed5f09a1d623919b89c3e2978c4ae2819c2f9f6039fb4b5f237f669828a55\",\n",
      "  \"hash\": \"a32341d4f8e10fbb13a44cf0bf69d1a2f4f4608fe95c24ed541b536e34fe02fb\",\n",
      "  \"version\": 2,\n",
      "  \"size\": 294,\n",
      "  \"vsize\": 135,\n",
      "  \"weight\": 540,\n",
      "  \"locktime\": 0,\n",
      "  \"vin\": [\n",
      "    {\n",
      "      \"txid\": \"92b4cbfda81f0bc21dcbe2c4cb35667148cfdc833f5e5a878b1ce836df20ad44\",\n",
      "      \"vout\": 0,\n",
      "      \"scriptSig\": {\n",
      "        \"asm\": \"\",\n",
      "        \"hex\": \"\"\n",
      "      },\n",
      "      \"txinwitness\": [\n",
      "        \"3045022100914931ef9cf744c762e1462601b108bfd3b6b2afadd2e2e3d3b1f64c02c3622402200f2870ab3256e804083300711dbcd050ded4239fa9387bd07d0673e9885050de01\",\n",
      "        \"4011111111111111111111111111111111111111111111111111111111111111\",\n",
      "        \"01\",\n",
      "        \"63a914bf1ad41a96ff238d0b6fee50c8e2cd5bd757ab8888210253be79afe84fd9342c1f52024379b6da6299ea98844aee23838e8e678a765f7c6702cf05b2752103195e272df2310ded35f9958fd0c2847bf73b5b429a716c005d465009bd76864168ac\"\n",
      "      ],\n",
      "      \"sequence\": 4294967295\n",
      "    }\n",
      "  ],\n",
      "  \"vout\": [\n",
      "    {\n",
      "      \"value\": 7.90000000,\n",
      "      \"n\": 0,\n",
      "      \"scriptPubKey\": {\n",
      "        \"asm\": \"0 b7cfef435e3701fdedb7a11164ae44d561698bb9\",\n",
      "        \"hex\": \"0014b7cfef435e3701fdedb7a11164ae44d561698bb9\",\n",
      "        \"reqSigs\": 1,\n",
      "        \"type\": \"witness_v0_keyhash\",\n",
      "        \"addresses\": [\n",
      "          \"bcrt1qkl877s67xuqlmmdh5ygkftjy64sknzaemq853c\"\n",
      "        ]\n",
      "      }\n",
      "    }\n",
      "  ]\n",
      "}\n"
     ]
    }
   ],
   "source": [
    "raw_merch_dispute_tx = subprocess.getoutput(\"python merch_dispute.py\"   \n",
    "                + \" --merch_disp_privkey \" + merch_disp_privkey_hex \n",
    "                + \" --revocation_secret \" + revocation_secret_hex \n",
    "                + \" --cust_close_pubkey \" + cust_close_pubkey_hex   \n",
    "                + \" --output_pubkey \" + \"024596d7b33733c28101dbc6c85901dffaed0cdac63ab0b2ea141217d1990ad4b1\"    \n",
    "                + \" --to_self_delay \" + \"05cf\" # number of blocks to delay to-self output         \n",
    "                + \" --txid \" + cust_close_txid\n",
    "                + \" --index \" + \"0\"\n",
    "                + \" --amount_btc \" + \"8\"\n",
    "                + \" --output_btc \" + \"7.9\")\n",
    "print(raw_merch_dispute_tx)\n",
    "\n",
    "# decoded = subprocess.getoutput(\"bitcoin-cli -regtest decoderawtransaction \" + raw_merch_dispute_tx)\n",
    "# print(decoded)"
   ]
  },
  {
   "cell_type": "code",
   "execution_count": 28,
   "metadata": {},
   "outputs": [
    {
     "name": "stdout",
     "output_type": "stream",
     "text": [
      "ee4ed5f09a1d623919b89c3e2978c4ae2819c2f9f6039fb4b5f237f669828a55\n"
     ]
    }
   ],
   "source": [
    "merch_dispute_txid = subprocess.getoutput(\"bitcoin-cli -regtest sendrawtransaction \" + raw_merch_dispute_tx + \" true\")\n",
    "print(merch_dispute_txid)"
   ]
  },
  {
   "cell_type": "code",
   "execution_count": 29,
   "metadata": {},
   "outputs": [
    {
     "name": "stdout",
     "output_type": "stream",
     "text": [
      "{\n",
      "  \"txid\": \"ee4ed5f09a1d623919b89c3e2978c4ae2819c2f9f6039fb4b5f237f669828a55\",\n",
      "  \"hash\": \"a32341d4f8e10fbb13a44cf0bf69d1a2f4f4608fe95c24ed541b536e34fe02fb\",\n",
      "  \"version\": 2,\n",
      "  \"size\": 294,\n",
      "  \"vsize\": 135,\n",
      "  \"weight\": 540,\n",
      "  \"locktime\": 0,\n",
      "  \"vin\": [\n",
      "    {\n",
      "      \"txid\": \"92b4cbfda81f0bc21dcbe2c4cb35667148cfdc833f5e5a878b1ce836df20ad44\",\n",
      "      \"vout\": 0,\n",
      "      \"scriptSig\": {\n",
      "        \"asm\": \"\",\n",
      "        \"hex\": \"\"\n",
      "      },\n",
      "      \"txinwitness\": [\n",
      "        \"3045022100914931ef9cf744c762e1462601b108bfd3b6b2afadd2e2e3d3b1f64c02c3622402200f2870ab3256e804083300711dbcd050ded4239fa9387bd07d0673e9885050de01\",\n",
      "        \"4011111111111111111111111111111111111111111111111111111111111111\",\n",
      "        \"01\",\n",
      "        \"63a914bf1ad41a96ff238d0b6fee50c8e2cd5bd757ab8888210253be79afe84fd9342c1f52024379b6da6299ea98844aee23838e8e678a765f7c6702cf05b2752103195e272df2310ded35f9958fd0c2847bf73b5b429a716c005d465009bd76864168ac\"\n",
      "      ],\n",
      "      \"sequence\": 4294967295\n",
      "    }\n",
      "  ],\n",
      "  \"vout\": [\n",
      "    {\n",
      "      \"value\": 7.90000000,\n",
      "      \"n\": 0,\n",
      "      \"scriptPubKey\": {\n",
      "        \"asm\": \"0 b7cfef435e3701fdedb7a11164ae44d561698bb9\",\n",
      "        \"hex\": \"0014b7cfef435e3701fdedb7a11164ae44d561698bb9\",\n",
      "        \"reqSigs\": 1,\n",
      "        \"type\": \"witness_v0_keyhash\",\n",
      "        \"addresses\": [\n",
      "          \"bcrt1qkl877s67xuqlmmdh5ygkftjy64sknzaemq853c\"\n",
      "        ]\n",
      "      }\n",
      "    }\n",
      "  ]\n",
      "}\n"
     ]
    }
   ],
   "source": [
    "merch_dispute_tx = subprocess.getoutput(\"bitcoin-cli -regtest getrawtransaction \" + merch_dispute_txid)\n",
    "decoded = subprocess.getoutput(\"bitcoin-cli -regtest decoderawtransaction \" + merch_dispute_tx)\n",
    "print(decoded)"
   ]
  },
  {
   "cell_type": "code",
   "execution_count": null,
   "metadata": {},
   "outputs": [],
   "source": [
    "os.system(\"bitcoin-cli -regtest stop\")\n",
    "time.sleep(1.5) "
   ]
  },
  {
   "cell_type": "code",
   "execution_count": null,
   "metadata": {},
   "outputs": [],
   "source": []
  }
 ],
 "metadata": {
  "kernelspec": {
   "display_name": "Python 3",
   "language": "python",
   "name": "python3"
  },
  "language_info": {
   "codemirror_mode": {
    "name": "ipython",
    "version": 3
   },
   "file_extension": ".py",
   "mimetype": "text/x-python",
   "name": "python",
   "nbconvert_exporter": "python",
   "pygments_lexer": "ipython3",
   "version": "3.6.8"
  }
 },
 "nbformat": 4,
 "nbformat_minor": 2
}
